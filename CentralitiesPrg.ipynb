{
 "cells": [
  {
   "cell_type": "code",
   "execution_count": 2,
   "metadata": {},
   "outputs": [
    {
     "name": "stderr",
     "output_type": "stream",
     "text": [
      "C:\\Users\\Bhargavi\\AppData\\Local\\Temp\\ipykernel_21392\\255523458.py:21: FutureWarning: In a future version of pandas all arguments of DataFrame.drop except for the argument 'labels' will be keyword-only.\n",
      "  df2.drop(df2.columns.difference(['Node',degree_cent]), 1, inplace=True)\n"
     ]
    },
    {
     "name": "stdout",
     "output_type": "stream",
     "text": [
      "1    191\n",
      "3      1\n",
      "2      1\n",
      "Name: Label, dtype: int64\n"
     ]
    },
    {
     "name": "stderr",
     "output_type": "stream",
     "text": [
      "C:\\Users\\Bhargavi\\anaconda3\\lib\\site-packages\\sklearn\\metrics\\_classification.py:1318: UndefinedMetricWarning: Precision is ill-defined and being set to 0.0 in labels with no predicted samples. Use `zero_division` parameter to control this behavior.\n",
      "  _warn_prf(average, modifier, msg_start, len(result))\n",
      "C:\\Users\\Bhargavi\\AppData\\Local\\Temp\\ipykernel_21392\\255523458.py:21: FutureWarning: In a future version of pandas all arguments of DataFrame.drop except for the argument 'labels' will be keyword-only.\n",
      "  df2.drop(df2.columns.difference(['Node',degree_cent]), 1, inplace=True)\n"
     ]
    },
    {
     "name": "stdout",
     "output_type": "stream",
     "text": [
      "1    184\n",
      "2      6\n",
      "3      2\n",
      "6      1\n",
      "Name: Label, dtype: int64\n"
     ]
    },
    {
     "name": "stderr",
     "output_type": "stream",
     "text": [
      "C:\\Users\\Bhargavi\\anaconda3\\lib\\site-packages\\sklearn\\metrics\\_classification.py:1318: UndefinedMetricWarning: Precision is ill-defined and being set to 0.0 in labels with no predicted samples. Use `zero_division` parameter to control this behavior.\n",
      "  _warn_prf(average, modifier, msg_start, len(result))\n",
      "C:\\Users\\Bhargavi\\AppData\\Local\\Temp\\ipykernel_21392\\255523458.py:21: FutureWarning: In a future version of pandas all arguments of DataFrame.drop except for the argument 'labels' will be keyword-only.\n",
      "  df2.drop(df2.columns.difference(['Node',degree_cent]), 1, inplace=True)\n"
     ]
    },
    {
     "name": "stdout",
     "output_type": "stream",
     "text": [
      "1     176\n",
      "2       8\n",
      "3       6\n",
      "5       1\n",
      "11      1\n",
      "6       1\n",
      "Name: Label, dtype: int64\n"
     ]
    },
    {
     "name": "stderr",
     "output_type": "stream",
     "text": [
      "C:\\Users\\Bhargavi\\anaconda3\\lib\\site-packages\\sklearn\\metrics\\_classification.py:1318: UndefinedMetricWarning: Precision is ill-defined and being set to 0.0 in labels with no predicted samples. Use `zero_division` parameter to control this behavior.\n",
      "  _warn_prf(average, modifier, msg_start, len(result))\n",
      "C:\\Users\\Bhargavi\\anaconda3\\lib\\site-packages\\sklearn\\metrics\\_classification.py:1318: UndefinedMetricWarning: Recall is ill-defined and being set to 0.0 in labels with no true samples. Use `zero_division` parameter to control this behavior.\n",
      "  _warn_prf(average, modifier, msg_start, len(result))\n",
      "C:\\Users\\Bhargavi\\AppData\\Local\\Temp\\ipykernel_21392\\255523458.py:21: FutureWarning: In a future version of pandas all arguments of DataFrame.drop except for the argument 'labels' will be keyword-only.\n",
      "  df2.drop(df2.columns.difference(['Node',degree_cent]), 1, inplace=True)\n"
     ]
    },
    {
     "name": "stdout",
     "output_type": "stream",
     "text": [
      "1     156\n",
      "2      20\n",
      "3       4\n",
      "4       4\n",
      "5       3\n",
      "6       3\n",
      "9       1\n",
      "21      1\n",
      "11      1\n",
      "Name: Label, dtype: int64\n"
     ]
    },
    {
     "name": "stderr",
     "output_type": "stream",
     "text": [
      "C:\\Users\\Bhargavi\\anaconda3\\lib\\site-packages\\sklearn\\metrics\\_classification.py:1318: UndefinedMetricWarning: Precision is ill-defined and being set to 0.0 in labels with no predicted samples. Use `zero_division` parameter to control this behavior.\n",
      "  _warn_prf(average, modifier, msg_start, len(result))\n",
      "C:\\Users\\Bhargavi\\anaconda3\\lib\\site-packages\\sklearn\\metrics\\_classification.py:1318: UndefinedMetricWarning: Recall is ill-defined and being set to 0.0 in labels with no true samples. Use `zero_division` parameter to control this behavior.\n",
      "  _warn_prf(average, modifier, msg_start, len(result))\n",
      "C:\\Users\\Bhargavi\\AppData\\Local\\Temp\\ipykernel_21392\\255523458.py:21: FutureWarning: In a future version of pandas all arguments of DataFrame.drop except for the argument 'labels' will be keyword-only.\n",
      "  df2.drop(df2.columns.difference(['Node',degree_cent]), 1, inplace=True)\n"
     ]
    },
    {
     "name": "stdout",
     "output_type": "stream",
     "text": [
      "1     139\n",
      "2      25\n",
      "3      12\n",
      "6       4\n",
      "7       3\n",
      "5       3\n",
      "9       2\n",
      "13      1\n",
      "30      1\n",
      "8       1\n",
      "4       1\n",
      "16      1\n",
      "Name: Label, dtype: int64\n"
     ]
    },
    {
     "name": "stderr",
     "output_type": "stream",
     "text": [
      "C:\\Users\\Bhargavi\\anaconda3\\lib\\site-packages\\sklearn\\metrics\\_classification.py:1318: UndefinedMetricWarning: Precision is ill-defined and being set to 0.0 in labels with no predicted samples. Use `zero_division` parameter to control this behavior.\n",
      "  _warn_prf(average, modifier, msg_start, len(result))\n",
      "C:\\Users\\Bhargavi\\anaconda3\\lib\\site-packages\\sklearn\\metrics\\_classification.py:1318: UndefinedMetricWarning: Recall is ill-defined and being set to 0.0 in labels with no true samples. Use `zero_division` parameter to control this behavior.\n",
      "  _warn_prf(average, modifier, msg_start, len(result))\n",
      "C:\\Users\\Bhargavi\\AppData\\Local\\Temp\\ipykernel_21392\\255523458.py:21: FutureWarning: In a future version of pandas all arguments of DataFrame.drop except for the argument 'labels' will be keyword-only.\n",
      "  df2.drop(df2.columns.difference(['Node',degree_cent]), 1, inplace=True)\n"
     ]
    },
    {
     "name": "stdout",
     "output_type": "stream",
     "text": [
      "1     127\n",
      "2      29\n",
      "3      11\n",
      "4       9\n",
      "6       4\n",
      "8       3\n",
      "9       2\n",
      "12      2\n",
      "18      1\n",
      "7       1\n",
      "41      1\n",
      "11      1\n",
      "10      1\n",
      "21      1\n",
      "Name: Label, dtype: int64\n"
     ]
    },
    {
     "name": "stderr",
     "output_type": "stream",
     "text": [
      "C:\\Users\\Bhargavi\\anaconda3\\lib\\site-packages\\sklearn\\metrics\\_classification.py:1318: UndefinedMetricWarning: Precision is ill-defined and being set to 0.0 in labels with no predicted samples. Use `zero_division` parameter to control this behavior.\n",
      "  _warn_prf(average, modifier, msg_start, len(result))\n",
      "C:\\Users\\Bhargavi\\anaconda3\\lib\\site-packages\\sklearn\\metrics\\_classification.py:1318: UndefinedMetricWarning: Recall is ill-defined and being set to 0.0 in labels with no true samples. Use `zero_division` parameter to control this behavior.\n",
      "  _warn_prf(average, modifier, msg_start, len(result))\n",
      "C:\\Users\\Bhargavi\\AppData\\Local\\Temp\\ipykernel_21392\\255523458.py:21: FutureWarning: In a future version of pandas all arguments of DataFrame.drop except for the argument 'labels' will be keyword-only.\n",
      "  df2.drop(df2.columns.difference(['Node',degree_cent]), 1, inplace=True)\n"
     ]
    },
    {
     "name": "stdout",
     "output_type": "stream",
     "text": [
      "1     117\n",
      "2      30\n",
      "4      13\n",
      "3      11\n",
      "5       5\n",
      "8       3\n",
      "11      2\n",
      "15      2\n",
      "9       2\n",
      "10      2\n",
      "22      1\n",
      "50      1\n",
      "13      1\n",
      "12      1\n",
      "7       1\n",
      "27      1\n",
      "Name: Label, dtype: int64\n"
     ]
    },
    {
     "name": "stderr",
     "output_type": "stream",
     "text": [
      "C:\\Users\\Bhargavi\\anaconda3\\lib\\site-packages\\sklearn\\metrics\\_classification.py:1318: UndefinedMetricWarning: Precision is ill-defined and being set to 0.0 in labels with no predicted samples. Use `zero_division` parameter to control this behavior.\n",
      "  _warn_prf(average, modifier, msg_start, len(result))\n",
      "C:\\Users\\Bhargavi\\anaconda3\\lib\\site-packages\\sklearn\\metrics\\_classification.py:1318: UndefinedMetricWarning: Recall is ill-defined and being set to 0.0 in labels with no true samples. Use `zero_division` parameter to control this behavior.\n",
      "  _warn_prf(average, modifier, msg_start, len(result))\n",
      "C:\\Users\\Bhargavi\\AppData\\Local\\Temp\\ipykernel_21392\\255523458.py:21: FutureWarning: In a future version of pandas all arguments of DataFrame.drop except for the argument 'labels' will be keyword-only.\n",
      "  df2.drop(df2.columns.difference(['Node',degree_cent]), 1, inplace=True)\n"
     ]
    },
    {
     "name": "stdout",
     "output_type": "stream",
     "text": [
      "1     96\n",
      "2     43\n",
      "3     17\n",
      "4      8\n",
      "5      7\n",
      "6      5\n",
      "9      3\n",
      "18     2\n",
      "11     2\n",
      "12     2\n",
      "14     2\n",
      "26     1\n",
      "32     1\n",
      "8      1\n",
      "60     1\n",
      "13     1\n",
      "16     1\n",
      "Name: Label, dtype: int64\n"
     ]
    },
    {
     "name": "stderr",
     "output_type": "stream",
     "text": [
      "C:\\Users\\Bhargavi\\anaconda3\\lib\\site-packages\\sklearn\\metrics\\_classification.py:1318: UndefinedMetricWarning: Precision is ill-defined and being set to 0.0 in labels with no predicted samples. Use `zero_division` parameter to control this behavior.\n",
      "  _warn_prf(average, modifier, msg_start, len(result))\n",
      "C:\\Users\\Bhargavi\\anaconda3\\lib\\site-packages\\sklearn\\metrics\\_classification.py:1318: UndefinedMetricWarning: Recall is ill-defined and being set to 0.0 in labels with no true samples. Use `zero_division` parameter to control this behavior.\n",
      "  _warn_prf(average, modifier, msg_start, len(result))\n",
      "C:\\Users\\Bhargavi\\AppData\\Local\\Temp\\ipykernel_21392\\255523458.py:21: FutureWarning: In a future version of pandas all arguments of DataFrame.drop except for the argument 'labels' will be keyword-only.\n",
      "  df2.drop(df2.columns.difference(['Node',degree_cent]), 1, inplace=True)\n"
     ]
    },
    {
     "name": "stdout",
     "output_type": "stream",
     "text": [
      "1     96\n",
      "2     31\n",
      "3     25\n",
      "6      8\n",
      "5      7\n",
      "4      6\n",
      "7      3\n",
      "21     2\n",
      "10     2\n",
      "14     2\n",
      "37     1\n",
      "11     1\n",
      "31     1\n",
      "9      1\n",
      "16     1\n",
      "13     1\n",
      "18     1\n",
      "70     1\n",
      "15     1\n",
      "12     1\n",
      "17     1\n",
      "Name: Label, dtype: int64\n"
     ]
    },
    {
     "name": "stderr",
     "output_type": "stream",
     "text": [
      "C:\\Users\\Bhargavi\\anaconda3\\lib\\site-packages\\sklearn\\metrics\\_classification.py:1318: UndefinedMetricWarning: Precision is ill-defined and being set to 0.0 in labels with no predicted samples. Use `zero_division` parameter to control this behavior.\n",
      "  _warn_prf(average, modifier, msg_start, len(result))\n",
      "C:\\Users\\Bhargavi\\anaconda3\\lib\\site-packages\\sklearn\\metrics\\_classification.py:1318: UndefinedMetricWarning: Recall is ill-defined and being set to 0.0 in labels with no true samples. Use `zero_division` parameter to control this behavior.\n",
      "  _warn_prf(average, modifier, msg_start, len(result))\n",
      "C:\\Users\\Bhargavi\\AppData\\Local\\Temp\\ipykernel_21392\\255523458.py:21: FutureWarning: In a future version of pandas all arguments of DataFrame.drop except for the argument 'labels' will be keyword-only.\n",
      "  df2.drop(df2.columns.difference(['Node',degree_cent]), 1, inplace=True)\n"
     ]
    },
    {
     "name": "stdout",
     "output_type": "stream",
     "text": [
      "1     96\n",
      "2     31\n",
      "3     20\n",
      "4      9\n",
      "5      8\n",
      "7      6\n",
      "12     3\n",
      "6      3\n",
      "8      3\n",
      "16     2\n",
      "11     1\n",
      "42     1\n",
      "35     1\n",
      "18     1\n",
      "15     1\n",
      "21     1\n",
      "81     1\n",
      "17     1\n",
      "14     1\n",
      "23     1\n",
      "24     1\n",
      "19     1\n",
      "Name: Label, dtype: int64\n"
     ]
    },
    {
     "name": "stderr",
     "output_type": "stream",
     "text": [
      "C:\\Users\\Bhargavi\\anaconda3\\lib\\site-packages\\sklearn\\metrics\\_classification.py:1318: UndefinedMetricWarning: Precision is ill-defined and being set to 0.0 in labels with no predicted samples. Use `zero_division` parameter to control this behavior.\n",
      "  _warn_prf(average, modifier, msg_start, len(result))\n",
      "C:\\Users\\Bhargavi\\anaconda3\\lib\\site-packages\\sklearn\\metrics\\_classification.py:1318: UndefinedMetricWarning: Recall is ill-defined and being set to 0.0 in labels with no true samples. Use `zero_division` parameter to control this behavior.\n",
      "  _warn_prf(average, modifier, msg_start, len(result))\n",
      "C:\\Users\\Bhargavi\\AppData\\Local\\Temp\\ipykernel_21392\\255523458.py:21: FutureWarning: In a future version of pandas all arguments of DataFrame.drop except for the argument 'labels' will be keyword-only.\n",
      "  df2.drop(df2.columns.difference(['Node',degree_cent]), 1, inplace=True)\n"
     ]
    },
    {
     "name": "stdout",
     "output_type": "stream",
     "text": [
      "1     74\n",
      "2     43\n",
      "3     22\n",
      "4     13\n",
      "5      6\n",
      "8      6\n",
      "6      6\n",
      "7      3\n",
      "9      3\n",
      "13     2\n",
      "16     2\n",
      "18     2\n",
      "14     1\n",
      "39     1\n",
      "48     1\n",
      "20     1\n",
      "21     1\n",
      "24     1\n",
      "90     1\n",
      "19     1\n",
      "26     1\n",
      "27     1\n",
      "12     1\n",
      "Name: Label, dtype: int64\n"
     ]
    },
    {
     "name": "stderr",
     "output_type": "stream",
     "text": [
      "C:\\Users\\Bhargavi\\anaconda3\\lib\\site-packages\\sklearn\\metrics\\_classification.py:1318: UndefinedMetricWarning: Precision is ill-defined and being set to 0.0 in labels with no predicted samples. Use `zero_division` parameter to control this behavior.\n",
      "  _warn_prf(average, modifier, msg_start, len(result))\n",
      "C:\\Users\\Bhargavi\\anaconda3\\lib\\site-packages\\sklearn\\metrics\\_classification.py:1318: UndefinedMetricWarning: Recall is ill-defined and being set to 0.0 in labels with no true samples. Use `zero_division` parameter to control this behavior.\n",
      "  _warn_prf(average, modifier, msg_start, len(result))\n",
      "C:\\Users\\Bhargavi\\AppData\\Local\\Temp\\ipykernel_21392\\255523458.py:21: FutureWarning: In a future version of pandas all arguments of DataFrame.drop except for the argument 'labels' will be keyword-only.\n",
      "  df2.drop(df2.columns.difference(['Node',degree_cent]), 1, inplace=True)\n"
     ]
    },
    {
     "name": "stdout",
     "output_type": "stream",
     "text": [
      "1      74\n",
      "2      43\n",
      "4      20\n",
      "3      10\n",
      "5       9\n",
      "7       7\n",
      "8       6\n",
      "15      3\n",
      "10      3\n",
      "18      2\n",
      "19      2\n",
      "6       2\n",
      "9       2\n",
      "44      1\n",
      "53      1\n",
      "22      1\n",
      "24      1\n",
      "26      1\n",
      "100     1\n",
      "21      1\n",
      "29      1\n",
      "30      1\n",
      "13      1\n",
      "Name: Label, dtype: int64\n"
     ]
    },
    {
     "name": "stderr",
     "output_type": "stream",
     "text": [
      "C:\\Users\\Bhargavi\\anaconda3\\lib\\site-packages\\sklearn\\metrics\\_classification.py:1318: UndefinedMetricWarning: Precision is ill-defined and being set to 0.0 in labels with no predicted samples. Use `zero_division` parameter to control this behavior.\n",
      "  _warn_prf(average, modifier, msg_start, len(result))\n",
      "C:\\Users\\Bhargavi\\anaconda3\\lib\\site-packages\\sklearn\\metrics\\_classification.py:1318: UndefinedMetricWarning: Recall is ill-defined and being set to 0.0 in labels with no true samples. Use `zero_division` parameter to control this behavior.\n",
      "  _warn_prf(average, modifier, msg_start, len(result))\n",
      "C:\\Users\\Bhargavi\\AppData\\Local\\Temp\\ipykernel_21392\\255523458.py:21: FutureWarning: In a future version of pandas all arguments of DataFrame.drop except for the argument 'labels' will be keyword-only.\n",
      "  df2.drop(df2.columns.difference(['Node',degree_cent]), 1, inplace=True)\n"
     ]
    },
    {
     "name": "stdout",
     "output_type": "stream",
     "text": [
      "1    192\n",
      "3      1\n",
      "Name: Label, dtype: int64\n"
     ]
    },
    {
     "name": "stderr",
     "output_type": "stream",
     "text": [
      "C:\\Users\\Bhargavi\\anaconda3\\lib\\site-packages\\sklearn\\metrics\\_classification.py:1318: UndefinedMetricWarning: Precision is ill-defined and being set to 0.0 in labels with no predicted samples. Use `zero_division` parameter to control this behavior.\n",
      "  _warn_prf(average, modifier, msg_start, len(result))\n",
      "C:\\Users\\Bhargavi\\AppData\\Local\\Temp\\ipykernel_21392\\255523458.py:21: FutureWarning: In a future version of pandas all arguments of DataFrame.drop except for the argument 'labels' will be keyword-only.\n",
      "  df2.drop(df2.columns.difference(['Node',degree_cent]), 1, inplace=True)\n"
     ]
    },
    {
     "name": "stdout",
     "output_type": "stream",
     "text": [
      "1    190\n",
      "2      2\n",
      "5      1\n",
      "Name: Label, dtype: int64\n"
     ]
    },
    {
     "name": "stderr",
     "output_type": "stream",
     "text": [
      "C:\\Users\\Bhargavi\\anaconda3\\lib\\site-packages\\sklearn\\metrics\\_classification.py:1318: UndefinedMetricWarning: Precision is ill-defined and being set to 0.0 in labels with no predicted samples. Use `zero_division` parameter to control this behavior.\n",
      "  _warn_prf(average, modifier, msg_start, len(result))\n",
      "C:\\Users\\Bhargavi\\AppData\\Local\\Temp\\ipykernel_21392\\255523458.py:21: FutureWarning: In a future version of pandas all arguments of DataFrame.drop except for the argument 'labels' will be keyword-only.\n",
      "  df2.drop(df2.columns.difference(['Node',degree_cent]), 1, inplace=True)\n"
     ]
    },
    {
     "name": "stdout",
     "output_type": "stream",
     "text": [
      "1     186\n",
      "2       4\n",
      "3       2\n",
      "10      1\n",
      "Name: Label, dtype: int64\n"
     ]
    },
    {
     "name": "stderr",
     "output_type": "stream",
     "text": [
      "C:\\Users\\Bhargavi\\anaconda3\\lib\\site-packages\\sklearn\\metrics\\_classification.py:1318: UndefinedMetricWarning: Precision is ill-defined and being set to 0.0 in labels with no predicted samples. Use `zero_division` parameter to control this behavior.\n",
      "  _warn_prf(average, modifier, msg_start, len(result))\n",
      "C:\\Users\\Bhargavi\\AppData\\Local\\Temp\\ipykernel_21392\\255523458.py:21: FutureWarning: In a future version of pandas all arguments of DataFrame.drop except for the argument 'labels' will be keyword-only.\n",
      "  df2.drop(df2.columns.difference(['Node',degree_cent]), 1, inplace=True)\n"
     ]
    },
    {
     "name": "stdout",
     "output_type": "stream",
     "text": [
      "1     179\n",
      "2       7\n",
      "4       2\n",
      "6       2\n",
      "3       2\n",
      "20      1\n",
      "Name: Label, dtype: int64\n"
     ]
    },
    {
     "name": "stderr",
     "output_type": "stream",
     "text": [
      "C:\\Users\\Bhargavi\\anaconda3\\lib\\site-packages\\sklearn\\metrics\\_classification.py:1318: UndefinedMetricWarning: Precision is ill-defined and being set to 0.0 in labels with no predicted samples. Use `zero_division` parameter to control this behavior.\n",
      "  _warn_prf(average, modifier, msg_start, len(result))\n",
      "C:\\Users\\Bhargavi\\anaconda3\\lib\\site-packages\\sklearn\\metrics\\_classification.py:1318: UndefinedMetricWarning: Recall is ill-defined and being set to 0.0 in labels with no true samples. Use `zero_division` parameter to control this behavior.\n",
      "  _warn_prf(average, modifier, msg_start, len(result))\n",
      "C:\\Users\\Bhargavi\\AppData\\Local\\Temp\\ipykernel_21392\\255523458.py:21: FutureWarning: In a future version of pandas all arguments of DataFrame.drop except for the argument 'labels' will be keyword-only.\n",
      "  df2.drop(df2.columns.difference(['Node',degree_cent]), 1, inplace=True)\n"
     ]
    },
    {
     "name": "stdout",
     "output_type": "stream",
     "text": [
      "1     172\n",
      "2      10\n",
      "3       4\n",
      "6       2\n",
      "4       2\n",
      "30      1\n",
      "9       1\n",
      "8       1\n",
      "Name: Label, dtype: int64\n"
     ]
    },
    {
     "name": "stderr",
     "output_type": "stream",
     "text": [
      "C:\\Users\\Bhargavi\\anaconda3\\lib\\site-packages\\sklearn\\metrics\\_classification.py:1318: UndefinedMetricWarning: Precision is ill-defined and being set to 0.0 in labels with no predicted samples. Use `zero_division` parameter to control this behavior.\n",
      "  _warn_prf(average, modifier, msg_start, len(result))\n",
      "C:\\Users\\Bhargavi\\anaconda3\\lib\\site-packages\\sklearn\\metrics\\_classification.py:1318: UndefinedMetricWarning: Recall is ill-defined and being set to 0.0 in labels with no true samples. Use `zero_division` parameter to control this behavior.\n",
      "  _warn_prf(average, modifier, msg_start, len(result))\n",
      "C:\\Users\\Bhargavi\\AppData\\Local\\Temp\\ipykernel_21392\\255523458.py:21: FutureWarning: In a future version of pandas all arguments of DataFrame.drop except for the argument 'labels' will be keyword-only.\n",
      "  df2.drop(df2.columns.difference(['Node',degree_cent]), 1, inplace=True)\n"
     ]
    },
    {
     "name": "stdout",
     "output_type": "stream",
     "text": [
      "1     167\n",
      "2      12\n",
      "4       4\n",
      "3       3\n",
      "5       2\n",
      "7       1\n",
      "40      1\n",
      "12      1\n",
      "11      1\n",
      "8       1\n",
      "Name: Label, dtype: int64\n"
     ]
    },
    {
     "name": "stderr",
     "output_type": "stream",
     "text": [
      "C:\\Users\\Bhargavi\\anaconda3\\lib\\site-packages\\sklearn\\metrics\\_classification.py:1318: UndefinedMetricWarning: Precision is ill-defined and being set to 0.0 in labels with no predicted samples. Use `zero_division` parameter to control this behavior.\n",
      "  _warn_prf(average, modifier, msg_start, len(result))\n",
      "C:\\Users\\Bhargavi\\anaconda3\\lib\\site-packages\\sklearn\\metrics\\_classification.py:1318: UndefinedMetricWarning: Recall is ill-defined and being set to 0.0 in labels with no true samples. Use `zero_division` parameter to control this behavior.\n",
      "  _warn_prf(average, modifier, msg_start, len(result))\n",
      "C:\\Users\\Bhargavi\\AppData\\Local\\Temp\\ipykernel_21392\\255523458.py:21: FutureWarning: In a future version of pandas all arguments of DataFrame.drop except for the argument 'labels' will be keyword-only.\n",
      "  df2.drop(df2.columns.difference(['Node',degree_cent]), 1, inplace=True)\n"
     ]
    },
    {
     "name": "stdout",
     "output_type": "stream",
     "text": [
      "1     161\n",
      "2      14\n",
      "3       6\n",
      "4       3\n",
      "14      2\n",
      "6       2\n",
      "5       2\n",
      "9       1\n",
      "50      1\n",
      "10      1\n",
      "Name: Label, dtype: int64\n"
     ]
    },
    {
     "name": "stderr",
     "output_type": "stream",
     "text": [
      "C:\\Users\\Bhargavi\\anaconda3\\lib\\site-packages\\sklearn\\metrics\\_classification.py:1318: UndefinedMetricWarning: Precision is ill-defined and being set to 0.0 in labels with no predicted samples. Use `zero_division` parameter to control this behavior.\n",
      "  _warn_prf(average, modifier, msg_start, len(result))\n",
      "C:\\Users\\Bhargavi\\anaconda3\\lib\\site-packages\\sklearn\\metrics\\_classification.py:1318: UndefinedMetricWarning: Recall is ill-defined and being set to 0.0 in labels with no true samples. Use `zero_division` parameter to control this behavior.\n",
      "  _warn_prf(average, modifier, msg_start, len(result))\n",
      "C:\\Users\\Bhargavi\\AppData\\Local\\Temp\\ipykernel_21392\\255523458.py:21: FutureWarning: In a future version of pandas all arguments of DataFrame.drop except for the argument 'labels' will be keyword-only.\n",
      "  df2.drop(df2.columns.difference(['Node',degree_cent]), 1, inplace=True)\n"
     ]
    },
    {
     "name": "stdout",
     "output_type": "stream",
     "text": [
      "1     157\n",
      "2      15\n",
      "3       7\n",
      "4       3\n",
      "5       2\n",
      "7       2\n",
      "6       2\n",
      "11      1\n",
      "60      1\n",
      "17      1\n",
      "16      1\n",
      "12      1\n",
      "Name: Label, dtype: int64\n"
     ]
    },
    {
     "name": "stderr",
     "output_type": "stream",
     "text": [
      "C:\\Users\\Bhargavi\\anaconda3\\lib\\site-packages\\sklearn\\metrics\\_classification.py:1318: UndefinedMetricWarning: Precision is ill-defined and being set to 0.0 in labels with no predicted samples. Use `zero_division` parameter to control this behavior.\n",
      "  _warn_prf(average, modifier, msg_start, len(result))\n",
      "C:\\Users\\Bhargavi\\anaconda3\\lib\\site-packages\\sklearn\\metrics\\_classification.py:1318: UndefinedMetricWarning: Recall is ill-defined and being set to 0.0 in labels with no true samples. Use `zero_division` parameter to control this behavior.\n",
      "  _warn_prf(average, modifier, msg_start, len(result))\n",
      "C:\\Users\\Bhargavi\\AppData\\Local\\Temp\\ipykernel_21392\\255523458.py:21: FutureWarning: In a future version of pandas all arguments of DataFrame.drop except for the argument 'labels' will be keyword-only.\n",
      "  df2.drop(df2.columns.difference(['Node',degree_cent]), 1, inplace=True)\n"
     ]
    },
    {
     "name": "stdout",
     "output_type": "stream",
     "text": [
      "1     156\n",
      "2      13\n",
      "3       7\n",
      "4       4\n",
      "6       2\n",
      "5       2\n",
      "8       2\n",
      "7       2\n",
      "12      1\n",
      "71      1\n",
      "20      1\n",
      "19      1\n",
      "14      1\n",
      "Name: Label, dtype: int64\n"
     ]
    },
    {
     "name": "stderr",
     "output_type": "stream",
     "text": [
      "C:\\Users\\Bhargavi\\anaconda3\\lib\\site-packages\\sklearn\\metrics\\_classification.py:1318: UndefinedMetricWarning: Precision is ill-defined and being set to 0.0 in labels with no predicted samples. Use `zero_division` parameter to control this behavior.\n",
      "  _warn_prf(average, modifier, msg_start, len(result))\n",
      "C:\\Users\\Bhargavi\\anaconda3\\lib\\site-packages\\sklearn\\metrics\\_classification.py:1318: UndefinedMetricWarning: Recall is ill-defined and being set to 0.0 in labels with no true samples. Use `zero_division` parameter to control this behavior.\n",
      "  _warn_prf(average, modifier, msg_start, len(result))\n",
      "C:\\Users\\Bhargavi\\AppData\\Local\\Temp\\ipykernel_21392\\255523458.py:21: FutureWarning: In a future version of pandas all arguments of DataFrame.drop except for the argument 'labels' will be keyword-only.\n",
      "  df2.drop(df2.columns.difference(['Node',degree_cent]), 1, inplace=True)\n"
     ]
    },
    {
     "name": "stdout",
     "output_type": "stream",
     "text": [
      "1     152\n",
      "2      15\n",
      "4       6\n",
      "3       6\n",
      "7       2\n",
      "5       2\n",
      "8       2\n",
      "14      1\n",
      "80      1\n",
      "23      1\n",
      "9       1\n",
      "10      1\n",
      "21      1\n",
      "6       1\n",
      "16      1\n",
      "Name: Label, dtype: int64\n"
     ]
    },
    {
     "name": "stderr",
     "output_type": "stream",
     "text": [
      "C:\\Users\\Bhargavi\\anaconda3\\lib\\site-packages\\sklearn\\metrics\\_classification.py:1318: UndefinedMetricWarning: Precision is ill-defined and being set to 0.0 in labels with no predicted samples. Use `zero_division` parameter to control this behavior.\n",
      "  _warn_prf(average, modifier, msg_start, len(result))\n",
      "C:\\Users\\Bhargavi\\anaconda3\\lib\\site-packages\\sklearn\\metrics\\_classification.py:1318: UndefinedMetricWarning: Recall is ill-defined and being set to 0.0 in labels with no true samples. Use `zero_division` parameter to control this behavior.\n",
      "  _warn_prf(average, modifier, msg_start, len(result))\n",
      "C:\\Users\\Bhargavi\\AppData\\Local\\Temp\\ipykernel_21392\\255523458.py:21: FutureWarning: In a future version of pandas all arguments of DataFrame.drop except for the argument 'labels' will be keyword-only.\n",
      "  df2.drop(df2.columns.difference(['Node',degree_cent]), 1, inplace=True)\n"
     ]
    },
    {
     "name": "stdout",
     "output_type": "stream",
     "text": [
      "1     150\n",
      "2      15\n",
      "3       7\n",
      "4       4\n",
      "5       4\n",
      "8       3\n",
      "6       2\n",
      "16      1\n",
      "91      1\n",
      "26      1\n",
      "10      1\n",
      "11      1\n",
      "24      1\n",
      "9       1\n",
      "17      1\n",
      "Name: Label, dtype: int64\n"
     ]
    },
    {
     "name": "stderr",
     "output_type": "stream",
     "text": [
      "C:\\Users\\Bhargavi\\anaconda3\\lib\\site-packages\\sklearn\\metrics\\_classification.py:1318: UndefinedMetricWarning: Precision is ill-defined and being set to 0.0 in labels with no predicted samples. Use `zero_division` parameter to control this behavior.\n",
      "  _warn_prf(average, modifier, msg_start, len(result))\n",
      "C:\\Users\\Bhargavi\\anaconda3\\lib\\site-packages\\sklearn\\metrics\\_classification.py:1318: UndefinedMetricWarning: Recall is ill-defined and being set to 0.0 in labels with no true samples. Use `zero_division` parameter to control this behavior.\n",
      "  _warn_prf(average, modifier, msg_start, len(result))\n",
      "C:\\Users\\Bhargavi\\AppData\\Local\\Temp\\ipykernel_21392\\255523458.py:21: FutureWarning: In a future version of pandas all arguments of DataFrame.drop except for the argument 'labels' will be keyword-only.\n",
      "  df2.drop(df2.columns.difference(['Node',degree_cent]), 1, inplace=True)\n"
     ]
    },
    {
     "name": "stdout",
     "output_type": "stream",
     "text": [
      "1      140\n",
      "2       21\n",
      "3        9\n",
      "4        5\n",
      "5        4\n",
      "8        2\n",
      "6        2\n",
      "18       1\n",
      "27       1\n",
      "7        1\n",
      "10       1\n",
      "28       1\n",
      "12       1\n",
      "9        1\n",
      "11       1\n",
      "100      1\n",
      "19       1\n",
      "Name: Label, dtype: int64\n"
     ]
    },
    {
     "name": "stderr",
     "output_type": "stream",
     "text": [
      "C:\\Users\\Bhargavi\\anaconda3\\lib\\site-packages\\sklearn\\metrics\\_classification.py:1318: UndefinedMetricWarning: Precision is ill-defined and being set to 0.0 in labels with no predicted samples. Use `zero_division` parameter to control this behavior.\n",
      "  _warn_prf(average, modifier, msg_start, len(result))\n",
      "C:\\Users\\Bhargavi\\anaconda3\\lib\\site-packages\\sklearn\\metrics\\_classification.py:1318: UndefinedMetricWarning: Recall is ill-defined and being set to 0.0 in labels with no true samples. Use `zero_division` parameter to control this behavior.\n",
      "  _warn_prf(average, modifier, msg_start, len(result))\n",
      "C:\\Users\\Bhargavi\\AppData\\Local\\Temp\\ipykernel_21392\\255523458.py:21: FutureWarning: In a future version of pandas all arguments of DataFrame.drop except for the argument 'labels' will be keyword-only.\n",
      "  df2.drop(df2.columns.difference(['Node',degree_cent]), 1, inplace=True)\n"
     ]
    },
    {
     "name": "stdout",
     "output_type": "stream",
     "text": [
      "2    119\n",
      "1     74\n",
      "Name: Label, dtype: int64\n"
     ]
    },
    {
     "name": "stderr",
     "output_type": "stream",
     "text": [
      "C:\\Users\\Bhargavi\\AppData\\Local\\Temp\\ipykernel_21392\\255523458.py:21: FutureWarning: In a future version of pandas all arguments of DataFrame.drop except for the argument 'labels' will be keyword-only.\n",
      "  df2.drop(df2.columns.difference(['Node',degree_cent]), 1, inplace=True)\n"
     ]
    },
    {
     "name": "stdout",
     "output_type": "stream",
     "text": [
      "3    96\n",
      "4    53\n",
      "2    31\n",
      "5     7\n",
      "1     6\n",
      "Name: Label, dtype: int64\n"
     ]
    },
    {
     "name": "stderr",
     "output_type": "stream",
     "text": [
      "C:\\Users\\Bhargavi\\AppData\\Local\\Temp\\ipykernel_21392\\255523458.py:21: FutureWarning: In a future version of pandas all arguments of DataFrame.drop except for the argument 'labels' will be keyword-only.\n",
      "  df2.drop(df2.columns.difference(['Node',degree_cent]), 1, inplace=True)\n"
     ]
    },
    {
     "name": "stdout",
     "output_type": "stream",
     "text": [
      "6     59\n",
      "7     38\n",
      "5     37\n",
      "4     26\n",
      "8     15\n",
      "9      5\n",
      "3      5\n",
      "2      3\n",
      "1      3\n",
      "10     2\n",
      "Name: Label, dtype: int64\n"
     ]
    },
    {
     "name": "stderr",
     "output_type": "stream",
     "text": [
      "C:\\Users\\Bhargavi\\AppData\\Local\\Temp\\ipykernel_21392\\255523458.py:21: FutureWarning: In a future version of pandas all arguments of DataFrame.drop except for the argument 'labels' will be keyword-only.\n",
      "  df2.drop(df2.columns.difference(['Node',degree_cent]), 1, inplace=True)\n"
     ]
    },
    {
     "name": "stdout",
     "output_type": "stream",
     "text": [
      "11    32\n",
      "12    27\n",
      "14    21\n",
      "9     20\n",
      "13    17\n",
      "10    17\n",
      "8     14\n",
      "7     12\n",
      "15     8\n",
      "16     7\n",
      "17     3\n",
      "6      3\n",
      "2      3\n",
      "18     2\n",
      "5      2\n",
      "3      2\n",
      "19     1\n",
      "20     1\n",
      "4      1\n",
      "Name: Label, dtype: int64\n"
     ]
    },
    {
     "name": "stderr",
     "output_type": "stream",
     "text": [
      "C:\\Users\\Bhargavi\\anaconda3\\lib\\site-packages\\sklearn\\metrics\\_classification.py:1318: UndefinedMetricWarning: Precision is ill-defined and being set to 0.0 in labels with no predicted samples. Use `zero_division` parameter to control this behavior.\n",
      "  _warn_prf(average, modifier, msg_start, len(result))\n",
      "C:\\Users\\Bhargavi\\anaconda3\\lib\\site-packages\\sklearn\\metrics\\_classification.py:1318: UndefinedMetricWarning: Recall is ill-defined and being set to 0.0 in labels with no true samples. Use `zero_division` parameter to control this behavior.\n",
      "  _warn_prf(average, modifier, msg_start, len(result))\n",
      "C:\\Users\\Bhargavi\\AppData\\Local\\Temp\\ipykernel_21392\\255523458.py:21: FutureWarning: In a future version of pandas all arguments of DataFrame.drop except for the argument 'labels' will be keyword-only.\n",
      "  df2.drop(df2.columns.difference(['Node',degree_cent]), 1, inplace=True)\n"
     ]
    },
    {
     "name": "stdout",
     "output_type": "stream",
     "text": [
      "17    28\n",
      "18    21\n",
      "21    14\n",
      "19    13\n",
      "11    13\n",
      "13    13\n",
      "14    13\n",
      "15    11\n",
      "20    11\n",
      "16    10\n",
      "12     8\n",
      "23     8\n",
      "10     5\n",
      "22     4\n",
      "24     3\n",
      "25     3\n",
      "8      2\n",
      "9      2\n",
      "5      2\n",
      "3      2\n",
      "27     1\n",
      "26     1\n",
      "28     1\n",
      "29     1\n",
      "2      1\n",
      "4      1\n",
      "7      1\n",
      "Name: Label, dtype: int64\n"
     ]
    },
    {
     "name": "stderr",
     "output_type": "stream",
     "text": [
      "C:\\Users\\Bhargavi\\anaconda3\\lib\\site-packages\\sklearn\\metrics\\_classification.py:1318: UndefinedMetricWarning: Precision is ill-defined and being set to 0.0 in labels with no predicted samples. Use `zero_division` parameter to control this behavior.\n",
      "  _warn_prf(average, modifier, msg_start, len(result))\n",
      "C:\\Users\\Bhargavi\\anaconda3\\lib\\site-packages\\sklearn\\metrics\\_classification.py:1318: UndefinedMetricWarning: Recall is ill-defined and being set to 0.0 in labels with no true samples. Use `zero_division` parameter to control this behavior.\n",
      "  _warn_prf(average, modifier, msg_start, len(result))\n",
      "C:\\Users\\Bhargavi\\AppData\\Local\\Temp\\ipykernel_21392\\255523458.py:21: FutureWarning: In a future version of pandas all arguments of DataFrame.drop except for the argument 'labels' will be keyword-only.\n",
      "  df2.drop(df2.columns.difference(['Node',degree_cent]), 1, inplace=True)\n"
     ]
    },
    {
     "name": "stdout",
     "output_type": "stream",
     "text": [
      "22    23\n",
      "24    18\n",
      "19    11\n",
      "25    11\n",
      "28    11\n",
      "18    10\n",
      "17    10\n",
      "27    10\n",
      "14     9\n",
      "21     9\n",
      "23     9\n",
      "16     8\n",
      "20     6\n",
      "15     6\n",
      "26     6\n",
      "30     4\n",
      "29     4\n",
      "31     4\n",
      "13     3\n",
      "32     3\n",
      "33     2\n",
      "4      2\n",
      "12     2\n",
      "11     1\n",
      "3      1\n",
      "6      1\n",
      "5      1\n",
      "7      1\n",
      "36     1\n",
      "10     1\n",
      "34     1\n",
      "35     1\n",
      "37     1\n",
      "39     1\n",
      "9      1\n",
      "Name: Label, dtype: int64\n"
     ]
    },
    {
     "name": "stderr",
     "output_type": "stream",
     "text": [
      "C:\\Users\\Bhargavi\\anaconda3\\lib\\site-packages\\sklearn\\metrics\\_classification.py:1318: UndefinedMetricWarning: Precision is ill-defined and being set to 0.0 in labels with no predicted samples. Use `zero_division` parameter to control this behavior.\n",
      "  _warn_prf(average, modifier, msg_start, len(result))\n",
      "C:\\Users\\Bhargavi\\anaconda3\\lib\\site-packages\\sklearn\\metrics\\_classification.py:1318: UndefinedMetricWarning: Recall is ill-defined and being set to 0.0 in labels with no true samples. Use `zero_division` parameter to control this behavior.\n",
      "  _warn_prf(average, modifier, msg_start, len(result))\n",
      "C:\\Users\\Bhargavi\\AppData\\Local\\Temp\\ipykernel_21392\\255523458.py:21: FutureWarning: In a future version of pandas all arguments of DataFrame.drop except for the argument 'labels' will be keyword-only.\n",
      "  df2.drop(df2.columns.difference(['Node',degree_cent]), 1, inplace=True)\n"
     ]
    },
    {
     "name": "stdout",
     "output_type": "stream",
     "text": [
      "27    20\n",
      "22    12\n",
      "29    12\n",
      "34    11\n",
      "28    11\n",
      "31    10\n",
      "30    10\n",
      "18     9\n",
      "24     8\n",
      "23     7\n",
      "20     6\n",
      "21     6\n",
      "32     6\n",
      "26     6\n",
      "33     6\n",
      "17     5\n",
      "38     5\n",
      "35     5\n",
      "25     4\n",
      "19     4\n",
      "40     3\n",
      "37     3\n",
      "36     3\n",
      "15     2\n",
      "42     2\n",
      "5      2\n",
      "13     2\n",
      "16     2\n",
      "9      1\n",
      "3      1\n",
      "8      1\n",
      "6      1\n",
      "39     1\n",
      "45     1\n",
      "43     1\n",
      "41     1\n",
      "47     1\n",
      "49     1\n",
      "11     1\n",
      "Name: Label, dtype: int64\n"
     ]
    },
    {
     "name": "stderr",
     "output_type": "stream",
     "text": [
      "C:\\Users\\Bhargavi\\anaconda3\\lib\\site-packages\\sklearn\\metrics\\_classification.py:1318: UndefinedMetricWarning: Precision is ill-defined and being set to 0.0 in labels with no predicted samples. Use `zero_division` parameter to control this behavior.\n",
      "  _warn_prf(average, modifier, msg_start, len(result))\n",
      "C:\\Users\\Bhargavi\\anaconda3\\lib\\site-packages\\sklearn\\metrics\\_classification.py:1318: UndefinedMetricWarning: Recall is ill-defined and being set to 0.0 in labels with no true samples. Use `zero_division` parameter to control this behavior.\n",
      "  _warn_prf(average, modifier, msg_start, len(result))\n",
      "C:\\Users\\Bhargavi\\AppData\\Local\\Temp\\ipykernel_21392\\255523458.py:21: FutureWarning: In a future version of pandas all arguments of DataFrame.drop except for the argument 'labels' will be keyword-only.\n",
      "  df2.drop(df2.columns.difference(['Node',degree_cent]), 1, inplace=True)\n"
     ]
    },
    {
     "name": "stdout",
     "output_type": "stream",
     "text": [
      "33    22\n",
      "35    12\n",
      "29    10\n",
      "41    10\n",
      "36     9\n",
      "37     9\n",
      "26     9\n",
      "27     7\n",
      "21     7\n",
      "40     7\n",
      "22     6\n",
      "28     6\n",
      "34     6\n",
      "24     5\n",
      "31     5\n",
      "32     5\n",
      "25     4\n",
      "39     4\n",
      "46     4\n",
      "42     4\n",
      "45     4\n",
      "38     4\n",
      "48     3\n",
      "23     3\n",
      "43     3\n",
      "20     3\n",
      "18     2\n",
      "50     2\n",
      "19     2\n",
      "14     1\n",
      "10     1\n",
      "7      1\n",
      "5      1\n",
      "9      1\n",
      "4      1\n",
      "16     1\n",
      "54     1\n",
      "15     1\n",
      "30     1\n",
      "44     1\n",
      "52     1\n",
      "49     1\n",
      "56     1\n",
      "58     1\n",
      "6      1\n",
      "Name: Label, dtype: int64\n"
     ]
    },
    {
     "name": "stderr",
     "output_type": "stream",
     "text": [
      "C:\\Users\\Bhargavi\\anaconda3\\lib\\site-packages\\sklearn\\metrics\\_classification.py:1318: UndefinedMetricWarning: Precision is ill-defined and being set to 0.0 in labels with no predicted samples. Use `zero_division` parameter to control this behavior.\n",
      "  _warn_prf(average, modifier, msg_start, len(result))\n",
      "C:\\Users\\Bhargavi\\anaconda3\\lib\\site-packages\\sklearn\\metrics\\_classification.py:1318: UndefinedMetricWarning: Recall is ill-defined and being set to 0.0 in labels with no true samples. Use `zero_division` parameter to control this behavior.\n",
      "  _warn_prf(average, modifier, msg_start, len(result))\n",
      "C:\\Users\\Bhargavi\\AppData\\Local\\Temp\\ipykernel_21392\\255523458.py:21: FutureWarning: In a future version of pandas all arguments of DataFrame.drop except for the argument 'labels' will be keyword-only.\n",
      "  df2.drop(df2.columns.difference(['Node',degree_cent]), 1, inplace=True)\n"
     ]
    },
    {
     "name": "stdout",
     "output_type": "stream",
     "text": [
      "38    17\n",
      "41    12\n",
      "39     9\n",
      "31     8\n",
      "42     8\n",
      "43     8\n",
      "34     7\n",
      "24     7\n",
      "47     7\n",
      "48     7\n",
      "30     7\n",
      "37     6\n",
      "33     6\n",
      "25     6\n",
      "28     5\n",
      "44     5\n",
      "32     4\n",
      "29     4\n",
      "36     4\n",
      "46     4\n",
      "49     4\n",
      "53     4\n",
      "56     3\n",
      "40     3\n",
      "27     3\n",
      "50     3\n",
      "45     3\n",
      "26     2\n",
      "18     2\n",
      "23     2\n",
      "21     2\n",
      "54     2\n",
      "58     2\n",
      "52     2\n",
      "35     1\n",
      "12     1\n",
      "16     1\n",
      "8      1\n",
      "6      1\n",
      "10     1\n",
      "4      1\n",
      "68     1\n",
      "22     1\n",
      "65     1\n",
      "60     1\n",
      "59     1\n",
      "63     1\n",
      "51     1\n",
      "7      1\n",
      "Name: Label, dtype: int64\n"
     ]
    },
    {
     "name": "stderr",
     "output_type": "stream",
     "text": [
      "C:\\Users\\Bhargavi\\anaconda3\\lib\\site-packages\\sklearn\\metrics\\_classification.py:1318: UndefinedMetricWarning: Precision is ill-defined and being set to 0.0 in labels with no predicted samples. Use `zero_division` parameter to control this behavior.\n",
      "  _warn_prf(average, modifier, msg_start, len(result))\n",
      "C:\\Users\\Bhargavi\\anaconda3\\lib\\site-packages\\sklearn\\metrics\\_classification.py:1318: UndefinedMetricWarning: Recall is ill-defined and being set to 0.0 in labels with no true samples. Use `zero_division` parameter to control this behavior.\n",
      "  _warn_prf(average, modifier, msg_start, len(result))\n",
      "C:\\Users\\Bhargavi\\AppData\\Local\\Temp\\ipykernel_21392\\255523458.py:21: FutureWarning: In a future version of pandas all arguments of DataFrame.drop except for the argument 'labels' will be keyword-only.\n",
      "  df2.drop(df2.columns.difference(['Node',degree_cent]), 1, inplace=True)\n"
     ]
    },
    {
     "name": "stdout",
     "output_type": "stream",
     "text": [
      "44    21\n",
      "47    13\n",
      "55     8\n",
      "49     7\n",
      "42     7\n",
      "34     7\n",
      "35     7\n",
      "39     6\n",
      "37     6\n",
      "45     6\n",
      "53     6\n",
      "28     6\n",
      "48     5\n",
      "38     5\n",
      "29     5\n",
      "54     4\n",
      "51     4\n",
      "32     4\n",
      "31     4\n",
      "61     4\n",
      "50     4\n",
      "36     3\n",
      "27     3\n",
      "60     3\n",
      "26     3\n",
      "33     3\n",
      "56     3\n",
      "46     3\n",
      "64     3\n",
      "58     2\n",
      "7      2\n",
      "41     2\n",
      "52     2\n",
      "43     2\n",
      "57     2\n",
      "66     2\n",
      "74     1\n",
      "24     1\n",
      "9      1\n",
      "12     1\n",
      "5      1\n",
      "14     1\n",
      "21     1\n",
      "67     1\n",
      "23     1\n",
      "20     1\n",
      "30     1\n",
      "69     1\n",
      "72     1\n",
      "59     1\n",
      "78     1\n",
      "18     1\n",
      "Name: Label, dtype: int64\n"
     ]
    },
    {
     "name": "stderr",
     "output_type": "stream",
     "text": [
      "C:\\Users\\Bhargavi\\anaconda3\\lib\\site-packages\\sklearn\\metrics\\_classification.py:1318: UndefinedMetricWarning: Precision is ill-defined and being set to 0.0 in labels with no predicted samples. Use `zero_division` parameter to control this behavior.\n",
      "  _warn_prf(average, modifier, msg_start, len(result))\n",
      "C:\\Users\\Bhargavi\\anaconda3\\lib\\site-packages\\sklearn\\metrics\\_classification.py:1318: UndefinedMetricWarning: Recall is ill-defined and being set to 0.0 in labels with no true samples. Use `zero_division` parameter to control this behavior.\n",
      "  _warn_prf(average, modifier, msg_start, len(result))\n",
      "C:\\Users\\Bhargavi\\AppData\\Local\\Temp\\ipykernel_21392\\255523458.py:21: FutureWarning: In a future version of pandas all arguments of DataFrame.drop except for the argument 'labels' will be keyword-only.\n",
      "  df2.drop(df2.columns.difference(['Node',degree_cent]), 1, inplace=True)\n"
     ]
    },
    {
     "name": "stdout",
     "output_type": "stream",
     "text": [
      "49    17\n",
      "52    10\n",
      "61     9\n",
      "50     7\n",
      "40     7\n",
      "43     7\n",
      "47     6\n",
      "53     6\n",
      "55     6\n",
      "31     6\n",
      "39     5\n",
      "38     5\n",
      "54     5\n",
      "42     4\n",
      "60     4\n",
      "51     4\n",
      "59     4\n",
      "44     4\n",
      "56     4\n",
      "33     4\n",
      "36     4\n",
      "37     3\n",
      "68     3\n",
      "32     3\n",
      "58     3\n",
      "30     3\n",
      "63     3\n",
      "67     3\n",
      "72     3\n",
      "57     3\n",
      "46     2\n",
      "29     2\n",
      "34     2\n",
      "8      2\n",
      "23     2\n",
      "35     2\n",
      "69     2\n",
      "48     2\n",
      "41     2\n",
      "62     2\n",
      "64     2\n",
      "74     2\n",
      "26     1\n",
      "10     1\n",
      "13     1\n",
      "5      1\n",
      "15     1\n",
      "27     1\n",
      "84     1\n",
      "87     1\n",
      "66     1\n",
      "77     1\n",
      "75     1\n",
      "65     1\n",
      "81     1\n",
      "20     1\n",
      "Name: Label, dtype: int64\n"
     ]
    },
    {
     "name": "stderr",
     "output_type": "stream",
     "text": [
      "C:\\Users\\Bhargavi\\anaconda3\\lib\\site-packages\\sklearn\\metrics\\_classification.py:1318: UndefinedMetricWarning: Precision is ill-defined and being set to 0.0 in labels with no predicted samples. Use `zero_division` parameter to control this behavior.\n",
      "  _warn_prf(average, modifier, msg_start, len(result))\n",
      "C:\\Users\\Bhargavi\\anaconda3\\lib\\site-packages\\sklearn\\metrics\\_classification.py:1318: UndefinedMetricWarning: Recall is ill-defined and being set to 0.0 in labels with no true samples. Use `zero_division` parameter to control this behavior.\n",
      "  _warn_prf(average, modifier, msg_start, len(result))\n",
      "C:\\Users\\Bhargavi\\AppData\\Local\\Temp\\ipykernel_21392\\255523458.py:21: FutureWarning: In a future version of pandas all arguments of DataFrame.drop except for the argument 'labels' will be keyword-only.\n",
      "  df2.drop(df2.columns.difference(['Node',degree_cent]), 1, inplace=True)\n"
     ]
    },
    {
     "name": "stdout",
     "output_type": "stream",
     "text": [
      "54    16\n",
      "58    10\n",
      "68     7\n",
      "43     6\n",
      "55     6\n",
      "      ..\n",
      "51     1\n",
      "83     1\n",
      "77     1\n",
      "90     1\n",
      "22     1\n",
      "Name: Label, Length: 63, dtype: int64\n"
     ]
    },
    {
     "name": "stderr",
     "output_type": "stream",
     "text": [
      "C:\\Users\\Bhargavi\\anaconda3\\lib\\site-packages\\sklearn\\metrics\\_classification.py:1318: UndefinedMetricWarning: Precision is ill-defined and being set to 0.0 in labels with no predicted samples. Use `zero_division` parameter to control this behavior.\n",
      "  _warn_prf(average, modifier, msg_start, len(result))\n",
      "C:\\Users\\Bhargavi\\anaconda3\\lib\\site-packages\\sklearn\\metrics\\_classification.py:1318: UndefinedMetricWarning: Recall is ill-defined and being set to 0.0 in labels with no true samples. Use `zero_division` parameter to control this behavior.\n",
      "  _warn_prf(average, modifier, msg_start, len(result))\n",
      "C:\\Users\\Bhargavi\\AppData\\Local\\Temp\\ipykernel_21392\\255523458.py:21: FutureWarning: In a future version of pandas all arguments of DataFrame.drop except for the argument 'labels' will be keyword-only.\n",
      "  df2.drop(df2.columns.difference(['Node',degree_cent]), 1, inplace=True)\n"
     ]
    },
    {
     "name": "stdout",
     "output_type": "stream",
     "text": [
      "1    165\n",
      "2     16\n",
      "3     12\n",
      "Name: Label, dtype: int64\n"
     ]
    },
    {
     "name": "stderr",
     "output_type": "stream",
     "text": [
      "C:\\Users\\Bhargavi\\AppData\\Local\\Temp\\ipykernel_21392\\255523458.py:21: FutureWarning: In a future version of pandas all arguments of DataFrame.drop except for the argument 'labels' will be keyword-only.\n",
      "  df2.drop(df2.columns.difference(['Node',degree_cent]), 1, inplace=True)\n"
     ]
    },
    {
     "name": "stdout",
     "output_type": "stream",
     "text": [
      "1    112\n",
      "2     48\n",
      "3     17\n",
      "5     12\n",
      "4      4\n",
      "Name: Label, dtype: int64\n"
     ]
    },
    {
     "name": "stderr",
     "output_type": "stream",
     "text": [
      "C:\\Users\\Bhargavi\\AppData\\Local\\Temp\\ipykernel_21392\\255523458.py:21: FutureWarning: In a future version of pandas all arguments of DataFrame.drop except for the argument 'labels' will be keyword-only.\n",
      "  df2.drop(df2.columns.difference(['Node',degree_cent]), 1, inplace=True)\n"
     ]
    },
    {
     "name": "stdout",
     "output_type": "stream",
     "text": [
      "1     85\n",
      "2     27\n",
      "4     25\n",
      "3     23\n",
      "10    12\n",
      "5     10\n",
      "6      7\n",
      "7      4\n",
      "Name: Label, dtype: int64\n"
     ]
    },
    {
     "name": "stderr",
     "output_type": "stream",
     "text": [
      "C:\\Users\\Bhargavi\\anaconda3\\lib\\site-packages\\sklearn\\metrics\\_classification.py:1318: UndefinedMetricWarning: Precision is ill-defined and being set to 0.0 in labels with no predicted samples. Use `zero_division` parameter to control this behavior.\n",
      "  _warn_prf(average, modifier, msg_start, len(result))\n",
      "C:\\Users\\Bhargavi\\anaconda3\\lib\\site-packages\\sklearn\\metrics\\_classification.py:1318: UndefinedMetricWarning: Recall is ill-defined and being set to 0.0 in labels with no true samples. Use `zero_division` parameter to control this behavior.\n",
      "  _warn_prf(average, modifier, msg_start, len(result))\n",
      "C:\\Users\\Bhargavi\\AppData\\Local\\Temp\\ipykernel_21392\\255523458.py:21: FutureWarning: In a future version of pandas all arguments of DataFrame.drop except for the argument 'labels' will be keyword-only.\n",
      "  df2.drop(df2.columns.difference(['Node',degree_cent]), 1, inplace=True)\n"
     ]
    },
    {
     "name": "stdout",
     "output_type": "stream",
     "text": [
      "1     79\n",
      "7     21\n",
      "4     17\n",
      "5     13\n",
      "20    12\n",
      "6     10\n",
      "3     10\n",
      "10     7\n",
      "2      6\n",
      "8      4\n",
      "12     4\n",
      "11     3\n",
      "9      3\n",
      "14     3\n",
      "13     1\n",
      "Name: Label, dtype: int64\n"
     ]
    },
    {
     "name": "stderr",
     "output_type": "stream",
     "text": [
      "C:\\Users\\Bhargavi\\anaconda3\\lib\\site-packages\\sklearn\\metrics\\_classification.py:1318: UndefinedMetricWarning: Precision is ill-defined and being set to 0.0 in labels with no predicted samples. Use `zero_division` parameter to control this behavior.\n",
      "  _warn_prf(average, modifier, msg_start, len(result))\n",
      "C:\\Users\\Bhargavi\\anaconda3\\lib\\site-packages\\sklearn\\metrics\\_classification.py:1318: UndefinedMetricWarning: Recall is ill-defined and being set to 0.0 in labels with no true samples. Use `zero_division` parameter to control this behavior.\n",
      "  _warn_prf(average, modifier, msg_start, len(result))\n",
      "C:\\Users\\Bhargavi\\AppData\\Local\\Temp\\ipykernel_21392\\255523458.py:21: FutureWarning: In a future version of pandas all arguments of DataFrame.drop except for the argument 'labels' will be keyword-only.\n",
      "  df2.drop(df2.columns.difference(['Node',degree_cent]), 1, inplace=True)\n"
     ]
    },
    {
     "name": "stdout",
     "output_type": "stream",
     "text": [
      "1     79\n",
      "10    21\n",
      "5     13\n",
      "31    12\n",
      "7     11\n",
      "9      8\n",
      "4      8\n",
      "6      6\n",
      "16     6\n",
      "8      4\n",
      "20     4\n",
      "3      4\n",
      "17     3\n",
      "18     3\n",
      "14     2\n",
      "11     2\n",
      "12     2\n",
      "2      2\n",
      "13     2\n",
      "15     1\n",
      "Name: Label, dtype: int64\n"
     ]
    },
    {
     "name": "stderr",
     "output_type": "stream",
     "text": [
      "C:\\Users\\Bhargavi\\anaconda3\\lib\\site-packages\\sklearn\\metrics\\_classification.py:1318: UndefinedMetricWarning: Precision is ill-defined and being set to 0.0 in labels with no predicted samples. Use `zero_division` parameter to control this behavior.\n",
      "  _warn_prf(average, modifier, msg_start, len(result))\n",
      "C:\\Users\\Bhargavi\\anaconda3\\lib\\site-packages\\sklearn\\metrics\\_classification.py:1318: UndefinedMetricWarning: Recall is ill-defined and being set to 0.0 in labels with no true samples. Use `zero_division` parameter to control this behavior.\n",
      "  _warn_prf(average, modifier, msg_start, len(result))\n",
      "C:\\Users\\Bhargavi\\AppData\\Local\\Temp\\ipykernel_21392\\255523458.py:21: FutureWarning: In a future version of pandas all arguments of DataFrame.drop except for the argument 'labels' will be keyword-only.\n",
      "  df2.drop(df2.columns.difference(['Node',degree_cent]), 1, inplace=True)\n"
     ]
    },
    {
     "name": "stdout",
     "output_type": "stream",
     "text": [
      "1     79\n",
      "14    18\n",
      "7     12\n",
      "40    12\n",
      "9     10\n",
      "12     8\n",
      "6      6\n",
      "20     5\n",
      "8      5\n",
      "5      4\n",
      "4      3\n",
      "13     3\n",
      "3      3\n",
      "10     3\n",
      "22     3\n",
      "27     3\n",
      "15     2\n",
      "23     2\n",
      "11     2\n",
      "16     2\n",
      "24     2\n",
      "19     2\n",
      "17     2\n",
      "18     1\n",
      "26     1\n",
      "Name: Label, dtype: int64\n"
     ]
    },
    {
     "name": "stderr",
     "output_type": "stream",
     "text": [
      "C:\\Users\\Bhargavi\\anaconda3\\lib\\site-packages\\sklearn\\metrics\\_classification.py:1318: UndefinedMetricWarning: Precision is ill-defined and being set to 0.0 in labels with no predicted samples. Use `zero_division` parameter to control this behavior.\n",
      "  _warn_prf(average, modifier, msg_start, len(result))\n",
      "C:\\Users\\Bhargavi\\anaconda3\\lib\\site-packages\\sklearn\\metrics\\_classification.py:1318: UndefinedMetricWarning: Recall is ill-defined and being set to 0.0 in labels with no true samples. Use `zero_division` parameter to control this behavior.\n",
      "  _warn_prf(average, modifier, msg_start, len(result))\n",
      "C:\\Users\\Bhargavi\\AppData\\Local\\Temp\\ipykernel_21392\\255523458.py:21: FutureWarning: In a future version of pandas all arguments of DataFrame.drop except for the argument 'labels' will be keyword-only.\n",
      "  df2.drop(df2.columns.difference(['Node',degree_cent]), 1, inplace=True)\n"
     ]
    },
    {
     "name": "stdout",
     "output_type": "stream",
     "text": [
      "1     79\n",
      "17    18\n",
      "50    12\n",
      "9     11\n",
      "11     8\n",
      "15     8\n",
      "12     5\n",
      "10     5\n",
      "25     5\n",
      "6      4\n",
      "7      4\n",
      "34     3\n",
      "16     3\n",
      "8      3\n",
      "29     3\n",
      "4      3\n",
      "27     3\n",
      "20     2\n",
      "18     2\n",
      "5      2\n",
      "21     2\n",
      "24     2\n",
      "32     1\n",
      "3      1\n",
      "23     1\n",
      "14     1\n",
      "30     1\n",
      "13     1\n",
      "Name: Label, dtype: int64\n"
     ]
    },
    {
     "name": "stderr",
     "output_type": "stream",
     "text": [
      "C:\\Users\\Bhargavi\\anaconda3\\lib\\site-packages\\sklearn\\metrics\\_classification.py:1318: UndefinedMetricWarning: Precision is ill-defined and being set to 0.0 in labels with no predicted samples. Use `zero_division` parameter to control this behavior.\n",
      "  _warn_prf(average, modifier, msg_start, len(result))\n",
      "C:\\Users\\Bhargavi\\anaconda3\\lib\\site-packages\\sklearn\\metrics\\_classification.py:1318: UndefinedMetricWarning: Recall is ill-defined and being set to 0.0 in labels with no true samples. Use `zero_division` parameter to control this behavior.\n",
      "  _warn_prf(average, modifier, msg_start, len(result))\n",
      "C:\\Users\\Bhargavi\\AppData\\Local\\Temp\\ipykernel_21392\\255523458.py:21: FutureWarning: In a future version of pandas all arguments of DataFrame.drop except for the argument 'labels' will be keyword-only.\n",
      "  df2.drop(df2.columns.difference(['Node',degree_cent]), 1, inplace=True)\n"
     ]
    },
    {
     "name": "stdout",
     "output_type": "stream",
     "text": [
      "1     79\n",
      "20    18\n",
      "61    12\n",
      "10    11\n",
      "18     8\n",
      "14     6\n",
      "31     5\n",
      "13     5\n",
      "12     4\n",
      "7      4\n",
      "8      4\n",
      "40     3\n",
      "5      3\n",
      "19     3\n",
      "4      2\n",
      "9      2\n",
      "25     2\n",
      "15     2\n",
      "33     2\n",
      "35     2\n",
      "11     2\n",
      "16     2\n",
      "22     2\n",
      "24     2\n",
      "39     1\n",
      "27     1\n",
      "29     1\n",
      "34     1\n",
      "36     1\n",
      "6      1\n",
      "28     1\n",
      "32     1\n",
      "Name: Label, dtype: int64\n"
     ]
    },
    {
     "name": "stderr",
     "output_type": "stream",
     "text": [
      "C:\\Users\\Bhargavi\\anaconda3\\lib\\site-packages\\sklearn\\metrics\\_classification.py:1318: UndefinedMetricWarning: Precision is ill-defined and being set to 0.0 in labels with no predicted samples. Use `zero_division` parameter to control this behavior.\n",
      "  _warn_prf(average, modifier, msg_start, len(result))\n",
      "C:\\Users\\Bhargavi\\anaconda3\\lib\\site-packages\\sklearn\\metrics\\_classification.py:1318: UndefinedMetricWarning: Recall is ill-defined and being set to 0.0 in labels with no true samples. Use `zero_division` parameter to control this behavior.\n",
      "  _warn_prf(average, modifier, msg_start, len(result))\n",
      "C:\\Users\\Bhargavi\\AppData\\Local\\Temp\\ipykernel_21392\\255523458.py:21: FutureWarning: In a future version of pandas all arguments of DataFrame.drop except for the argument 'labels' will be keyword-only.\n",
      "  df2.drop(df2.columns.difference(['Node',degree_cent]), 1, inplace=True)\n"
     ]
    },
    {
     "name": "stdout",
     "output_type": "stream",
     "text": [
      "1     79\n",
      "24    18\n",
      "71    12\n",
      "12    11\n",
      "21     7\n",
      "10     6\n",
      "16     5\n",
      "36     5\n",
      "15     5\n",
      "14     4\n",
      "8      4\n",
      "22     3\n",
      "17     3\n",
      "47     3\n",
      "29     2\n",
      "5      2\n",
      "40     2\n",
      "28     2\n",
      "25     2\n",
      "6      2\n",
      "33     2\n",
      "38     2\n",
      "7      1\n",
      "20     1\n",
      "42     1\n",
      "11     1\n",
      "19     1\n",
      "32     1\n",
      "4      1\n",
      "41     1\n",
      "45     1\n",
      "18     1\n",
      "37     1\n",
      "13     1\n",
      "Name: Label, dtype: int64\n"
     ]
    },
    {
     "name": "stderr",
     "output_type": "stream",
     "text": [
      "C:\\Users\\Bhargavi\\anaconda3\\lib\\site-packages\\sklearn\\metrics\\_classification.py:1318: UndefinedMetricWarning: Precision is ill-defined and being set to 0.0 in labels with no predicted samples. Use `zero_division` parameter to control this behavior.\n",
      "  _warn_prf(average, modifier, msg_start, len(result))\n",
      "C:\\Users\\Bhargavi\\anaconda3\\lib\\site-packages\\sklearn\\metrics\\_classification.py:1318: UndefinedMetricWarning: Recall is ill-defined and being set to 0.0 in labels with no true samples. Use `zero_division` parameter to control this behavior.\n",
      "  _warn_prf(average, modifier, msg_start, len(result))\n",
      "C:\\Users\\Bhargavi\\AppData\\Local\\Temp\\ipykernel_21392\\255523458.py:21: FutureWarning: In a future version of pandas all arguments of DataFrame.drop except for the argument 'labels' will be keyword-only.\n",
      "  df2.drop(df2.columns.difference(['Node',degree_cent]), 1, inplace=True)\n"
     ]
    },
    {
     "name": "stdout",
     "output_type": "stream",
     "text": [
      "1     79\n",
      "27    18\n",
      "80    12\n",
      "14    10\n",
      "24     7\n",
      "18     5\n",
      "17     5\n",
      "40     5\n",
      "16     4\n",
      "11     4\n",
      "9      4\n",
      "43     3\n",
      "25     3\n",
      "54     3\n",
      "12     2\n",
      "6      2\n",
      "33     2\n",
      "13     2\n",
      "32     2\n",
      "46     2\n",
      "19     2\n",
      "38     2\n",
      "7      2\n",
      "29     2\n",
      "21     1\n",
      "22     1\n",
      "47     1\n",
      "20     1\n",
      "48     1\n",
      "36     1\n",
      "23     1\n",
      "8      1\n",
      "51     1\n",
      "5      1\n",
      "15     1\n",
      "Name: Label, dtype: int64\n"
     ]
    },
    {
     "name": "stderr",
     "output_type": "stream",
     "text": [
      "C:\\Users\\Bhargavi\\anaconda3\\lib\\site-packages\\sklearn\\metrics\\_classification.py:1318: UndefinedMetricWarning: Precision is ill-defined and being set to 0.0 in labels with no predicted samples. Use `zero_division` parameter to control this behavior.\n",
      "  _warn_prf(average, modifier, msg_start, len(result))\n",
      "C:\\Users\\Bhargavi\\anaconda3\\lib\\site-packages\\sklearn\\metrics\\_classification.py:1318: UndefinedMetricWarning: Recall is ill-defined and being set to 0.0 in labels with no true samples. Use `zero_division` parameter to control this behavior.\n",
      "  _warn_prf(average, modifier, msg_start, len(result))\n",
      "C:\\Users\\Bhargavi\\AppData\\Local\\Temp\\ipykernel_21392\\255523458.py:21: FutureWarning: In a future version of pandas all arguments of DataFrame.drop except for the argument 'labels' will be keyword-only.\n",
      "  df2.drop(df2.columns.difference(['Node',degree_cent]), 1, inplace=True)\n"
     ]
    },
    {
     "name": "stdout",
     "output_type": "stream",
     "text": [
      "1     78\n",
      "30    18\n",
      "90    12\n",
      "15    10\n",
      "27     7\n",
      "20     5\n",
      "45     5\n",
      "19     5\n",
      "18     4\n",
      "12     4\n",
      "10     4\n",
      "60     3\n",
      "13     2\n",
      "37     2\n",
      "52     2\n",
      "36     2\n",
      "22     2\n",
      "42     2\n",
      "8      2\n",
      "48     2\n",
      "28     2\n",
      "51     1\n",
      "49     1\n",
      "7      1\n",
      "9      1\n",
      "26     1\n",
      "54     1\n",
      "6      1\n",
      "2      1\n",
      "24     1\n",
      "23     1\n",
      "33     1\n",
      "40     1\n",
      "21     1\n",
      "5      1\n",
      "32     1\n",
      "17     1\n",
      "29     1\n",
      "58     1\n",
      "16     1\n",
      "14     1\n",
      "Name: Label, dtype: int64\n"
     ]
    },
    {
     "name": "stderr",
     "output_type": "stream",
     "text": [
      "C:\\Users\\Bhargavi\\anaconda3\\lib\\site-packages\\sklearn\\metrics\\_classification.py:1318: UndefinedMetricWarning: Precision is ill-defined and being set to 0.0 in labels with no predicted samples. Use `zero_division` parameter to control this behavior.\n",
      "  _warn_prf(average, modifier, msg_start, len(result))\n",
      "C:\\Users\\Bhargavi\\anaconda3\\lib\\site-packages\\sklearn\\metrics\\_classification.py:1318: UndefinedMetricWarning: Recall is ill-defined and being set to 0.0 in labels with no true samples. Use `zero_division` parameter to control this behavior.\n",
      "  _warn_prf(average, modifier, msg_start, len(result))\n",
      "C:\\Users\\Bhargavi\\AppData\\Local\\Temp\\ipykernel_21392\\255523458.py:21: FutureWarning: In a future version of pandas all arguments of DataFrame.drop except for the argument 'labels' will be keyword-only.\n",
      "  df2.drop(df2.columns.difference(['Node',degree_cent]), 1, inplace=True)\n"
     ]
    },
    {
     "name": "stdout",
     "output_type": "stream",
     "text": [
      "1      78\n",
      "34     18\n",
      "100    12\n",
      "17     10\n",
      "30      7\n",
      "21      5\n",
      "50      5\n",
      "14      4\n",
      "20      4\n",
      "22      3\n",
      "11      3\n",
      "67      3\n",
      "24      3\n",
      "8       2\n",
      "54      2\n",
      "47      2\n",
      "31      2\n",
      "23      2\n",
      "15      2\n",
      "36      2\n",
      "58      2\n",
      "40      2\n",
      "41      2\n",
      "60      1\n",
      "7       1\n",
      "29      1\n",
      "10      1\n",
      "9       1\n",
      "16      1\n",
      "27      1\n",
      "45      1\n",
      "6       1\n",
      "19      1\n",
      "32      1\n",
      "18      1\n",
      "26      1\n",
      "57      1\n",
      "12      1\n",
      "2       1\n",
      "53      1\n",
      "64      1\n",
      "Name: Label, dtype: int64\n"
     ]
    },
    {
     "name": "stderr",
     "output_type": "stream",
     "text": [
      "C:\\Users\\Bhargavi\\anaconda3\\lib\\site-packages\\sklearn\\metrics\\_classification.py:1318: UndefinedMetricWarning: Precision is ill-defined and being set to 0.0 in labels with no predicted samples. Use `zero_division` parameter to control this behavior.\n",
      "  _warn_prf(average, modifier, msg_start, len(result))\n",
      "C:\\Users\\Bhargavi\\anaconda3\\lib\\site-packages\\sklearn\\metrics\\_classification.py:1318: UndefinedMetricWarning: Recall is ill-defined and being set to 0.0 in labels with no true samples. Use `zero_division` parameter to control this behavior.\n",
      "  _warn_prf(average, modifier, msg_start, len(result))\n",
      "C:\\Users\\Bhargavi\\AppData\\Local\\Temp\\ipykernel_21392\\255523458.py:21: FutureWarning: In a future version of pandas all arguments of DataFrame.drop except for the argument 'labels' will be keyword-only.\n",
      "  df2.drop(df2.columns.difference(['Node',degree_cent]), 1, inplace=True)\n"
     ]
    },
    {
     "name": "stdout",
     "output_type": "stream",
     "text": [
      "1    192\n",
      "3      1\n",
      "Name: Label, dtype: int64\n"
     ]
    },
    {
     "name": "stderr",
     "output_type": "stream",
     "text": [
      "C:\\Users\\Bhargavi\\anaconda3\\lib\\site-packages\\sklearn\\metrics\\_classification.py:1318: UndefinedMetricWarning: Precision is ill-defined and being set to 0.0 in labels with no predicted samples. Use `zero_division` parameter to control this behavior.\n",
      "  _warn_prf(average, modifier, msg_start, len(result))\n",
      "C:\\Users\\Bhargavi\\AppData\\Local\\Temp\\ipykernel_21392\\255523458.py:21: FutureWarning: In a future version of pandas all arguments of DataFrame.drop except for the argument 'labels' will be keyword-only.\n",
      "  df2.drop(df2.columns.difference(['Node',degree_cent]), 1, inplace=True)\n"
     ]
    },
    {
     "name": "stdout",
     "output_type": "stream",
     "text": [
      "1    190\n",
      "2      1\n",
      "5      1\n",
      "3      1\n",
      "Name: Label, dtype: int64\n"
     ]
    },
    {
     "name": "stderr",
     "output_type": "stream",
     "text": [
      "C:\\Users\\Bhargavi\\anaconda3\\lib\\site-packages\\sklearn\\metrics\\_classification.py:1318: UndefinedMetricWarning: Precision is ill-defined and being set to 0.0 in labels with no predicted samples. Use `zero_division` parameter to control this behavior.\n",
      "  _warn_prf(average, modifier, msg_start, len(result))\n",
      "C:\\Users\\Bhargavi\\AppData\\Local\\Temp\\ipykernel_21392\\255523458.py:21: FutureWarning: In a future version of pandas all arguments of DataFrame.drop except for the argument 'labels' will be keyword-only.\n",
      "  df2.drop(df2.columns.difference(['Node',degree_cent]), 1, inplace=True)\n"
     ]
    },
    {
     "name": "stdout",
     "output_type": "stream",
     "text": [
      "1     181\n",
      "2       9\n",
      "3       1\n",
      "10      1\n",
      "5       1\n",
      "Name: Label, dtype: int64\n"
     ]
    },
    {
     "name": "stderr",
     "output_type": "stream",
     "text": [
      "C:\\Users\\Bhargavi\\anaconda3\\lib\\site-packages\\sklearn\\metrics\\_classification.py:1318: UndefinedMetricWarning: Precision is ill-defined and being set to 0.0 in labels with no predicted samples. Use `zero_division` parameter to control this behavior.\n",
      "  _warn_prf(average, modifier, msg_start, len(result))\n",
      "C:\\Users\\Bhargavi\\anaconda3\\lib\\site-packages\\sklearn\\metrics\\_classification.py:1318: UndefinedMetricWarning: Recall is ill-defined and being set to 0.0 in labels with no true samples. Use `zero_division` parameter to control this behavior.\n",
      "  _warn_prf(average, modifier, msg_start, len(result))\n",
      "C:\\Users\\Bhargavi\\AppData\\Local\\Temp\\ipykernel_21392\\255523458.py:21: FutureWarning: In a future version of pandas all arguments of DataFrame.drop except for the argument 'labels' will be keyword-only.\n",
      "  df2.drop(df2.columns.difference(['Node',degree_cent]), 1, inplace=True)\n"
     ]
    },
    {
     "name": "stdout",
     "output_type": "stream",
     "text": [
      "1     168\n",
      "2      13\n",
      "3       6\n",
      "4       3\n",
      "5       1\n",
      "20      1\n",
      "10      1\n",
      "Name: Label, dtype: int64\n"
     ]
    },
    {
     "name": "stderr",
     "output_type": "stream",
     "text": [
      "C:\\Users\\Bhargavi\\anaconda3\\lib\\site-packages\\sklearn\\metrics\\_classification.py:1318: UndefinedMetricWarning: Precision is ill-defined and being set to 0.0 in labels with no predicted samples. Use `zero_division` parameter to control this behavior.\n",
      "  _warn_prf(average, modifier, msg_start, len(result))\n",
      "C:\\Users\\Bhargavi\\anaconda3\\lib\\site-packages\\sklearn\\metrics\\_classification.py:1318: UndefinedMetricWarning: Recall is ill-defined and being set to 0.0 in labels with no true samples. Use `zero_division` parameter to control this behavior.\n",
      "  _warn_prf(average, modifier, msg_start, len(result))\n",
      "C:\\Users\\Bhargavi\\AppData\\Local\\Temp\\ipykernel_21392\\255523458.py:21: FutureWarning: In a future version of pandas all arguments of DataFrame.drop except for the argument 'labels' will be keyword-only.\n",
      "  df2.drop(df2.columns.difference(['Node',degree_cent]), 1, inplace=True)\n"
     ]
    },
    {
     "name": "stdout",
     "output_type": "stream",
     "text": [
      "1     157\n",
      "2      19\n",
      "4       5\n",
      "3       5\n",
      "5       3\n",
      "7       1\n",
      "30      1\n",
      "6       1\n",
      "15      1\n",
      "Name: Label, dtype: int64\n"
     ]
    },
    {
     "name": "stderr",
     "output_type": "stream",
     "text": [
      "C:\\Users\\Bhargavi\\anaconda3\\lib\\site-packages\\sklearn\\metrics\\_classification.py:1318: UndefinedMetricWarning: Precision is ill-defined and being set to 0.0 in labels with no predicted samples. Use `zero_division` parameter to control this behavior.\n",
      "  _warn_prf(average, modifier, msg_start, len(result))\n",
      "C:\\Users\\Bhargavi\\anaconda3\\lib\\site-packages\\sklearn\\metrics\\_classification.py:1318: UndefinedMetricWarning: Recall is ill-defined and being set to 0.0 in labels with no true samples. Use `zero_division` parameter to control this behavior.\n",
      "  _warn_prf(average, modifier, msg_start, len(result))\n",
      "C:\\Users\\Bhargavi\\AppData\\Local\\Temp\\ipykernel_21392\\255523458.py:21: FutureWarning: In a future version of pandas all arguments of DataFrame.drop except for the argument 'labels' will be keyword-only.\n",
      "  df2.drop(df2.columns.difference(['Node',degree_cent]), 1, inplace=True)\n"
     ]
    },
    {
     "name": "stdout",
     "output_type": "stream",
     "text": [
      "1     140\n",
      "2      28\n",
      "3      11\n",
      "5       5\n",
      "7       3\n",
      "4       2\n",
      "10      1\n",
      "6       1\n",
      "40      1\n",
      "20      1\n",
      "Name: Label, dtype: int64\n"
     ]
    },
    {
     "name": "stderr",
     "output_type": "stream",
     "text": [
      "C:\\Users\\Bhargavi\\anaconda3\\lib\\site-packages\\sklearn\\metrics\\_classification.py:1318: UndefinedMetricWarning: Precision is ill-defined and being set to 0.0 in labels with no predicted samples. Use `zero_division` parameter to control this behavior.\n",
      "  _warn_prf(average, modifier, msg_start, len(result))\n",
      "C:\\Users\\Bhargavi\\anaconda3\\lib\\site-packages\\sklearn\\metrics\\_classification.py:1318: UndefinedMetricWarning: Recall is ill-defined and being set to 0.0 in labels with no true samples. Use `zero_division` parameter to control this behavior.\n",
      "  _warn_prf(average, modifier, msg_start, len(result))\n",
      "C:\\Users\\Bhargavi\\AppData\\Local\\Temp\\ipykernel_21392\\255523458.py:21: FutureWarning: In a future version of pandas all arguments of DataFrame.drop except for the argument 'labels' will be keyword-only.\n",
      "  df2.drop(df2.columns.difference(['Node',degree_cent]), 1, inplace=True)\n"
     ]
    },
    {
     "name": "stdout",
     "output_type": "stream",
     "text": [
      "1     126\n",
      "2      35\n",
      "3      10\n",
      "4       8\n",
      "6       5\n",
      "8       2\n",
      "5       2\n",
      "9       2\n",
      "12      1\n",
      "50      1\n",
      "25      1\n",
      "Name: Label, dtype: int64\n"
     ]
    },
    {
     "name": "stderr",
     "output_type": "stream",
     "text": [
      "C:\\Users\\Bhargavi\\anaconda3\\lib\\site-packages\\sklearn\\metrics\\_classification.py:1318: UndefinedMetricWarning: Precision is ill-defined and being set to 0.0 in labels with no predicted samples. Use `zero_division` parameter to control this behavior.\n",
      "  _warn_prf(average, modifier, msg_start, len(result))\n",
      "C:\\Users\\Bhargavi\\anaconda3\\lib\\site-packages\\sklearn\\metrics\\_classification.py:1318: UndefinedMetricWarning: Recall is ill-defined and being set to 0.0 in labels with no true samples. Use `zero_division` parameter to control this behavior.\n",
      "  _warn_prf(average, modifier, msg_start, len(result))\n",
      "C:\\Users\\Bhargavi\\AppData\\Local\\Temp\\ipykernel_21392\\255523458.py:21: FutureWarning: In a future version of pandas all arguments of DataFrame.drop except for the argument 'labels' will be keyword-only.\n",
      "  df2.drop(df2.columns.difference(['Node',degree_cent]), 1, inplace=True)\n"
     ]
    },
    {
     "name": "stdout",
     "output_type": "stream",
     "text": [
      "1     108\n",
      "2      49\n",
      "3      11\n",
      "4       8\n",
      "7       5\n",
      "5       4\n",
      "10      2\n",
      "14      1\n",
      "9       1\n",
      "60      1\n",
      "6       1\n",
      "11      1\n",
      "30      1\n",
      "Name: Label, dtype: int64\n"
     ]
    },
    {
     "name": "stderr",
     "output_type": "stream",
     "text": [
      "C:\\Users\\Bhargavi\\anaconda3\\lib\\site-packages\\sklearn\\metrics\\_classification.py:1318: UndefinedMetricWarning: Precision is ill-defined and being set to 0.0 in labels with no predicted samples. Use `zero_division` parameter to control this behavior.\n",
      "  _warn_prf(average, modifier, msg_start, len(result))\n",
      "C:\\Users\\Bhargavi\\anaconda3\\lib\\site-packages\\sklearn\\metrics\\_classification.py:1318: UndefinedMetricWarning: Recall is ill-defined and being set to 0.0 in labels with no true samples. Use `zero_division` parameter to control this behavior.\n",
      "  _warn_prf(average, modifier, msg_start, len(result))\n",
      "C:\\Users\\Bhargavi\\AppData\\Local\\Temp\\ipykernel_21392\\255523458.py:21: FutureWarning: In a future version of pandas all arguments of DataFrame.drop except for the argument 'labels' will be keyword-only.\n",
      "  df2.drop(df2.columns.difference(['Node',degree_cent]), 1, inplace=True)\n"
     ]
    },
    {
     "name": "stdout",
     "output_type": "stream",
     "text": [
      "1     100\n",
      "2      48\n",
      "3      16\n",
      "4       7\n",
      "5       6\n",
      "8       5\n",
      "6       3\n",
      "12      2\n",
      "17      1\n",
      "11      1\n",
      "70      1\n",
      "7       1\n",
      "13      1\n",
      "35      1\n",
      "Name: Label, dtype: int64\n"
     ]
    },
    {
     "name": "stderr",
     "output_type": "stream",
     "text": [
      "C:\\Users\\Bhargavi\\anaconda3\\lib\\site-packages\\sklearn\\metrics\\_classification.py:1318: UndefinedMetricWarning: Precision is ill-defined and being set to 0.0 in labels with no predicted samples. Use `zero_division` parameter to control this behavior.\n",
      "  _warn_prf(average, modifier, msg_start, len(result))\n",
      "C:\\Users\\Bhargavi\\anaconda3\\lib\\site-packages\\sklearn\\metrics\\_classification.py:1318: UndefinedMetricWarning: Recall is ill-defined and being set to 0.0 in labels with no true samples. Use `zero_division` parameter to control this behavior.\n",
      "  _warn_prf(average, modifier, msg_start, len(result))\n",
      "C:\\Users\\Bhargavi\\AppData\\Local\\Temp\\ipykernel_21392\\255523458.py:21: FutureWarning: In a future version of pandas all arguments of DataFrame.drop except for the argument 'labels' will be keyword-only.\n",
      "  df2.drop(df2.columns.difference(['Node',degree_cent]), 1, inplace=True)\n"
     ]
    },
    {
     "name": "stdout",
     "output_type": "stream",
     "text": [
      "1     94\n",
      "2     46\n",
      "3     20\n",
      "4      8\n",
      "6      6\n",
      "5      5\n",
      "9      4\n",
      "14     2\n",
      "19     1\n",
      "12     1\n",
      "13     1\n",
      "7      1\n",
      "80     1\n",
      "8      1\n",
      "40     1\n",
      "10     1\n",
      "Name: Label, dtype: int64\n"
     ]
    },
    {
     "name": "stderr",
     "output_type": "stream",
     "text": [
      "C:\\Users\\Bhargavi\\anaconda3\\lib\\site-packages\\sklearn\\metrics\\_classification.py:1318: UndefinedMetricWarning: Precision is ill-defined and being set to 0.0 in labels with no predicted samples. Use `zero_division` parameter to control this behavior.\n",
      "  _warn_prf(average, modifier, msg_start, len(result))\n",
      "C:\\Users\\Bhargavi\\anaconda3\\lib\\site-packages\\sklearn\\metrics\\_classification.py:1318: UndefinedMetricWarning: Recall is ill-defined and being set to 0.0 in labels with no true samples. Use `zero_division` parameter to control this behavior.\n",
      "  _warn_prf(average, modifier, msg_start, len(result))\n",
      "C:\\Users\\Bhargavi\\AppData\\Local\\Temp\\ipykernel_21392\\255523458.py:21: FutureWarning: In a future version of pandas all arguments of DataFrame.drop except for the argument 'labels' will be keyword-only.\n",
      "  df2.drop(df2.columns.difference(['Node',degree_cent]), 1, inplace=True)\n"
     ]
    },
    {
     "name": "stdout",
     "output_type": "stream",
     "text": [
      "1     86\n",
      "2     47\n",
      "3     24\n",
      "4      9\n",
      "6      6\n",
      "5      4\n",
      "10     4\n",
      "7      3\n",
      "15     2\n",
      "11     1\n",
      "21     1\n",
      "45     1\n",
      "9      1\n",
      "90     1\n",
      "8      1\n",
      "14     1\n",
      "16     1\n",
      "Name: Label, dtype: int64\n"
     ]
    },
    {
     "name": "stderr",
     "output_type": "stream",
     "text": [
      "C:\\Users\\Bhargavi\\anaconda3\\lib\\site-packages\\sklearn\\metrics\\_classification.py:1318: UndefinedMetricWarning: Precision is ill-defined and being set to 0.0 in labels with no predicted samples. Use `zero_division` parameter to control this behavior.\n",
      "  _warn_prf(average, modifier, msg_start, len(result))\n",
      "C:\\Users\\Bhargavi\\anaconda3\\lib\\site-packages\\sklearn\\metrics\\_classification.py:1318: UndefinedMetricWarning: Recall is ill-defined and being set to 0.0 in labels with no true samples. Use `zero_division` parameter to control this behavior.\n",
      "  _warn_prf(average, modifier, msg_start, len(result))\n",
      "C:\\Users\\Bhargavi\\AppData\\Local\\Temp\\ipykernel_21392\\255523458.py:21: FutureWarning: In a future version of pandas all arguments of DataFrame.drop except for the argument 'labels' will be keyword-only.\n",
      "  df2.drop(df2.columns.difference(['Node',degree_cent]), 1, inplace=True)\n"
     ]
    },
    {
     "name": "stdout",
     "output_type": "stream",
     "text": [
      "1      81\n",
      "2      45\n",
      "3      25\n",
      "4      10\n",
      "5       7\n",
      "7       6\n",
      "6       3\n",
      "11      3\n",
      "12      2\n",
      "8       2\n",
      "50      1\n",
      "23      1\n",
      "17      1\n",
      "10      1\n",
      "100     1\n",
      "9       1\n",
      "16      1\n",
      "15      1\n",
      "18      1\n",
      "Name: Label, dtype: int64\n"
     ]
    },
    {
     "name": "stderr",
     "output_type": "stream",
     "text": [
      "C:\\Users\\Bhargavi\\anaconda3\\lib\\site-packages\\sklearn\\metrics\\_classification.py:1318: UndefinedMetricWarning: Precision is ill-defined and being set to 0.0 in labels with no predicted samples. Use `zero_division` parameter to control this behavior.\n",
      "  _warn_prf(average, modifier, msg_start, len(result))\n",
      "C:\\Users\\Bhargavi\\anaconda3\\lib\\site-packages\\sklearn\\metrics\\_classification.py:1318: UndefinedMetricWarning: Recall is ill-defined and being set to 0.0 in labels with no true samples. Use `zero_division` parameter to control this behavior.\n",
      "  _warn_prf(average, modifier, msg_start, len(result))\n",
      "C:\\Users\\Bhargavi\\AppData\\Local\\Temp\\ipykernel_21392\\255523458.py:21: FutureWarning: In a future version of pandas all arguments of DataFrame.drop except for the argument 'labels' will be keyword-only.\n",
      "  df2.drop(df2.columns.difference(['Node',degree_cent]), 1, inplace=True)\n"
     ]
    },
    {
     "name": "stdout",
     "output_type": "stream",
     "text": [
      "1    191\n",
      "3      1\n",
      "2      1\n",
      "Name: Label, dtype: int64\n"
     ]
    },
    {
     "name": "stderr",
     "output_type": "stream",
     "text": [
      "C:\\Users\\Bhargavi\\anaconda3\\lib\\site-packages\\sklearn\\metrics\\_classification.py:1318: UndefinedMetricWarning: Precision is ill-defined and being set to 0.0 in labels with no predicted samples. Use `zero_division` parameter to control this behavior.\n",
      "  _warn_prf(average, modifier, msg_start, len(result))\n",
      "C:\\Users\\Bhargavi\\AppData\\Local\\Temp\\ipykernel_21392\\255523458.py:21: FutureWarning: In a future version of pandas all arguments of DataFrame.drop except for the argument 'labels' will be keyword-only.\n",
      "  df2.drop(df2.columns.difference(['Node',degree_cent]), 1, inplace=True)\n"
     ]
    },
    {
     "name": "stdout",
     "output_type": "stream",
     "text": [
      "1    181\n",
      "2      9\n",
      "3      2\n",
      "6      1\n",
      "Name: Label, dtype: int64\n"
     ]
    },
    {
     "name": "stderr",
     "output_type": "stream",
     "text": [
      "C:\\Users\\Bhargavi\\anaconda3\\lib\\site-packages\\sklearn\\metrics\\_classification.py:1318: UndefinedMetricWarning: Precision is ill-defined and being set to 0.0 in labels with no predicted samples. Use `zero_division` parameter to control this behavior.\n",
      "  _warn_prf(average, modifier, msg_start, len(result))\n",
      "C:\\Users\\Bhargavi\\AppData\\Local\\Temp\\ipykernel_21392\\255523458.py:21: FutureWarning: In a future version of pandas all arguments of DataFrame.drop except for the argument 'labels' will be keyword-only.\n",
      "  df2.drop(df2.columns.difference(['Node',degree_cent]), 1, inplace=True)\n"
     ]
    },
    {
     "name": "stdout",
     "output_type": "stream",
     "text": [
      "1     173\n",
      "2       8\n",
      "3       7\n",
      "4       2\n",
      "5       1\n",
      "11      1\n",
      "6       1\n",
      "Name: Label, dtype: int64\n"
     ]
    },
    {
     "name": "stderr",
     "output_type": "stream",
     "text": [
      "C:\\Users\\Bhargavi\\anaconda3\\lib\\site-packages\\sklearn\\metrics\\_classification.py:1318: UndefinedMetricWarning: Precision is ill-defined and being set to 0.0 in labels with no predicted samples. Use `zero_division` parameter to control this behavior.\n",
      "  _warn_prf(average, modifier, msg_start, len(result))\n",
      "C:\\Users\\Bhargavi\\AppData\\Local\\Temp\\ipykernel_21392\\255523458.py:21: FutureWarning: In a future version of pandas all arguments of DataFrame.drop except for the argument 'labels' will be keyword-only.\n",
      "  df2.drop(df2.columns.difference(['Node',degree_cent]), 1, inplace=True)\n"
     ]
    },
    {
     "name": "stdout",
     "output_type": "stream",
     "text": [
      "1     146\n",
      "2      27\n",
      "4       5\n",
      "5       4\n",
      "6       3\n",
      "3       3\n",
      "10      1\n",
      "8       1\n",
      "7       1\n",
      "21      1\n",
      "11      1\n",
      "Name: Label, dtype: int64\n"
     ]
    },
    {
     "name": "stderr",
     "output_type": "stream",
     "text": [
      "C:\\Users\\Bhargavi\\anaconda3\\lib\\site-packages\\sklearn\\metrics\\_classification.py:1318: UndefinedMetricWarning: Precision is ill-defined and being set to 0.0 in labels with no predicted samples. Use `zero_division` parameter to control this behavior.\n",
      "  _warn_prf(average, modifier, msg_start, len(result))\n",
      "C:\\Users\\Bhargavi\\anaconda3\\lib\\site-packages\\sklearn\\metrics\\_classification.py:1318: UndefinedMetricWarning: Recall is ill-defined and being set to 0.0 in labels with no true samples. Use `zero_division` parameter to control this behavior.\n",
      "  _warn_prf(average, modifier, msg_start, len(result))\n",
      "C:\\Users\\Bhargavi\\AppData\\Local\\Temp\\ipykernel_21392\\255523458.py:21: FutureWarning: In a future version of pandas all arguments of DataFrame.drop except for the argument 'labels' will be keyword-only.\n",
      "  df2.drop(df2.columns.difference(['Node',degree_cent]), 1, inplace=True)\n"
     ]
    },
    {
     "name": "stdout",
     "output_type": "stream",
     "text": [
      "1     120\n",
      "2      37\n",
      "3      16\n",
      "6       3\n",
      "7       3\n",
      "4       3\n",
      "9       2\n",
      "11      2\n",
      "8       2\n",
      "5       2\n",
      "15      1\n",
      "30      1\n",
      "16      1\n",
      "Name: Label, dtype: int64\n"
     ]
    },
    {
     "name": "stderr",
     "output_type": "stream",
     "text": [
      "C:\\Users\\Bhargavi\\anaconda3\\lib\\site-packages\\sklearn\\metrics\\_classification.py:1318: UndefinedMetricWarning: Precision is ill-defined and being set to 0.0 in labels with no predicted samples. Use `zero_division` parameter to control this behavior.\n",
      "  _warn_prf(average, modifier, msg_start, len(result))\n",
      "C:\\Users\\Bhargavi\\anaconda3\\lib\\site-packages\\sklearn\\metrics\\_classification.py:1318: UndefinedMetricWarning: Recall is ill-defined and being set to 0.0 in labels with no true samples. Use `zero_division` parameter to control this behavior.\n",
      "  _warn_prf(average, modifier, msg_start, len(result))\n",
      "C:\\Users\\Bhargavi\\AppData\\Local\\Temp\\ipykernel_21392\\255523458.py:21: FutureWarning: In a future version of pandas all arguments of DataFrame.drop except for the argument 'labels' will be keyword-only.\n",
      "  df2.drop(df2.columns.difference(['Node',degree_cent]), 1, inplace=True)\n"
     ]
    },
    {
     "name": "stdout",
     "output_type": "stream",
     "text": [
      "1     102\n",
      "2      44\n",
      "3      14\n",
      "4      13\n",
      "8       3\n",
      "5       3\n",
      "11      2\n",
      "9       2\n",
      "10      2\n",
      "7       2\n",
      "20      1\n",
      "15      1\n",
      "14      1\n",
      "41      1\n",
      "12      1\n",
      "21      1\n",
      "Name: Label, dtype: int64\n"
     ]
    },
    {
     "name": "stderr",
     "output_type": "stream",
     "text": [
      "C:\\Users\\Bhargavi\\anaconda3\\lib\\site-packages\\sklearn\\metrics\\_classification.py:1318: UndefinedMetricWarning: Precision is ill-defined and being set to 0.0 in labels with no predicted samples. Use `zero_division` parameter to control this behavior.\n",
      "  _warn_prf(average, modifier, msg_start, len(result))\n",
      "C:\\Users\\Bhargavi\\anaconda3\\lib\\site-packages\\sklearn\\metrics\\_classification.py:1318: UndefinedMetricWarning: Recall is ill-defined and being set to 0.0 in labels with no true samples. Use `zero_division` parameter to control this behavior.\n",
      "  _warn_prf(average, modifier, msg_start, len(result))\n",
      "C:\\Users\\Bhargavi\\AppData\\Local\\Temp\\ipykernel_21392\\255523458.py:21: FutureWarning: In a future version of pandas all arguments of DataFrame.drop except for the argument 'labels' will be keyword-only.\n",
      "  df2.drop(df2.columns.difference(['Node',degree_cent]), 1, inplace=True)\n"
     ]
    },
    {
     "name": "stdout",
     "output_type": "stream",
     "text": [
      "1     87\n",
      "2     47\n",
      "3     20\n",
      "4     10\n",
      "5      9\n",
      "10     3\n",
      "6      3\n",
      "11     2\n",
      "13     2\n",
      "14     2\n",
      "9      1\n",
      "25     1\n",
      "27     1\n",
      "12     1\n",
      "51     1\n",
      "17     1\n",
      "18     1\n",
      "8      1\n",
      "Name: Label, dtype: int64\n"
     ]
    },
    {
     "name": "stderr",
     "output_type": "stream",
     "text": [
      "C:\\Users\\Bhargavi\\anaconda3\\lib\\site-packages\\sklearn\\metrics\\_classification.py:1318: UndefinedMetricWarning: Precision is ill-defined and being set to 0.0 in labels with no predicted samples. Use `zero_division` parameter to control this behavior.\n",
      "  _warn_prf(average, modifier, msg_start, len(result))\n",
      "C:\\Users\\Bhargavi\\anaconda3\\lib\\site-packages\\sklearn\\metrics\\_classification.py:1318: UndefinedMetricWarning: Recall is ill-defined and being set to 0.0 in labels with no true samples. Use `zero_division` parameter to control this behavior.\n",
      "  _warn_prf(average, modifier, msg_start, len(result))\n",
      "C:\\Users\\Bhargavi\\AppData\\Local\\Temp\\ipykernel_21392\\255523458.py:21: FutureWarning: In a future version of pandas all arguments of DataFrame.drop except for the argument 'labels' will be keyword-only.\n",
      "  df2.drop(df2.columns.difference(['Node',degree_cent]), 1, inplace=True)\n"
     ]
    },
    {
     "name": "stdout",
     "output_type": "stream",
     "text": [
      "1     82\n",
      "2     38\n",
      "3     26\n",
      "4     11\n",
      "5      8\n",
      "6      8\n",
      "7      3\n",
      "12     2\n",
      "14     2\n",
      "17     2\n",
      "10     2\n",
      "32     1\n",
      "30     1\n",
      "60     1\n",
      "16     1\n",
      "13     1\n",
      "21     1\n",
      "11     1\n",
      "22     1\n",
      "15     1\n",
      "Name: Label, dtype: int64\n"
     ]
    },
    {
     "name": "stderr",
     "output_type": "stream",
     "text": [
      "C:\\Users\\Bhargavi\\anaconda3\\lib\\site-packages\\sklearn\\metrics\\_classification.py:1318: UndefinedMetricWarning: Precision is ill-defined and being set to 0.0 in labels with no predicted samples. Use `zero_division` parameter to control this behavior.\n",
      "  _warn_prf(average, modifier, msg_start, len(result))\n",
      "C:\\Users\\Bhargavi\\anaconda3\\lib\\site-packages\\sklearn\\metrics\\_classification.py:1318: UndefinedMetricWarning: Recall is ill-defined and being set to 0.0 in labels with no true samples. Use `zero_division` parameter to control this behavior.\n",
      "  _warn_prf(average, modifier, msg_start, len(result))\n",
      "C:\\Users\\Bhargavi\\AppData\\Local\\Temp\\ipykernel_21392\\255523458.py:21: FutureWarning: In a future version of pandas all arguments of DataFrame.drop except for the argument 'labels' will be keyword-only.\n",
      "  df2.drop(df2.columns.difference(['Node',degree_cent]), 1, inplace=True)\n"
     ]
    },
    {
     "name": "stdout",
     "output_type": "stream",
     "text": [
      "1     76\n",
      "2     37\n",
      "3     26\n",
      "4     11\n",
      "5      8\n",
      "6      8\n",
      "7      7\n",
      "20     2\n",
      "8      2\n",
      "12     2\n",
      "18     2\n",
      "13     2\n",
      "16     1\n",
      "14     1\n",
      "37     1\n",
      "17     1\n",
      "71     1\n",
      "9      1\n",
      "15     1\n",
      "24     1\n",
      "25     1\n",
      "35     1\n",
      "Name: Label, dtype: int64\n"
     ]
    },
    {
     "name": "stderr",
     "output_type": "stream",
     "text": [
      "C:\\Users\\Bhargavi\\anaconda3\\lib\\site-packages\\sklearn\\metrics\\_classification.py:1318: UndefinedMetricWarning: Precision is ill-defined and being set to 0.0 in labels with no predicted samples. Use `zero_division` parameter to control this behavior.\n",
      "  _warn_prf(average, modifier, msg_start, len(result))\n",
      "C:\\Users\\Bhargavi\\anaconda3\\lib\\site-packages\\sklearn\\metrics\\_classification.py:1318: UndefinedMetricWarning: Recall is ill-defined and being set to 0.0 in labels with no true samples. Use `zero_division` parameter to control this behavior.\n",
      "  _warn_prf(average, modifier, msg_start, len(result))\n",
      "C:\\Users\\Bhargavi\\AppData\\Local\\Temp\\ipykernel_21392\\255523458.py:21: FutureWarning: In a future version of pandas all arguments of DataFrame.drop except for the argument 'labels' will be keyword-only.\n",
      "  df2.drop(df2.columns.difference(['Node',degree_cent]), 1, inplace=True)\n"
     ]
    },
    {
     "name": "stdout",
     "output_type": "stream",
     "text": [
      "1     66\n",
      "2     36\n",
      "3     28\n",
      "4     16\n",
      "5     10\n",
      "8      7\n",
      "7      6\n",
      "6      4\n",
      "13     2\n",
      "15     2\n",
      "9      2\n",
      "10     1\n",
      "42     1\n",
      "40     1\n",
      "22     1\n",
      "18     1\n",
      "16     1\n",
      "23     1\n",
      "19     1\n",
      "81     1\n",
      "21     1\n",
      "17     1\n",
      "27     1\n",
      "29     1\n",
      "20     1\n",
      "Name: Label, dtype: int64\n"
     ]
    },
    {
     "name": "stderr",
     "output_type": "stream",
     "text": [
      "C:\\Users\\Bhargavi\\anaconda3\\lib\\site-packages\\sklearn\\metrics\\_classification.py:1318: UndefinedMetricWarning: Precision is ill-defined and being set to 0.0 in labels with no predicted samples. Use `zero_division` parameter to control this behavior.\n",
      "  _warn_prf(average, modifier, msg_start, len(result))\n",
      "C:\\Users\\Bhargavi\\anaconda3\\lib\\site-packages\\sklearn\\metrics\\_classification.py:1318: UndefinedMetricWarning: Recall is ill-defined and being set to 0.0 in labels with no true samples. Use `zero_division` parameter to control this behavior.\n",
      "  _warn_prf(average, modifier, msg_start, len(result))\n",
      "C:\\Users\\Bhargavi\\AppData\\Local\\Temp\\ipykernel_21392\\255523458.py:21: FutureWarning: In a future version of pandas all arguments of DataFrame.drop except for the argument 'labels' will be keyword-only.\n",
      "  df2.drop(df2.columns.difference(['Node',degree_cent]), 1, inplace=True)\n"
     ]
    },
    {
     "name": "stdout",
     "output_type": "stream",
     "text": [
      "1     62\n",
      "2     35\n",
      "3     23\n",
      "4     22\n",
      "5      8\n",
      "6      7\n",
      "7      7\n",
      "9      7\n",
      "8      2\n",
      "10     2\n",
      "15     2\n",
      "23     2\n",
      "17     2\n",
      "20     1\n",
      "25     1\n",
      "47     1\n",
      "18     1\n",
      "26     1\n",
      "11     1\n",
      "21     1\n",
      "91     1\n",
      "19     1\n",
      "31     1\n",
      "32     1\n",
      "45     1\n",
      "Name: Label, dtype: int64\n"
     ]
    },
    {
     "name": "stderr",
     "output_type": "stream",
     "text": [
      "C:\\Users\\Bhargavi\\anaconda3\\lib\\site-packages\\sklearn\\metrics\\_classification.py:1318: UndefinedMetricWarning: Precision is ill-defined and being set to 0.0 in labels with no predicted samples. Use `zero_division` parameter to control this behavior.\n",
      "  _warn_prf(average, modifier, msg_start, len(result))\n",
      "C:\\Users\\Bhargavi\\anaconda3\\lib\\site-packages\\sklearn\\metrics\\_classification.py:1318: UndefinedMetricWarning: Recall is ill-defined and being set to 0.0 in labels with no true samples. Use `zero_division` parameter to control this behavior.\n",
      "  _warn_prf(average, modifier, msg_start, len(result))\n",
      "C:\\Users\\Bhargavi\\AppData\\Local\\Temp\\ipykernel_21392\\255523458.py:21: FutureWarning: In a future version of pandas all arguments of DataFrame.drop except for the argument 'labels' will be keyword-only.\n",
      "  df2.drop(df2.columns.difference(['Node',degree_cent]), 1, inplace=True)\n"
     ]
    },
    {
     "name": "stdout",
     "output_type": "stream",
     "text": [
      "1      61\n",
      "3      28\n",
      "2      26\n",
      "4      19\n",
      "5      12\n",
      "6       8\n",
      "10      7\n",
      "8       7\n",
      "7       3\n",
      "19      2\n",
      "22      2\n",
      "11      2\n",
      "28      2\n",
      "9       2\n",
      "12      1\n",
      "50      1\n",
      "53      1\n",
      "16      1\n",
      "25      1\n",
      "20      1\n",
      "24      1\n",
      "101     1\n",
      "26      1\n",
      "34      1\n",
      "36      1\n",
      "17      1\n",
      "Name: Label, dtype: int64\n"
     ]
    },
    {
     "name": "stderr",
     "output_type": "stream",
     "text": [
      "C:\\Users\\Bhargavi\\anaconda3\\lib\\site-packages\\sklearn\\metrics\\_classification.py:1318: UndefinedMetricWarning: Precision is ill-defined and being set to 0.0 in labels with no predicted samples. Use `zero_division` parameter to control this behavior.\n",
      "  _warn_prf(average, modifier, msg_start, len(result))\n",
      "C:\\Users\\Bhargavi\\anaconda3\\lib\\site-packages\\sklearn\\metrics\\_classification.py:1318: UndefinedMetricWarning: Recall is ill-defined and being set to 0.0 in labels with no true samples. Use `zero_division` parameter to control this behavior.\n",
      "  _warn_prf(average, modifier, msg_start, len(result))\n",
      "C:\\Users\\Bhargavi\\AppData\\Local\\Temp\\ipykernel_21392\\255523458.py:21: FutureWarning: In a future version of pandas all arguments of DataFrame.drop except for the argument 'labels' will be keyword-only.\n",
      "  df2.drop(df2.columns.difference(['Node',degree_cent]), 1, inplace=True)\n"
     ]
    },
    {
     "name": "stdout",
     "output_type": "stream",
     "text": [
      "1    180\n",
      "2     13\n",
      "Name: Label, dtype: int64\n"
     ]
    },
    {
     "name": "stderr",
     "output_type": "stream",
     "text": [
      "C:\\Users\\Bhargavi\\AppData\\Local\\Temp\\ipykernel_21392\\255523458.py:21: FutureWarning: In a future version of pandas all arguments of DataFrame.drop except for the argument 'labels' will be keyword-only.\n",
      "  df2.drop(df2.columns.difference(['Node',degree_cent]), 1, inplace=True)\n"
     ]
    },
    {
     "name": "stdout",
     "output_type": "stream",
     "text": [
      "1    156\n",
      "2     15\n",
      "3     14\n",
      "4      5\n",
      "5      3\n",
      "Name: Label, dtype: int64\n"
     ]
    },
    {
     "name": "stderr",
     "output_type": "stream",
     "text": [
      "C:\\Users\\Bhargavi\\AppData\\Local\\Temp\\ipykernel_21392\\255523458.py:21: FutureWarning: In a future version of pandas all arguments of DataFrame.drop except for the argument 'labels' will be keyword-only.\n",
      "  df2.drop(df2.columns.difference(['Node',degree_cent]), 1, inplace=True)\n"
     ]
    },
    {
     "name": "stdout",
     "output_type": "stream",
     "text": [
      "2     80\n",
      "1     76\n",
      "3     14\n",
      "5      9\n",
      "6      5\n",
      "7      4\n",
      "10     2\n",
      "4      1\n",
      "9      1\n",
      "8      1\n",
      "Name: Label, dtype: int64\n"
     ]
    },
    {
     "name": "stderr",
     "output_type": "stream",
     "text": [
      "C:\\Users\\Bhargavi\\AppData\\Local\\Temp\\ipykernel_21392\\255523458.py:21: FutureWarning: In a future version of pandas all arguments of DataFrame.drop except for the argument 'labels' will be keyword-only.\n",
      "  df2.drop(df2.columns.difference(['Node',degree_cent]), 1, inplace=True)\n"
     ]
    },
    {
     "name": "stdout",
     "output_type": "stream",
     "text": [
      "4     54\n",
      "1     47\n",
      "2     29\n",
      "3     26\n",
      "5      9\n",
      "10     7\n",
      "6      5\n",
      "12     4\n",
      "13     3\n",
      "9      2\n",
      "7      1\n",
      "14     1\n",
      "11     1\n",
      "19     1\n",
      "17     1\n",
      "20     1\n",
      "15     1\n",
      "Name: Label, dtype: int64\n"
     ]
    },
    {
     "name": "stderr",
     "output_type": "stream",
     "text": [
      "C:\\Users\\Bhargavi\\anaconda3\\lib\\site-packages\\sklearn\\metrics\\_classification.py:1318: UndefinedMetricWarning: Precision is ill-defined and being set to 0.0 in labels with no predicted samples. Use `zero_division` parameter to control this behavior.\n",
      "  _warn_prf(average, modifier, msg_start, len(result))\n",
      "C:\\Users\\Bhargavi\\anaconda3\\lib\\site-packages\\sklearn\\metrics\\_classification.py:1318: UndefinedMetricWarning: Recall is ill-defined and being set to 0.0 in labels with no true samples. Use `zero_division` parameter to control this behavior.\n",
      "  _warn_prf(average, modifier, msg_start, len(result))\n",
      "C:\\Users\\Bhargavi\\AppData\\Local\\Temp\\ipykernel_21392\\255523458.py:21: FutureWarning: In a future version of pandas all arguments of DataFrame.drop except for the argument 'labels' will be keyword-only.\n",
      "  df2.drop(df2.columns.difference(['Node',degree_cent]), 1, inplace=True)\n"
     ]
    },
    {
     "name": "stdout",
     "output_type": "stream",
     "text": [
      "6     45\n",
      "1     31\n",
      "2     27\n",
      "4     22\n",
      "3     18\n",
      "5     13\n",
      "7      8\n",
      "15     5\n",
      "14     4\n",
      "8      3\n",
      "9      3\n",
      "18     3\n",
      "19     3\n",
      "17     2\n",
      "10     1\n",
      "21     1\n",
      "29     1\n",
      "25     1\n",
      "30     1\n",
      "22     1\n",
      "Name: Label, dtype: int64\n"
     ]
    },
    {
     "name": "stderr",
     "output_type": "stream",
     "text": [
      "C:\\Users\\Bhargavi\\anaconda3\\lib\\site-packages\\sklearn\\metrics\\_classification.py:1318: UndefinedMetricWarning: Precision is ill-defined and being set to 0.0 in labels with no predicted samples. Use `zero_division` parameter to control this behavior.\n",
      "  _warn_prf(average, modifier, msg_start, len(result))\n",
      "C:\\Users\\Bhargavi\\anaconda3\\lib\\site-packages\\sklearn\\metrics\\_classification.py:1318: UndefinedMetricWarning: Recall is ill-defined and being set to 0.0 in labels with no true samples. Use `zero_division` parameter to control this behavior.\n",
      "  _warn_prf(average, modifier, msg_start, len(result))\n",
      "C:\\Users\\Bhargavi\\AppData\\Local\\Temp\\ipykernel_21392\\255523458.py:21: FutureWarning: In a future version of pandas all arguments of DataFrame.drop except for the argument 'labels' will be keyword-only.\n",
      "  df2.drop(df2.columns.difference(['Node',degree_cent]), 1, inplace=True)\n"
     ]
    },
    {
     "name": "stdout",
     "output_type": "stream",
     "text": [
      "8     37\n",
      "2     27\n",
      "1     20\n",
      "5     18\n",
      "3     17\n",
      "7     17\n",
      "4     12\n",
      "6      8\n",
      "9      8\n",
      "19     6\n",
      "11     4\n",
      "25     3\n",
      "24     3\n",
      "18     2\n",
      "39     1\n",
      "33     1\n",
      "23     1\n",
      "38     1\n",
      "20     1\n",
      "22     1\n",
      "12     1\n",
      "10     1\n",
      "28     1\n",
      "14     1\n",
      "29     1\n",
      "Name: Label, dtype: int64\n"
     ]
    },
    {
     "name": "stderr",
     "output_type": "stream",
     "text": [
      "C:\\Users\\Bhargavi\\anaconda3\\lib\\site-packages\\sklearn\\metrics\\_classification.py:1318: UndefinedMetricWarning: Precision is ill-defined and being set to 0.0 in labels with no predicted samples. Use `zero_division` parameter to control this behavior.\n",
      "  _warn_prf(average, modifier, msg_start, len(result))\n",
      "C:\\Users\\Bhargavi\\anaconda3\\lib\\site-packages\\sklearn\\metrics\\_classification.py:1318: UndefinedMetricWarning: Recall is ill-defined and being set to 0.0 in labels with no true samples. Use `zero_division` parameter to control this behavior.\n",
      "  _warn_prf(average, modifier, msg_start, len(result))\n",
      "C:\\Users\\Bhargavi\\AppData\\Local\\Temp\\ipykernel_21392\\255523458.py:21: FutureWarning: In a future version of pandas all arguments of DataFrame.drop except for the argument 'labels' will be keyword-only.\n",
      "  df2.drop(df2.columns.difference(['Node',degree_cent]), 1, inplace=True)\n"
     ]
    },
    {
     "name": "stdout",
     "output_type": "stream",
     "text": [
      "10    29\n",
      "2     24\n",
      "9     18\n",
      "3     18\n",
      "6     15\n",
      "4     14\n",
      "1     13\n",
      "7      9\n",
      "8      9\n",
      "5      7\n",
      "24     5\n",
      "11     5\n",
      "12     4\n",
      "14     3\n",
      "23     3\n",
      "31     3\n",
      "30     2\n",
      "28     2\n",
      "41     1\n",
      "13     1\n",
      "49     1\n",
      "29     1\n",
      "15     1\n",
      "47     1\n",
      "25     1\n",
      "17     1\n",
      "35     1\n",
      "36     1\n",
      "Name: Label, dtype: int64\n"
     ]
    },
    {
     "name": "stderr",
     "output_type": "stream",
     "text": [
      "C:\\Users\\Bhargavi\\anaconda3\\lib\\site-packages\\sklearn\\metrics\\_classification.py:1318: UndefinedMetricWarning: Precision is ill-defined and being set to 0.0 in labels with no predicted samples. Use `zero_division` parameter to control this behavior.\n",
      "  _warn_prf(average, modifier, msg_start, len(result))\n",
      "C:\\Users\\Bhargavi\\anaconda3\\lib\\site-packages\\sklearn\\metrics\\_classification.py:1318: UndefinedMetricWarning: Recall is ill-defined and being set to 0.0 in labels with no true samples. Use `zero_division` parameter to control this behavior.\n",
      "  _warn_prf(average, modifier, msg_start, len(result))\n",
      "C:\\Users\\Bhargavi\\AppData\\Local\\Temp\\ipykernel_21392\\255523458.py:21: FutureWarning: In a future version of pandas all arguments of DataFrame.drop except for the argument 'labels' will be keyword-only.\n",
      "  df2.drop(df2.columns.difference(['Node',degree_cent]), 1, inplace=True)\n"
     ]
    },
    {
     "name": "stdout",
     "output_type": "stream",
     "text": [
      "11    27\n",
      "2     20\n",
      "12    18\n",
      "3     16\n",
      "7     14\n",
      "5     12\n",
      "4     11\n",
      "1     11\n",
      "10     9\n",
      "8      8\n",
      "6      6\n",
      "14     5\n",
      "9      4\n",
      "29     4\n",
      "13     3\n",
      "37     3\n",
      "17     2\n",
      "28     2\n",
      "16     2\n",
      "36     2\n",
      "27     2\n",
      "35     1\n",
      "59     1\n",
      "49     1\n",
      "34     1\n",
      "30     1\n",
      "57     1\n",
      "33     1\n",
      "18     1\n",
      "15     1\n",
      "42     1\n",
      "20     1\n",
      "43     1\n",
      "Name: Label, dtype: int64\n"
     ]
    },
    {
     "name": "stderr",
     "output_type": "stream",
     "text": [
      "C:\\Users\\Bhargavi\\anaconda3\\lib\\site-packages\\sklearn\\metrics\\_classification.py:1318: UndefinedMetricWarning: Precision is ill-defined and being set to 0.0 in labels with no predicted samples. Use `zero_division` parameter to control this behavior.\n",
      "  _warn_prf(average, modifier, msg_start, len(result))\n",
      "C:\\Users\\Bhargavi\\anaconda3\\lib\\site-packages\\sklearn\\metrics\\_classification.py:1318: UndefinedMetricWarning: Recall is ill-defined and being set to 0.0 in labels with no true samples. Use `zero_division` parameter to control this behavior.\n",
      "  _warn_prf(average, modifier, msg_start, len(result))\n",
      "C:\\Users\\Bhargavi\\AppData\\Local\\Temp\\ipykernel_21392\\255523458.py:21: FutureWarning: In a future version of pandas all arguments of DataFrame.drop except for the argument 'labels' will be keyword-only.\n",
      "  df2.drop(df2.columns.difference(['Node',degree_cent]), 1, inplace=True)\n"
     ]
    },
    {
     "name": "stdout",
     "output_type": "stream",
     "text": [
      "13    28\n",
      "3     20\n",
      "8     14\n",
      "14    13\n",
      "2     13\n",
      "4     12\n",
      "12     9\n",
      "6      9\n",
      "1      8\n",
      "5      8\n",
      "10     7\n",
      "7      6\n",
      "11     5\n",
      "16     5\n",
      "33     4\n",
      "9      4\n",
      "19     3\n",
      "15     3\n",
      "32     3\n",
      "43     2\n",
      "42     2\n",
      "35     1\n",
      "66     1\n",
      "18     1\n",
      "69     1\n",
      "41     1\n",
      "57     1\n",
      "40     1\n",
      "38     1\n",
      "44     1\n",
      "34     1\n",
      "24     1\n",
      "21     1\n",
      "49     1\n",
      "17     1\n",
      "50     1\n",
      "Name: Label, dtype: int64\n"
     ]
    },
    {
     "name": "stderr",
     "output_type": "stream",
     "text": [
      "C:\\Users\\Bhargavi\\anaconda3\\lib\\site-packages\\sklearn\\metrics\\_classification.py:1318: UndefinedMetricWarning: Precision is ill-defined and being set to 0.0 in labels with no predicted samples. Use `zero_division` parameter to control this behavior.\n",
      "  _warn_prf(average, modifier, msg_start, len(result))\n",
      "C:\\Users\\Bhargavi\\anaconda3\\lib\\site-packages\\sklearn\\metrics\\_classification.py:1318: UndefinedMetricWarning: Recall is ill-defined and being set to 0.0 in labels with no true samples. Use `zero_division` parameter to control this behavior.\n",
      "  _warn_prf(average, modifier, msg_start, len(result))\n",
      "C:\\Users\\Bhargavi\\AppData\\Local\\Temp\\ipykernel_21392\\255523458.py:21: FutureWarning: In a future version of pandas all arguments of DataFrame.drop except for the argument 'labels' will be keyword-only.\n",
      "  df2.drop(df2.columns.difference(['Node',degree_cent]), 1, inplace=True)\n"
     ]
    },
    {
     "name": "stdout",
     "output_type": "stream",
     "text": [
      "15    30\n",
      "3     14\n",
      "2     13\n",
      "4     13\n",
      "9     11\n",
      "14    10\n",
      "7      9\n",
      "5      9\n",
      "6      8\n",
      "10     7\n",
      "1      7\n",
      "13     7\n",
      "16     7\n",
      "18     5\n",
      "11     4\n",
      "38     4\n",
      "12     4\n",
      "8      3\n",
      "17     3\n",
      "21     2\n",
      "37     2\n",
      "50     2\n",
      "48     2\n",
      "36     2\n",
      "22     2\n",
      "24     1\n",
      "27     1\n",
      "44     1\n",
      "56     1\n",
      "19     1\n",
      "75     1\n",
      "40     1\n",
      "45     1\n",
      "66     1\n",
      "47     1\n",
      "78     1\n",
      "49     1\n",
      "57     1\n",
      "Name: Label, dtype: int64\n"
     ]
    },
    {
     "name": "stderr",
     "output_type": "stream",
     "text": [
      "C:\\Users\\Bhargavi\\anaconda3\\lib\\site-packages\\sklearn\\metrics\\_classification.py:1318: UndefinedMetricWarning: Precision is ill-defined and being set to 0.0 in labels with no predicted samples. Use `zero_division` parameter to control this behavior.\n",
      "  _warn_prf(average, modifier, msg_start, len(result))\n",
      "C:\\Users\\Bhargavi\\anaconda3\\lib\\site-packages\\sklearn\\metrics\\_classification.py:1318: UndefinedMetricWarning: Recall is ill-defined and being set to 0.0 in labels with no true samples. Use `zero_division` parameter to control this behavior.\n",
      "  _warn_prf(average, modifier, msg_start, len(result))\n",
      "C:\\Users\\Bhargavi\\AppData\\Local\\Temp\\ipykernel_21392\\255523458.py:21: FutureWarning: In a future version of pandas all arguments of DataFrame.drop except for the argument 'labels' will be keyword-only.\n",
      "  df2.drop(df2.columns.difference(['Node',degree_cent]), 1, inplace=True)\n"
     ]
    },
    {
     "name": "stdout",
     "output_type": "stream",
     "text": [
      "17    31\n",
      "3     13\n",
      "4     12\n",
      "2     11\n",
      "10    10\n",
      "7     10\n",
      "16     9\n",
      "5      9\n",
      "15     8\n",
      "1      7\n",
      "11     6\n",
      "8      6\n",
      "6      6\n",
      "12     6\n",
      "18     5\n",
      "43     4\n",
      "19     3\n",
      "13     3\n",
      "20     3\n",
      "41     2\n",
      "9      2\n",
      "14     2\n",
      "54     2\n",
      "56     2\n",
      "21     2\n",
      "25     2\n",
      "30     1\n",
      "51     1\n",
      "55     1\n",
      "23     1\n",
      "24     1\n",
      "88     1\n",
      "53     1\n",
      "74     1\n",
      "42     1\n",
      "40     1\n",
      "27     1\n",
      "85     1\n",
      "45     1\n",
      "49     1\n",
      "22     1\n",
      "63     1\n",
      "64     1\n",
      "Name: Label, dtype: int64\n"
     ]
    },
    {
     "name": "stderr",
     "output_type": "stream",
     "text": [
      "C:\\Users\\Bhargavi\\anaconda3\\lib\\site-packages\\sklearn\\metrics\\_classification.py:1318: UndefinedMetricWarning: Precision is ill-defined and being set to 0.0 in labels with no predicted samples. Use `zero_division` parameter to control this behavior.\n",
      "  _warn_prf(average, modifier, msg_start, len(result))\n",
      "C:\\Users\\Bhargavi\\anaconda3\\lib\\site-packages\\sklearn\\metrics\\_classification.py:1318: UndefinedMetricWarning: Recall is ill-defined and being set to 0.0 in labels with no true samples. Use `zero_division` parameter to control this behavior.\n",
      "  _warn_prf(average, modifier, msg_start, len(result))\n",
      "C:\\Users\\Bhargavi\\AppData\\Local\\Temp\\ipykernel_21392\\255523458.py:21: FutureWarning: In a future version of pandas all arguments of DataFrame.drop except for the argument 'labels' will be keyword-only.\n",
      "  df2.drop(df2.columns.difference(['Node',degree_cent]), 1, inplace=True)\n"
     ]
    },
    {
     "name": "stdout",
     "output_type": "stream",
     "text": [
      "19    24\n",
      "18    13\n",
      "4     13\n",
      "3     11\n",
      "5     10\n",
      "8      9\n",
      "12     9\n",
      "2      9\n",
      "6      8\n",
      "16     7\n",
      "11     6\n",
      "14     6\n",
      "7      5\n",
      "17     5\n",
      "9      5\n",
      "20     5\n",
      "1      4\n",
      "47     4\n",
      "13     3\n",
      "22     3\n",
      "27     3\n",
      "23     3\n",
      "60     2\n",
      "15     2\n",
      "21     2\n",
      "45     2\n",
      "10     2\n",
      "62     2\n",
      "56     1\n",
      "82     1\n",
      "48     1\n",
      "58     1\n",
      "98     1\n",
      "46     1\n",
      "61     1\n",
      "26     1\n",
      "55     1\n",
      "94     1\n",
      "50     1\n",
      "34     1\n",
      "29     1\n",
      "69     1\n",
      "24     1\n",
      "71     1\n",
      "Name: Label, dtype: int64\n"
     ]
    },
    {
     "name": "stderr",
     "output_type": "stream",
     "text": [
      "C:\\Users\\Bhargavi\\anaconda3\\lib\\site-packages\\sklearn\\metrics\\_classification.py:1318: UndefinedMetricWarning: Precision is ill-defined and being set to 0.0 in labels with no predicted samples. Use `zero_division` parameter to control this behavior.\n",
      "  _warn_prf(average, modifier, msg_start, len(result))\n",
      "C:\\Users\\Bhargavi\\anaconda3\\lib\\site-packages\\sklearn\\metrics\\_classification.py:1318: UndefinedMetricWarning: Recall is ill-defined and being set to 0.0 in labels with no true samples. Use `zero_division` parameter to control this behavior.\n",
      "  _warn_prf(average, modifier, msg_start, len(result))\n",
      "C:\\Users\\Bhargavi\\AppData\\Local\\Temp\\ipykernel_21392\\255523458.py:21: FutureWarning: In a future version of pandas all arguments of DataFrame.drop except for the argument 'labels' will be keyword-only.\n",
      "  df2.drop(df2.columns.difference(['Node',degree_cent]), 1, inplace=True)\n"
     ]
    },
    {
     "name": "stdout",
     "output_type": "stream",
     "text": [
      "1    191\n",
      "3      1\n",
      "2      1\n",
      "Name: Label, dtype: int64\n"
     ]
    },
    {
     "name": "stderr",
     "output_type": "stream",
     "text": [
      "C:\\Users\\Bhargavi\\anaconda3\\lib\\site-packages\\sklearn\\metrics\\_classification.py:1318: UndefinedMetricWarning: Precision is ill-defined and being set to 0.0 in labels with no predicted samples. Use `zero_division` parameter to control this behavior.\n",
      "  _warn_prf(average, modifier, msg_start, len(result))\n",
      "C:\\Users\\Bhargavi\\AppData\\Local\\Temp\\ipykernel_21392\\255523458.py:21: FutureWarning: In a future version of pandas all arguments of DataFrame.drop except for the argument 'labels' will be keyword-only.\n",
      "  df2.drop(df2.columns.difference(['Node',degree_cent]), 1, inplace=True)\n"
     ]
    },
    {
     "name": "stdout",
     "output_type": "stream",
     "text": [
      "1    185\n",
      "2      5\n",
      "3      2\n",
      "5      1\n",
      "Name: Label, dtype: int64\n"
     ]
    },
    {
     "name": "stderr",
     "output_type": "stream",
     "text": [
      "C:\\Users\\Bhargavi\\anaconda3\\lib\\site-packages\\sklearn\\metrics\\_classification.py:1318: UndefinedMetricWarning: Precision is ill-defined and being set to 0.0 in labels with no predicted samples. Use `zero_division` parameter to control this behavior.\n",
      "  _warn_prf(average, modifier, msg_start, len(result))\n",
      "C:\\Users\\Bhargavi\\AppData\\Local\\Temp\\ipykernel_21392\\255523458.py:21: FutureWarning: In a future version of pandas all arguments of DataFrame.drop except for the argument 'labels' will be keyword-only.\n",
      "  df2.drop(df2.columns.difference(['Node',degree_cent]), 1, inplace=True)\n"
     ]
    },
    {
     "name": "stdout",
     "output_type": "stream",
     "text": [
      "1     176\n",
      "2       9\n",
      "3       5\n",
      "5       1\n",
      "10      1\n",
      "6       1\n",
      "Name: Label, dtype: int64\n"
     ]
    },
    {
     "name": "stderr",
     "output_type": "stream",
     "text": [
      "C:\\Users\\Bhargavi\\anaconda3\\lib\\site-packages\\sklearn\\metrics\\_classification.py:1318: UndefinedMetricWarning: Precision is ill-defined and being set to 0.0 in labels with no predicted samples. Use `zero_division` parameter to control this behavior.\n",
      "  _warn_prf(average, modifier, msg_start, len(result))\n",
      "C:\\Users\\Bhargavi\\anaconda3\\lib\\site-packages\\sklearn\\metrics\\_classification.py:1318: UndefinedMetricWarning: Recall is ill-defined and being set to 0.0 in labels with no true samples. Use `zero_division` parameter to control this behavior.\n",
      "  _warn_prf(average, modifier, msg_start, len(result))\n",
      "C:\\Users\\Bhargavi\\AppData\\Local\\Temp\\ipykernel_21392\\255523458.py:21: FutureWarning: In a future version of pandas all arguments of DataFrame.drop except for the argument 'labels' will be keyword-only.\n",
      "  df2.drop(df2.columns.difference(['Node',degree_cent]), 1, inplace=True)\n"
     ]
    },
    {
     "name": "stdout",
     "output_type": "stream",
     "text": [
      "1     165\n",
      "2      11\n",
      "4       5\n",
      "3       4\n",
      "5       3\n",
      "6       2\n",
      "9       1\n",
      "20      1\n",
      "11      1\n",
      "Name: Label, dtype: int64\n"
     ]
    },
    {
     "name": "stderr",
     "output_type": "stream",
     "text": [
      "C:\\Users\\Bhargavi\\anaconda3\\lib\\site-packages\\sklearn\\metrics\\_classification.py:1318: UndefinedMetricWarning: Precision is ill-defined and being set to 0.0 in labels with no predicted samples. Use `zero_division` parameter to control this behavior.\n",
      "  _warn_prf(average, modifier, msg_start, len(result))\n",
      "C:\\Users\\Bhargavi\\anaconda3\\lib\\site-packages\\sklearn\\metrics\\_classification.py:1318: UndefinedMetricWarning: Recall is ill-defined and being set to 0.0 in labels with no true samples. Use `zero_division` parameter to control this behavior.\n",
      "  _warn_prf(average, modifier, msg_start, len(result))\n",
      "C:\\Users\\Bhargavi\\AppData\\Local\\Temp\\ipykernel_21392\\255523458.py:21: FutureWarning: In a future version of pandas all arguments of DataFrame.drop except for the argument 'labels' will be keyword-only.\n",
      "  df2.drop(df2.columns.difference(['Node',degree_cent]), 1, inplace=True)\n"
     ]
    },
    {
     "name": "stdout",
     "output_type": "stream",
     "text": [
      "1     156\n",
      "2      15\n",
      "3       5\n",
      "4       4\n",
      "6       3\n",
      "7       2\n",
      "9       2\n",
      "5       2\n",
      "13      1\n",
      "31      1\n",
      "8       1\n",
      "16      1\n",
      "Name: Label, dtype: int64\n"
     ]
    },
    {
     "name": "stderr",
     "output_type": "stream",
     "text": [
      "C:\\Users\\Bhargavi\\anaconda3\\lib\\site-packages\\sklearn\\metrics\\_classification.py:1318: UndefinedMetricWarning: Precision is ill-defined and being set to 0.0 in labels with no predicted samples. Use `zero_division` parameter to control this behavior.\n",
      "  _warn_prf(average, modifier, msg_start, len(result))\n",
      "C:\\Users\\Bhargavi\\anaconda3\\lib\\site-packages\\sklearn\\metrics\\_classification.py:1318: UndefinedMetricWarning: Recall is ill-defined and being set to 0.0 in labels with no true samples. Use `zero_division` parameter to control this behavior.\n",
      "  _warn_prf(average, modifier, msg_start, len(result))\n",
      "C:\\Users\\Bhargavi\\AppData\\Local\\Temp\\ipykernel_21392\\255523458.py:21: FutureWarning: In a future version of pandas all arguments of DataFrame.drop except for the argument 'labels' will be keyword-only.\n",
      "  df2.drop(df2.columns.difference(['Node',degree_cent]), 1, inplace=True)\n"
     ]
    },
    {
     "name": "stdout",
     "output_type": "stream",
     "text": [
      "1     152\n",
      "2      13\n",
      "3      10\n",
      "7       4\n",
      "5       3\n",
      "9       2\n",
      "17      1\n",
      "12      1\n",
      "11      1\n",
      "8       1\n",
      "40      1\n",
      "10      1\n",
      "21      1\n",
      "6       1\n",
      "4       1\n",
      "Name: Label, dtype: int64\n"
     ]
    },
    {
     "name": "stderr",
     "output_type": "stream",
     "text": [
      "C:\\Users\\Bhargavi\\anaconda3\\lib\\site-packages\\sklearn\\metrics\\_classification.py:1318: UndefinedMetricWarning: Precision is ill-defined and being set to 0.0 in labels with no predicted samples. Use `zero_division` parameter to control this behavior.\n",
      "  _warn_prf(average, modifier, msg_start, len(result))\n",
      "C:\\Users\\Bhargavi\\anaconda3\\lib\\site-packages\\sklearn\\metrics\\_classification.py:1318: UndefinedMetricWarning: Recall is ill-defined and being set to 0.0 in labels with no true samples. Use `zero_division` parameter to control this behavior.\n",
      "  _warn_prf(average, modifier, msg_start, len(result))\n",
      "C:\\Users\\Bhargavi\\AppData\\Local\\Temp\\ipykernel_21392\\255523458.py:21: FutureWarning: In a future version of pandas all arguments of DataFrame.drop except for the argument 'labels' will be keyword-only.\n",
      "  df2.drop(df2.columns.difference(['Node',degree_cent]), 1, inplace=True)\n"
     ]
    },
    {
     "name": "stdout",
     "output_type": "stream",
     "text": [
      "1     147\n",
      "2      11\n",
      "3       9\n",
      "4       8\n",
      "7       3\n",
      "9       3\n",
      "11      2\n",
      "14      2\n",
      "22      1\n",
      "8       1\n",
      "10      1\n",
      "51      1\n",
      "13      1\n",
      "6       1\n",
      "26      1\n",
      "5       1\n",
      "Name: Label, dtype: int64\n"
     ]
    },
    {
     "name": "stderr",
     "output_type": "stream",
     "text": [
      "C:\\Users\\Bhargavi\\anaconda3\\lib\\site-packages\\sklearn\\metrics\\_classification.py:1318: UndefinedMetricWarning: Precision is ill-defined and being set to 0.0 in labels with no predicted samples. Use `zero_division` parameter to control this behavior.\n",
      "  _warn_prf(average, modifier, msg_start, len(result))\n",
      "C:\\Users\\Bhargavi\\anaconda3\\lib\\site-packages\\sklearn\\metrics\\_classification.py:1318: UndefinedMetricWarning: Recall is ill-defined and being set to 0.0 in labels with no true samples. Use `zero_division` parameter to control this behavior.\n",
      "  _warn_prf(average, modifier, msg_start, len(result))\n",
      "C:\\Users\\Bhargavi\\AppData\\Local\\Temp\\ipykernel_21392\\255523458.py:21: FutureWarning: In a future version of pandas all arguments of DataFrame.drop except for the argument 'labels' will be keyword-only.\n",
      "  df2.drop(df2.columns.difference(['Node',degree_cent]), 1, inplace=True)\n"
     ]
    },
    {
     "name": "stdout",
     "output_type": "stream",
     "text": [
      "1     139\n",
      "2      17\n",
      "3       9\n",
      "4       6\n",
      "5       5\n",
      "8       3\n",
      "17      2\n",
      "10      2\n",
      "11      2\n",
      "31      1\n",
      "26      1\n",
      "7       1\n",
      "14      1\n",
      "13      1\n",
      "61      1\n",
      "12      1\n",
      "15      1\n",
      "Name: Label, dtype: int64\n"
     ]
    },
    {
     "name": "stderr",
     "output_type": "stream",
     "text": [
      "C:\\Users\\Bhargavi\\anaconda3\\lib\\site-packages\\sklearn\\metrics\\_classification.py:1318: UndefinedMetricWarning: Precision is ill-defined and being set to 0.0 in labels with no predicted samples. Use `zero_division` parameter to control this behavior.\n",
      "  _warn_prf(average, modifier, msg_start, len(result))\n",
      "C:\\Users\\Bhargavi\\anaconda3\\lib\\site-packages\\sklearn\\metrics\\_classification.py:1318: UndefinedMetricWarning: Recall is ill-defined and being set to 0.0 in labels with no true samples. Use `zero_division` parameter to control this behavior.\n",
      "  _warn_prf(average, modifier, msg_start, len(result))\n",
      "C:\\Users\\Bhargavi\\AppData\\Local\\Temp\\ipykernel_21392\\255523458.py:21: FutureWarning: In a future version of pandas all arguments of DataFrame.drop except for the argument 'labels' will be keyword-only.\n",
      "  df2.drop(df2.columns.difference(['Node',degree_cent]), 1, inplace=True)\n"
     ]
    },
    {
     "name": "stdout",
     "output_type": "stream",
     "text": [
      "1     139\n",
      "2      13\n",
      "4       9\n",
      "3       6\n",
      "5       6\n",
      "6       3\n",
      "20      2\n",
      "9       2\n",
      "13      2\n",
      "37      1\n",
      "10      1\n",
      "30      1\n",
      "8       1\n",
      "15      1\n",
      "12      1\n",
      "17      1\n",
      "70      1\n",
      "14      1\n",
      "11      1\n",
      "16      1\n",
      "Name: Label, dtype: int64\n"
     ]
    },
    {
     "name": "stderr",
     "output_type": "stream",
     "text": [
      "C:\\Users\\Bhargavi\\anaconda3\\lib\\site-packages\\sklearn\\metrics\\_classification.py:1318: UndefinedMetricWarning: Precision is ill-defined and being set to 0.0 in labels with no predicted samples. Use `zero_division` parameter to control this behavior.\n",
      "  _warn_prf(average, modifier, msg_start, len(result))\n",
      "C:\\Users\\Bhargavi\\anaconda3\\lib\\site-packages\\sklearn\\metrics\\_classification.py:1318: UndefinedMetricWarning: Recall is ill-defined and being set to 0.0 in labels with no true samples. Use `zero_division` parameter to control this behavior.\n",
      "  _warn_prf(average, modifier, msg_start, len(result))\n",
      "C:\\Users\\Bhargavi\\AppData\\Local\\Temp\\ipykernel_21392\\255523458.py:21: FutureWarning: In a future version of pandas all arguments of DataFrame.drop except for the argument 'labels' will be keyword-only.\n",
      "  df2.drop(df2.columns.difference(['Node',degree_cent]), 1, inplace=True)\n"
     ]
    },
    {
     "name": "stdout",
     "output_type": "stream",
     "text": [
      "1     99\n",
      "2     53\n",
      "4      7\n",
      "3      6\n",
      "5      6\n",
      "6      4\n",
      "10     2\n",
      "13     2\n",
      "14     2\n",
      "42     1\n",
      "7      1\n",
      "11     1\n",
      "34     1\n",
      "9      1\n",
      "17     1\n",
      "20     1\n",
      "80     1\n",
      "16     1\n",
      "22     1\n",
      "23     1\n",
      "18     1\n",
      "Name: Label, dtype: int64\n"
     ]
    },
    {
     "name": "stderr",
     "output_type": "stream",
     "text": [
      "C:\\Users\\Bhargavi\\anaconda3\\lib\\site-packages\\sklearn\\metrics\\_classification.py:1318: UndefinedMetricWarning: Precision is ill-defined and being set to 0.0 in labels with no predicted samples. Use `zero_division` parameter to control this behavior.\n",
      "  _warn_prf(average, modifier, msg_start, len(result))\n",
      "C:\\Users\\Bhargavi\\anaconda3\\lib\\site-packages\\sklearn\\metrics\\_classification.py:1318: UndefinedMetricWarning: Recall is ill-defined and being set to 0.0 in labels with no true samples. Use `zero_division` parameter to control this behavior.\n",
      "  _warn_prf(average, modifier, msg_start, len(result))\n",
      "C:\\Users\\Bhargavi\\AppData\\Local\\Temp\\ipykernel_21392\\255523458.py:21: FutureWarning: In a future version of pandas all arguments of DataFrame.drop except for the argument 'labels' will be keyword-only.\n",
      "  df2.drop(df2.columns.difference(['Node',degree_cent]), 1, inplace=True)\n"
     ]
    },
    {
     "name": "stdout",
     "output_type": "stream",
     "text": [
      "1     87\n",
      "2     60\n",
      "3      9\n",
      "4      8\n",
      "6      6\n",
      "7      4\n",
      "12     3\n",
      "16     2\n",
      "11     1\n",
      "5      1\n",
      "8      1\n",
      "47     1\n",
      "39     1\n",
      "19     1\n",
      "15     1\n",
      "22     1\n",
      "91     1\n",
      "18     1\n",
      "14     1\n",
      "25     1\n",
      "26     1\n",
      "20     1\n",
      "Name: Label, dtype: int64\n"
     ]
    },
    {
     "name": "stderr",
     "output_type": "stream",
     "text": [
      "C:\\Users\\Bhargavi\\anaconda3\\lib\\site-packages\\sklearn\\metrics\\_classification.py:1318: UndefinedMetricWarning: Precision is ill-defined and being set to 0.0 in labels with no predicted samples. Use `zero_division` parameter to control this behavior.\n",
      "  _warn_prf(average, modifier, msg_start, len(result))\n",
      "C:\\Users\\Bhargavi\\anaconda3\\lib\\site-packages\\sklearn\\metrics\\_classification.py:1318: UndefinedMetricWarning: Recall is ill-defined and being set to 0.0 in labels with no true samples. Use `zero_division` parameter to control this behavior.\n",
      "  _warn_prf(average, modifier, msg_start, len(result))\n",
      "C:\\Users\\Bhargavi\\AppData\\Local\\Temp\\ipykernel_21392\\255523458.py:21: FutureWarning: In a future version of pandas all arguments of DataFrame.drop except for the argument 'labels' will be keyword-only.\n",
      "  df2.drop(df2.columns.difference(['Node',degree_cent]), 1, inplace=True)\n"
     ]
    },
    {
     "name": "stdout",
     "output_type": "stream",
     "text": [
      "1      87\n",
      "2      60\n",
      "5       7\n",
      "4       6\n",
      "7       6\n",
      "3       5\n",
      "28      2\n",
      "13      2\n",
      "18      2\n",
      "8       2\n",
      "6       2\n",
      "14      1\n",
      "9       1\n",
      "43      1\n",
      "52      1\n",
      "21      1\n",
      "22      1\n",
      "17      1\n",
      "25      1\n",
      "101     1\n",
      "20      1\n",
      "16      1\n",
      "12      1\n",
      "Name: Label, dtype: int64\n"
     ]
    },
    {
     "name": "stderr",
     "output_type": "stream",
     "text": [
      "C:\\Users\\Bhargavi\\anaconda3\\lib\\site-packages\\sklearn\\metrics\\_classification.py:1318: UndefinedMetricWarning: Precision is ill-defined and being set to 0.0 in labels with no predicted samples. Use `zero_division` parameter to control this behavior.\n",
      "  _warn_prf(average, modifier, msg_start, len(result))\n",
      "C:\\Users\\Bhargavi\\anaconda3\\lib\\site-packages\\sklearn\\metrics\\_classification.py:1318: UndefinedMetricWarning: Recall is ill-defined and being set to 0.0 in labels with no true samples. Use `zero_division` parameter to control this behavior.\n",
      "  _warn_prf(average, modifier, msg_start, len(result))\n",
      "C:\\Users\\Bhargavi\\AppData\\Local\\Temp\\ipykernel_21392\\255523458.py:21: FutureWarning: In a future version of pandas all arguments of DataFrame.drop except for the argument 'labels' will be keyword-only.\n",
      "  df2.drop(df2.columns.difference(['Node',degree_cent]), 1, inplace=True)\n"
     ]
    },
    {
     "name": "stdout",
     "output_type": "stream",
     "text": [
      "1    186\n",
      "2      7\n",
      "Name: Label, dtype: int64\n"
     ]
    },
    {
     "name": "stderr",
     "output_type": "stream",
     "text": [
      "C:\\Users\\Bhargavi\\AppData\\Local\\Temp\\ipykernel_21392\\255523458.py:21: FutureWarning: In a future version of pandas all arguments of DataFrame.drop except for the argument 'labels' will be keyword-only.\n",
      "  df2.drop(df2.columns.difference(['Node',degree_cent]), 1, inplace=True)\n"
     ]
    },
    {
     "name": "stdout",
     "output_type": "stream",
     "text": [
      "1    152\n",
      "2     29\n",
      "3      7\n",
      "4      3\n",
      "5      2\n",
      "Name: Label, dtype: int64\n"
     ]
    },
    {
     "name": "stderr",
     "output_type": "stream",
     "text": [
      "C:\\Users\\Bhargavi\\AppData\\Local\\Temp\\ipykernel_21392\\255523458.py:21: FutureWarning: In a future version of pandas all arguments of DataFrame.drop except for the argument 'labels' will be keyword-only.\n",
      "  df2.drop(df2.columns.difference(['Node',degree_cent]), 1, inplace=True)\n"
     ]
    },
    {
     "name": "stdout",
     "output_type": "stream",
     "text": [
      "2    87\n",
      "1    65\n",
      "3    19\n",
      "4    10\n",
      "5     5\n",
      "9     2\n",
      "6     2\n",
      "8     2\n",
      "7     1\n",
      "Name: Label, dtype: int64\n"
     ]
    },
    {
     "name": "stderr",
     "output_type": "stream",
     "text": [
      "C:\\Users\\Bhargavi\\AppData\\Local\\Temp\\ipykernel_21392\\255523458.py:21: FutureWarning: In a future version of pandas all arguments of DataFrame.drop except for the argument 'labels' will be keyword-only.\n",
      "  df2.drop(df2.columns.difference(['Node',degree_cent]), 1, inplace=True)\n"
     ]
    },
    {
     "name": "stdout",
     "output_type": "stream",
     "text": [
      "4     55\n",
      "1     38\n",
      "3     32\n",
      "2     27\n",
      "5     11\n",
      "6      8\n",
      "8      5\n",
      "7      5\n",
      "9      4\n",
      "14     1\n",
      "10     1\n",
      "17     1\n",
      "11     1\n",
      "15     1\n",
      "18     1\n",
      "12     1\n",
      "16     1\n",
      "Name: Label, dtype: int64\n"
     ]
    },
    {
     "name": "stderr",
     "output_type": "stream",
     "text": [
      "C:\\Users\\Bhargavi\\anaconda3\\lib\\site-packages\\sklearn\\metrics\\_classification.py:1318: UndefinedMetricWarning: Precision is ill-defined and being set to 0.0 in labels with no predicted samples. Use `zero_division` parameter to control this behavior.\n",
      "  _warn_prf(average, modifier, msg_start, len(result))\n",
      "C:\\Users\\Bhargavi\\AppData\\Local\\Temp\\ipykernel_21392\\255523458.py:21: FutureWarning: In a future version of pandas all arguments of DataFrame.drop except for the argument 'labels' will be keyword-only.\n",
      "  df2.drop(df2.columns.difference(['Node',degree_cent]), 1, inplace=True)\n"
     ]
    },
    {
     "name": "stdout",
     "output_type": "stream",
     "text": [
      "5     50\n",
      "2     27\n",
      "6     20\n",
      "3     19\n",
      "1     19\n",
      "4     17\n",
      "7      8\n",
      "8      8\n",
      "11     4\n",
      "10     4\n",
      "9      3\n",
      "13     3\n",
      "14     2\n",
      "12     2\n",
      "20     1\n",
      "25     1\n",
      "16     1\n",
      "23     1\n",
      "27     1\n",
      "17     1\n",
      "24     1\n",
      "Name: Label, dtype: int64\n"
     ]
    },
    {
     "name": "stderr",
     "output_type": "stream",
     "text": [
      "C:\\Users\\Bhargavi\\anaconda3\\lib\\site-packages\\sklearn\\metrics\\_classification.py:1318: UndefinedMetricWarning: Precision is ill-defined and being set to 0.0 in labels with no predicted samples. Use `zero_division` parameter to control this behavior.\n",
      "  _warn_prf(average, modifier, msg_start, len(result))\n",
      "C:\\Users\\Bhargavi\\anaconda3\\lib\\site-packages\\sklearn\\metrics\\_classification.py:1318: UndefinedMetricWarning: Recall is ill-defined and being set to 0.0 in labels with no true samples. Use `zero_division` parameter to control this behavior.\n",
      "  _warn_prf(average, modifier, msg_start, len(result))\n",
      "C:\\Users\\Bhargavi\\AppData\\Local\\Temp\\ipykernel_21392\\255523458.py:21: FutureWarning: In a future version of pandas all arguments of DataFrame.drop except for the argument 'labels' will be keyword-only.\n",
      "  df2.drop(df2.columns.difference(['Node',degree_cent]), 1, inplace=True)\n"
     ]
    },
    {
     "name": "stdout",
     "output_type": "stream",
     "text": [
      "7     41\n",
      "2     28\n",
      "6     18\n",
      "4     17\n",
      "8     14\n",
      "5     14\n",
      "3     10\n",
      "1     10\n",
      "10     6\n",
      "11     5\n",
      "9      5\n",
      "15     4\n",
      "12     3\n",
      "14     3\n",
      "17     3\n",
      "13     2\n",
      "27     1\n",
      "19     1\n",
      "34     1\n",
      "21     1\n",
      "30     1\n",
      "16     1\n",
      "36     1\n",
      "18     1\n",
      "23     1\n",
      "31     1\n",
      "Name: Label, dtype: int64\n"
     ]
    },
    {
     "name": "stderr",
     "output_type": "stream",
     "text": [
      "C:\\Users\\Bhargavi\\anaconda3\\lib\\site-packages\\sklearn\\metrics\\_classification.py:1318: UndefinedMetricWarning: Precision is ill-defined and being set to 0.0 in labels with no predicted samples. Use `zero_division` parameter to control this behavior.\n",
      "  _warn_prf(average, modifier, msg_start, len(result))\n",
      "C:\\Users\\Bhargavi\\anaconda3\\lib\\site-packages\\sklearn\\metrics\\_classification.py:1318: UndefinedMetricWarning: Recall is ill-defined and being set to 0.0 in labels with no true samples. Use `zero_division` parameter to control this behavior.\n",
      "  _warn_prf(average, modifier, msg_start, len(result))\n",
      "C:\\Users\\Bhargavi\\AppData\\Local\\Temp\\ipykernel_21392\\255523458.py:21: FutureWarning: In a future version of pandas all arguments of DataFrame.drop except for the argument 'labels' will be keyword-only.\n",
      "  df2.drop(df2.columns.difference(['Node',degree_cent]), 1, inplace=True)\n"
     ]
    },
    {
     "name": "stdout",
     "output_type": "stream",
     "text": [
      "8     42\n",
      "3     21\n",
      "2     16\n",
      "5     13\n",
      "9     13\n",
      "6     12\n",
      "10    11\n",
      "7      9\n",
      "1      8\n",
      "4      7\n",
      "13     6\n",
      "12     4\n",
      "19     4\n",
      "11     4\n",
      "17     4\n",
      "15     3\n",
      "14     2\n",
      "21     2\n",
      "18     2\n",
      "22     2\n",
      "38     1\n",
      "29     1\n",
      "45     1\n",
      "23     1\n",
      "26     1\n",
      "42     1\n",
      "34     1\n",
      "39     1\n",
      "Name: Label, dtype: int64\n"
     ]
    },
    {
     "name": "stderr",
     "output_type": "stream",
     "text": [
      "C:\\Users\\Bhargavi\\anaconda3\\lib\\site-packages\\sklearn\\metrics\\_classification.py:1318: UndefinedMetricWarning: Precision is ill-defined and being set to 0.0 in labels with no predicted samples. Use `zero_division` parameter to control this behavior.\n",
      "  _warn_prf(average, modifier, msg_start, len(result))\n",
      "C:\\Users\\Bhargavi\\anaconda3\\lib\\site-packages\\sklearn\\metrics\\_classification.py:1318: UndefinedMetricWarning: Recall is ill-defined and being set to 0.0 in labels with no true samples. Use `zero_division` parameter to control this behavior.\n",
      "  _warn_prf(average, modifier, msg_start, len(result))\n",
      "C:\\Users\\Bhargavi\\AppData\\Local\\Temp\\ipykernel_21392\\255523458.py:21: FutureWarning: In a future version of pandas all arguments of DataFrame.drop except for the argument 'labels' will be keyword-only.\n",
      "  df2.drop(df2.columns.difference(['Node',degree_cent]), 1, inplace=True)\n"
     ]
    },
    {
     "name": "stdout",
     "output_type": "stream",
     "text": [
      "10    35\n",
      "3     19\n",
      "9     15\n",
      "2     12\n",
      "11    10\n",
      "8     10\n",
      "12    10\n",
      "6     10\n",
      "5      9\n",
      "4      8\n",
      "1      7\n",
      "7      7\n",
      "16     5\n",
      "13     4\n",
      "14     4\n",
      "20     4\n",
      "22     3\n",
      "15     3\n",
      "25     2\n",
      "18     2\n",
      "23     2\n",
      "31     1\n",
      "34     1\n",
      "27     1\n",
      "54     1\n",
      "45     1\n",
      "28     1\n",
      "50     1\n",
      "26     1\n",
      "21     1\n",
      "40     1\n",
      "17     1\n",
      "47     1\n",
      "Name: Label, dtype: int64\n"
     ]
    },
    {
     "name": "stderr",
     "output_type": "stream",
     "text": [
      "C:\\Users\\Bhargavi\\anaconda3\\lib\\site-packages\\sklearn\\metrics\\_classification.py:1318: UndefinedMetricWarning: Precision is ill-defined and being set to 0.0 in labels with no predicted samples. Use `zero_division` parameter to control this behavior.\n",
      "  _warn_prf(average, modifier, msg_start, len(result))\n",
      "C:\\Users\\Bhargavi\\anaconda3\\lib\\site-packages\\sklearn\\metrics\\_classification.py:1318: UndefinedMetricWarning: Recall is ill-defined and being set to 0.0 in labels with no true samples. Use `zero_division` parameter to control this behavior.\n",
      "  _warn_prf(average, modifier, msg_start, len(result))\n",
      "C:\\Users\\Bhargavi\\AppData\\Local\\Temp\\ipykernel_21392\\255523458.py:21: FutureWarning: In a future version of pandas all arguments of DataFrame.drop except for the argument 'labels' will be keyword-only.\n",
      "  df2.drop(df2.columns.difference(['Node',degree_cent]), 1, inplace=True)\n"
     ]
    },
    {
     "name": "stdout",
     "output_type": "stream",
     "text": [
      "11    32\n",
      "4     19\n",
      "12    16\n",
      "10    11\n",
      "3     11\n",
      "7     10\n",
      "14     9\n",
      "9      9\n",
      "2      8\n",
      "6      8\n",
      "18     6\n",
      "1      6\n",
      "8      5\n",
      "13     5\n",
      "15     3\n",
      "5      3\n",
      "16     3\n",
      "23     2\n",
      "25     2\n",
      "24     2\n",
      "27     2\n",
      "30     2\n",
      "19     2\n",
      "21     2\n",
      "17     2\n",
      "26     2\n",
      "20     1\n",
      "47     1\n",
      "59     1\n",
      "32     1\n",
      "36     1\n",
      "53     1\n",
      "63     1\n",
      "31     1\n",
      "40     1\n",
      "29     1\n",
      "54     1\n",
      "Name: Label, dtype: int64\n"
     ]
    },
    {
     "name": "stderr",
     "output_type": "stream",
     "text": [
      "C:\\Users\\Bhargavi\\anaconda3\\lib\\site-packages\\sklearn\\metrics\\_classification.py:1318: UndefinedMetricWarning: Precision is ill-defined and being set to 0.0 in labels with no predicted samples. Use `zero_division` parameter to control this behavior.\n",
      "  _warn_prf(average, modifier, msg_start, len(result))\n",
      "C:\\Users\\Bhargavi\\anaconda3\\lib\\site-packages\\sklearn\\metrics\\_classification.py:1318: UndefinedMetricWarning: Recall is ill-defined and being set to 0.0 in labels with no true samples. Use `zero_division` parameter to control this behavior.\n",
      "  _warn_prf(average, modifier, msg_start, len(result))\n",
      "C:\\Users\\Bhargavi\\AppData\\Local\\Temp\\ipykernel_21392\\255523458.py:21: FutureWarning: In a future version of pandas all arguments of DataFrame.drop except for the argument 'labels' will be keyword-only.\n",
      "  df2.drop(df2.columns.difference(['Node',degree_cent]), 1, inplace=True)\n"
     ]
    },
    {
     "name": "stdout",
     "output_type": "stream",
     "text": [
      "13    32\n",
      "4     15\n",
      "3     13\n",
      "12    11\n",
      "10     9\n",
      "7      9\n",
      "14     9\n",
      "16     9\n",
      "8      8\n",
      "5      7\n",
      "11     7\n",
      "2      6\n",
      "15     5\n",
      "21     5\n",
      "9      5\n",
      "1      4\n",
      "19     3\n",
      "6      3\n",
      "34     3\n",
      "20     3\n",
      "17     3\n",
      "18     2\n",
      "26     2\n",
      "27     2\n",
      "30     2\n",
      "24     2\n",
      "29     2\n",
      "23     1\n",
      "53     1\n",
      "28     1\n",
      "67     1\n",
      "37     1\n",
      "41     1\n",
      "60     1\n",
      "31     1\n",
      "71     1\n",
      "36     1\n",
      "45     1\n",
      "62     1\n",
      "Name: Label, dtype: int64\n"
     ]
    },
    {
     "name": "stderr",
     "output_type": "stream",
     "text": [
      "C:\\Users\\Bhargavi\\anaconda3\\lib\\site-packages\\sklearn\\metrics\\_classification.py:1318: UndefinedMetricWarning: Precision is ill-defined and being set to 0.0 in labels with no predicted samples. Use `zero_division` parameter to control this behavior.\n",
      "  _warn_prf(average, modifier, msg_start, len(result))\n",
      "C:\\Users\\Bhargavi\\anaconda3\\lib\\site-packages\\sklearn\\metrics\\_classification.py:1318: UndefinedMetricWarning: Recall is ill-defined and being set to 0.0 in labels with no true samples. Use `zero_division` parameter to control this behavior.\n",
      "  _warn_prf(average, modifier, msg_start, len(result))\n",
      "C:\\Users\\Bhargavi\\AppData\\Local\\Temp\\ipykernel_21392\\255523458.py:21: FutureWarning: In a future version of pandas all arguments of DataFrame.drop except for the argument 'labels' will be keyword-only.\n",
      "  df2.drop(df2.columns.difference(['Node',degree_cent]), 1, inplace=True)\n"
     ]
    },
    {
     "name": "stdout",
     "output_type": "stream",
     "text": [
      "14    31\n",
      "5     15\n",
      "15    11\n",
      "3     11\n",
      "4     10\n",
      "8      9\n",
      "11     8\n",
      "13     8\n",
      "16     8\n",
      "18     7\n",
      "9      6\n",
      "17     5\n",
      "12     5\n",
      "23     4\n",
      "1      4\n",
      "7      4\n",
      "10     4\n",
      "2      4\n",
      "24     3\n",
      "21     3\n",
      "19     3\n",
      "30     3\n",
      "27     2\n",
      "38     2\n",
      "6      2\n",
      "20     2\n",
      "32     2\n",
      "33     2\n",
      "34     2\n",
      "51     1\n",
      "40     1\n",
      "67     1\n",
      "80     1\n",
      "22     1\n",
      "26     1\n",
      "46     1\n",
      "29     1\n",
      "75     1\n",
      "39     1\n",
      "60     1\n",
      "41     1\n",
      "70     1\n",
      "Name: Label, dtype: int64\n"
     ]
    },
    {
     "name": "stderr",
     "output_type": "stream",
     "text": [
      "C:\\Users\\Bhargavi\\anaconda3\\lib\\site-packages\\sklearn\\metrics\\_classification.py:1318: UndefinedMetricWarning: Precision is ill-defined and being set to 0.0 in labels with no predicted samples. Use `zero_division` parameter to control this behavior.\n",
      "  _warn_prf(average, modifier, msg_start, len(result))\n",
      "C:\\Users\\Bhargavi\\anaconda3\\lib\\site-packages\\sklearn\\metrics\\_classification.py:1318: UndefinedMetricWarning: Recall is ill-defined and being set to 0.0 in labels with no true samples. Use `zero_division` parameter to control this behavior.\n",
      "  _warn_prf(average, modifier, msg_start, len(result))\n",
      "C:\\Users\\Bhargavi\\AppData\\Local\\Temp\\ipykernel_21392\\255523458.py:21: FutureWarning: In a future version of pandas all arguments of DataFrame.drop except for the argument 'labels' will be keyword-only.\n",
      "  df2.drop(df2.columns.difference(['Node',degree_cent]), 1, inplace=True)\n"
     ]
    },
    {
     "name": "stdout",
     "output_type": "stream",
     "text": [
      "16    31\n",
      "5     14\n",
      "15    11\n",
      "17    10\n",
      "4     10\n",
      "12     8\n",
      "6      7\n",
      "14     7\n",
      "9      7\n",
      "3      6\n",
      "10     6\n",
      "8      6\n",
      "20     6\n",
      "19     5\n",
      "11     4\n",
      "1      4\n",
      "2      4\n",
      "26     3\n",
      "18     3\n",
      "25     3\n",
      "22     2\n",
      "23     2\n",
      "13     2\n",
      "33     2\n",
      "34     2\n",
      "38     2\n",
      "30     2\n",
      "27     2\n",
      "21     2\n",
      "37     2\n",
      "24     2\n",
      "42     2\n",
      "67     1\n",
      "35     1\n",
      "46     1\n",
      "43     1\n",
      "84     1\n",
      "29     1\n",
      "36     1\n",
      "7      1\n",
      "51     1\n",
      "75     1\n",
      "89     1\n",
      "44     1\n",
      "57     1\n",
      "77     1\n",
      "Name: Label, dtype: int64\n"
     ]
    },
    {
     "name": "stderr",
     "output_type": "stream",
     "text": [
      "C:\\Users\\Bhargavi\\anaconda3\\lib\\site-packages\\sklearn\\metrics\\_classification.py:1318: UndefinedMetricWarning: Precision is ill-defined and being set to 0.0 in labels with no predicted samples. Use `zero_division` parameter to control this behavior.\n",
      "  _warn_prf(average, modifier, msg_start, len(result))\n",
      "C:\\Users\\Bhargavi\\anaconda3\\lib\\site-packages\\sklearn\\metrics\\_classification.py:1318: UndefinedMetricWarning: Recall is ill-defined and being set to 0.0 in labels with no true samples. Use `zero_division` parameter to control this behavior.\n",
      "  _warn_prf(average, modifier, msg_start, len(result))\n",
      "C:\\Users\\Bhargavi\\AppData\\Local\\Temp\\ipykernel_21392\\255523458.py:21: FutureWarning: In a future version of pandas all arguments of DataFrame.drop except for the argument 'labels' will be keyword-only.\n",
      "  df2.drop(df2.columns.difference(['Node',degree_cent]), 1, inplace=True)\n"
     ]
    },
    {
     "name": "stdout",
     "output_type": "stream",
     "text": [
      "1    192\n",
      "3      1\n",
      "Name: Label, dtype: int64\n"
     ]
    },
    {
     "name": "stderr",
     "output_type": "stream",
     "text": [
      "C:\\Users\\Bhargavi\\anaconda3\\lib\\site-packages\\sklearn\\metrics\\_classification.py:1318: UndefinedMetricWarning: Precision is ill-defined and being set to 0.0 in labels with no predicted samples. Use `zero_division` parameter to control this behavior.\n",
      "  _warn_prf(average, modifier, msg_start, len(result))\n",
      "C:\\Users\\Bhargavi\\AppData\\Local\\Temp\\ipykernel_21392\\255523458.py:21: FutureWarning: In a future version of pandas all arguments of DataFrame.drop except for the argument 'labels' will be keyword-only.\n",
      "  df2.drop(df2.columns.difference(['Node',degree_cent]), 1, inplace=True)\n"
     ]
    },
    {
     "name": "stdout",
     "output_type": "stream",
     "text": [
      "1    189\n",
      "2      3\n",
      "6      1\n",
      "Name: Label, dtype: int64\n"
     ]
    },
    {
     "name": "stderr",
     "output_type": "stream",
     "text": [
      "C:\\Users\\Bhargavi\\anaconda3\\lib\\site-packages\\sklearn\\metrics\\_classification.py:1318: UndefinedMetricWarning: Precision is ill-defined and being set to 0.0 in labels with no predicted samples. Use `zero_division` parameter to control this behavior.\n",
      "  _warn_prf(average, modifier, msg_start, len(result))\n",
      "C:\\Users\\Bhargavi\\AppData\\Local\\Temp\\ipykernel_21392\\255523458.py:21: FutureWarning: In a future version of pandas all arguments of DataFrame.drop except for the argument 'labels' will be keyword-only.\n",
      "  df2.drop(df2.columns.difference(['Node',degree_cent]), 1, inplace=True)\n"
     ]
    },
    {
     "name": "stdout",
     "output_type": "stream",
     "text": [
      "1     187\n",
      "4       2\n",
      "2       2\n",
      "11      1\n",
      "3       1\n",
      "Name: Label, dtype: int64\n"
     ]
    },
    {
     "name": "stderr",
     "output_type": "stream",
     "text": [
      "C:\\Users\\Bhargavi\\anaconda3\\lib\\site-packages\\sklearn\\metrics\\_classification.py:1318: UndefinedMetricWarning: Precision is ill-defined and being set to 0.0 in labels with no predicted samples. Use `zero_division` parameter to control this behavior.\n",
      "  _warn_prf(average, modifier, msg_start, len(result))\n",
      "C:\\Users\\Bhargavi\\AppData\\Local\\Temp\\ipykernel_21392\\255523458.py:21: FutureWarning: In a future version of pandas all arguments of DataFrame.drop except for the argument 'labels' will be keyword-only.\n",
      "  df2.drop(df2.columns.difference(['Node',degree_cent]), 1, inplace=True)\n"
     ]
    },
    {
     "name": "stdout",
     "output_type": "stream",
     "text": [
      "1     172\n",
      "2      15\n",
      "8       2\n",
      "4       1\n",
      "21      1\n",
      "5       1\n",
      "3       1\n",
      "Name: Label, dtype: int64\n"
     ]
    },
    {
     "name": "stderr",
     "output_type": "stream",
     "text": [
      "C:\\Users\\Bhargavi\\anaconda3\\lib\\site-packages\\sklearn\\metrics\\_classification.py:1318: UndefinedMetricWarning: Precision is ill-defined and being set to 0.0 in labels with no predicted samples. Use `zero_division` parameter to control this behavior.\n",
      "  _warn_prf(average, modifier, msg_start, len(result))\n",
      "C:\\Users\\Bhargavi\\anaconda3\\lib\\site-packages\\sklearn\\metrics\\_classification.py:1318: UndefinedMetricWarning: Recall is ill-defined and being set to 0.0 in labels with no true samples. Use `zero_division` parameter to control this behavior.\n",
      "  _warn_prf(average, modifier, msg_start, len(result))\n",
      "C:\\Users\\Bhargavi\\AppData\\Local\\Temp\\ipykernel_21392\\255523458.py:21: FutureWarning: In a future version of pandas all arguments of DataFrame.drop except for the argument 'labels' will be keyword-only.\n",
      "  df2.drop(df2.columns.difference(['Node',degree_cent]), 1, inplace=True)\n"
     ]
    },
    {
     "name": "stdout",
     "output_type": "stream",
     "text": [
      "1     156\n",
      "2      26\n",
      "3       5\n",
      "12      1\n",
      "6       1\n",
      "30      1\n",
      "8       1\n",
      "11      1\n",
      "4       1\n",
      "Name: Label, dtype: int64\n"
     ]
    },
    {
     "name": "stderr",
     "output_type": "stream",
     "text": [
      "C:\\Users\\Bhargavi\\anaconda3\\lib\\site-packages\\sklearn\\metrics\\_classification.py:1318: UndefinedMetricWarning: Precision is ill-defined and being set to 0.0 in labels with no predicted samples. Use `zero_division` parameter to control this behavior.\n",
      "  _warn_prf(average, modifier, msg_start, len(result))\n",
      "C:\\Users\\Bhargavi\\anaconda3\\lib\\site-packages\\sklearn\\metrics\\_classification.py:1318: UndefinedMetricWarning: Recall is ill-defined and being set to 0.0 in labels with no true samples. Use `zero_division` parameter to control this behavior.\n",
      "  _warn_prf(average, modifier, msg_start, len(result))\n",
      "C:\\Users\\Bhargavi\\AppData\\Local\\Temp\\ipykernel_21392\\255523458.py:21: FutureWarning: In a future version of pandas all arguments of DataFrame.drop except for the argument 'labels' will be keyword-only.\n",
      "  df2.drop(df2.columns.difference(['Node',degree_cent]), 1, inplace=True)\n"
     ]
    },
    {
     "name": "stdout",
     "output_type": "stream",
     "text": [
      "1     146\n",
      "2      26\n",
      "3      11\n",
      "4       4\n",
      "16      1\n",
      "8       1\n",
      "41      1\n",
      "10      1\n",
      "15      1\n",
      "6       1\n",
      "Name: Label, dtype: int64\n"
     ]
    },
    {
     "name": "stderr",
     "output_type": "stream",
     "text": [
      "C:\\Users\\Bhargavi\\anaconda3\\lib\\site-packages\\sklearn\\metrics\\_classification.py:1318: UndefinedMetricWarning: Precision is ill-defined and being set to 0.0 in labels with no predicted samples. Use `zero_division` parameter to control this behavior.\n",
      "  _warn_prf(average, modifier, msg_start, len(result))\n",
      "C:\\Users\\Bhargavi\\anaconda3\\lib\\site-packages\\sklearn\\metrics\\_classification.py:1318: UndefinedMetricWarning: Recall is ill-defined and being set to 0.0 in labels with no true samples. Use `zero_division` parameter to control this behavior.\n",
      "  _warn_prf(average, modifier, msg_start, len(result))\n",
      "C:\\Users\\Bhargavi\\AppData\\Local\\Temp\\ipykernel_21392\\255523458.py:21: FutureWarning: In a future version of pandas all arguments of DataFrame.drop except for the argument 'labels' will be keyword-only.\n",
      "  df2.drop(df2.columns.difference(['Node',degree_cent]), 1, inplace=True)\n"
     ]
    },
    {
     "name": "stdout",
     "output_type": "stream",
     "text": [
      "1     137\n",
      "2      25\n",
      "3      17\n",
      "4       6\n",
      "5       2\n",
      "20      1\n",
      "10      1\n",
      "50      1\n",
      "12      1\n",
      "19      1\n",
      "7       1\n",
      "Name: Label, dtype: int64\n"
     ]
    },
    {
     "name": "stderr",
     "output_type": "stream",
     "text": [
      "C:\\Users\\Bhargavi\\anaconda3\\lib\\site-packages\\sklearn\\metrics\\_classification.py:1318: UndefinedMetricWarning: Precision is ill-defined and being set to 0.0 in labels with no predicted samples. Use `zero_division` parameter to control this behavior.\n",
      "  _warn_prf(average, modifier, msg_start, len(result))\n",
      "C:\\Users\\Bhargavi\\anaconda3\\lib\\site-packages\\sklearn\\metrics\\_classification.py:1318: UndefinedMetricWarning: Recall is ill-defined and being set to 0.0 in labels with no true samples. Use `zero_division` parameter to control this behavior.\n",
      "  _warn_prf(average, modifier, msg_start, len(result))\n",
      "C:\\Users\\Bhargavi\\AppData\\Local\\Temp\\ipykernel_21392\\255523458.py:21: FutureWarning: In a future version of pandas all arguments of DataFrame.drop except for the argument 'labels' will be keyword-only.\n",
      "  df2.drop(df2.columns.difference(['Node',degree_cent]), 1, inplace=True)\n"
     ]
    },
    {
     "name": "stdout",
     "output_type": "stream",
     "text": [
      "1     130\n",
      "2      26\n",
      "3      16\n",
      "4      10\n",
      "5       4\n",
      "24      1\n",
      "12      1\n",
      "60      1\n",
      "15      1\n",
      "6       1\n",
      "22      1\n",
      "8       1\n",
      "Name: Label, dtype: int64\n"
     ]
    },
    {
     "name": "stderr",
     "output_type": "stream",
     "text": [
      "C:\\Users\\Bhargavi\\anaconda3\\lib\\site-packages\\sklearn\\metrics\\_classification.py:1318: UndefinedMetricWarning: Precision is ill-defined and being set to 0.0 in labels with no predicted samples. Use `zero_division` parameter to control this behavior.\n",
      "  _warn_prf(average, modifier, msg_start, len(result))\n",
      "C:\\Users\\Bhargavi\\anaconda3\\lib\\site-packages\\sklearn\\metrics\\_classification.py:1318: UndefinedMetricWarning: Recall is ill-defined and being set to 0.0 in labels with no true samples. Use `zero_division` parameter to control this behavior.\n",
      "  _warn_prf(average, modifier, msg_start, len(result))\n",
      "C:\\Users\\Bhargavi\\AppData\\Local\\Temp\\ipykernel_21392\\255523458.py:21: FutureWarning: In a future version of pandas all arguments of DataFrame.drop except for the argument 'labels' will be keyword-only.\n",
      "  df2.drop(df2.columns.difference(['Node',degree_cent]), 1, inplace=True)\n"
     ]
    },
    {
     "name": "stdout",
     "output_type": "stream",
     "text": [
      "1     103\n",
      "2      47\n",
      "3      18\n",
      "4       8\n",
      "5       6\n",
      "6       4\n",
      "28      1\n",
      "14      1\n",
      "71      1\n",
      "17      1\n",
      "7       1\n",
      "26      1\n",
      "10      1\n",
      "Name: Label, dtype: int64\n"
     ]
    },
    {
     "name": "stderr",
     "output_type": "stream",
     "text": [
      "C:\\Users\\Bhargavi\\anaconda3\\lib\\site-packages\\sklearn\\metrics\\_classification.py:1318: UndefinedMetricWarning: Precision is ill-defined and being set to 0.0 in labels with no predicted samples. Use `zero_division` parameter to control this behavior.\n",
      "  _warn_prf(average, modifier, msg_start, len(result))\n",
      "C:\\Users\\Bhargavi\\anaconda3\\lib\\site-packages\\sklearn\\metrics\\_classification.py:1318: UndefinedMetricWarning: Recall is ill-defined and being set to 0.0 in labels with no true samples. Use `zero_division` parameter to control this behavior.\n",
      "  _warn_prf(average, modifier, msg_start, len(result))\n",
      "C:\\Users\\Bhargavi\\AppData\\Local\\Temp\\ipykernel_21392\\255523458.py:21: FutureWarning: In a future version of pandas all arguments of DataFrame.drop except for the argument 'labels' will be keyword-only.\n",
      "  df2.drop(df2.columns.difference(['Node',degree_cent]), 1, inplace=True)\n"
     ]
    },
    {
     "name": "stdout",
     "output_type": "stream",
     "text": [
      "2     97\n",
      "1     49\n",
      "4     14\n",
      "3     12\n",
      "5      8\n",
      "7      4\n",
      "6      3\n",
      "32     1\n",
      "16     1\n",
      "81     1\n",
      "20     1\n",
      "30     1\n",
      "11     1\n",
      "Name: Label, dtype: int64\n"
     ]
    },
    {
     "name": "stderr",
     "output_type": "stream",
     "text": [
      "C:\\Users\\Bhargavi\\anaconda3\\lib\\site-packages\\sklearn\\metrics\\_classification.py:1318: UndefinedMetricWarning: Precision is ill-defined and being set to 0.0 in labels with no predicted samples. Use `zero_division` parameter to control this behavior.\n",
      "  _warn_prf(average, modifier, msg_start, len(result))\n",
      "C:\\Users\\Bhargavi\\anaconda3\\lib\\site-packages\\sklearn\\metrics\\_classification.py:1318: UndefinedMetricWarning: Recall is ill-defined and being set to 0.0 in labels with no true samples. Use `zero_division` parameter to control this behavior.\n",
      "  _warn_prf(average, modifier, msg_start, len(result))\n",
      "C:\\Users\\Bhargavi\\AppData\\Local\\Temp\\ipykernel_21392\\255523458.py:21: FutureWarning: In a future version of pandas all arguments of DataFrame.drop except for the argument 'labels' will be keyword-only.\n",
      "  df2.drop(df2.columns.difference(['Node',degree_cent]), 1, inplace=True)\n"
     ]
    },
    {
     "name": "stdout",
     "output_type": "stream",
     "text": [
      "2     97\n",
      "1     45\n",
      "4     14\n",
      "3     14\n",
      "5      6\n",
      "6      6\n",
      "8      3\n",
      "7      2\n",
      "36     1\n",
      "18     1\n",
      "90     1\n",
      "22     1\n",
      "33     1\n",
      "12     1\n",
      "Name: Label, dtype: int64\n"
     ]
    },
    {
     "name": "stderr",
     "output_type": "stream",
     "text": [
      "C:\\Users\\Bhargavi\\anaconda3\\lib\\site-packages\\sklearn\\metrics\\_classification.py:1318: UndefinedMetricWarning: Precision is ill-defined and being set to 0.0 in labels with no predicted samples. Use `zero_division` parameter to control this behavior.\n",
      "  _warn_prf(average, modifier, msg_start, len(result))\n",
      "C:\\Users\\Bhargavi\\anaconda3\\lib\\site-packages\\sklearn\\metrics\\_classification.py:1318: UndefinedMetricWarning: Recall is ill-defined and being set to 0.0 in labels with no true samples. Use `zero_division` parameter to control this behavior.\n",
      "  _warn_prf(average, modifier, msg_start, len(result))\n",
      "C:\\Users\\Bhargavi\\AppData\\Local\\Temp\\ipykernel_21392\\255523458.py:21: FutureWarning: In a future version of pandas all arguments of DataFrame.drop except for the argument 'labels' will be keyword-only.\n",
      "  df2.drop(df2.columns.difference(['Node',degree_cent]), 1, inplace=True)\n"
     ]
    },
    {
     "name": "stdout",
     "output_type": "stream",
     "text": [
      "2      93\n",
      "1      44\n",
      "3      15\n",
      "4      10\n",
      "5      10\n",
      "6       7\n",
      "7       3\n",
      "8       3\n",
      "9       2\n",
      "40      1\n",
      "20      1\n",
      "100     1\n",
      "24      1\n",
      "37      1\n",
      "14      1\n",
      "Name: Label, dtype: int64\n"
     ]
    },
    {
     "name": "stderr",
     "output_type": "stream",
     "text": [
      "C:\\Users\\Bhargavi\\anaconda3\\lib\\site-packages\\sklearn\\metrics\\_classification.py:1318: UndefinedMetricWarning: Precision is ill-defined and being set to 0.0 in labels with no predicted samples. Use `zero_division` parameter to control this behavior.\n",
      "  _warn_prf(average, modifier, msg_start, len(result))\n",
      "C:\\Users\\Bhargavi\\anaconda3\\lib\\site-packages\\sklearn\\metrics\\_classification.py:1318: UndefinedMetricWarning: Recall is ill-defined and being set to 0.0 in labels with no true samples. Use `zero_division` parameter to control this behavior.\n",
      "  _warn_prf(average, modifier, msg_start, len(result))\n",
      "C:\\Users\\Bhargavi\\AppData\\Local\\Temp\\ipykernel_21392\\255523458.py:21: FutureWarning: In a future version of pandas all arguments of DataFrame.drop except for the argument 'labels' will be keyword-only.\n",
      "  df2.drop(df2.columns.difference(['Node',degree_cent]), 1, inplace=True)\n"
     ]
    },
    {
     "name": "stdout",
     "output_type": "stream",
     "text": [
      "1    188\n",
      "2      5\n",
      "Name: Label, dtype: int64\n"
     ]
    },
    {
     "name": "stderr",
     "output_type": "stream",
     "text": [
      "C:\\Users\\Bhargavi\\AppData\\Local\\Temp\\ipykernel_21392\\255523458.py:21: FutureWarning: In a future version of pandas all arguments of DataFrame.drop except for the argument 'labels' will be keyword-only.\n",
      "  df2.drop(df2.columns.difference(['Node',degree_cent]), 1, inplace=True)\n"
     ]
    },
    {
     "name": "stdout",
     "output_type": "stream",
     "text": [
      "1    163\n",
      "2     24\n",
      "3      4\n",
      "4      2\n",
      "Name: Label, dtype: int64\n"
     ]
    },
    {
     "name": "stderr",
     "output_type": "stream",
     "text": [
      "C:\\Users\\Bhargavi\\AppData\\Local\\Temp\\ipykernel_21392\\255523458.py:21: FutureWarning: In a future version of pandas all arguments of DataFrame.drop except for the argument 'labels' will be keyword-only.\n",
      "  df2.drop(df2.columns.difference(['Node',degree_cent]), 1, inplace=True)\n"
     ]
    },
    {
     "name": "stdout",
     "output_type": "stream",
     "text": [
      "1    152\n",
      "3     16\n",
      "2     11\n",
      "4      8\n",
      "6      3\n",
      "8      2\n",
      "5      1\n",
      "Name: Label, dtype: int64\n"
     ]
    },
    {
     "name": "stderr",
     "output_type": "stream",
     "text": [
      "C:\\Users\\Bhargavi\\anaconda3\\lib\\site-packages\\sklearn\\metrics\\_classification.py:1318: UndefinedMetricWarning: Precision is ill-defined and being set to 0.0 in labels with no predicted samples. Use `zero_division` parameter to control this behavior.\n",
      "  _warn_prf(average, modifier, msg_start, len(result))\n",
      "C:\\Users\\Bhargavi\\anaconda3\\lib\\site-packages\\sklearn\\metrics\\_classification.py:1318: UndefinedMetricWarning: Recall is ill-defined and being set to 0.0 in labels with no true samples. Use `zero_division` parameter to control this behavior.\n",
      "  _warn_prf(average, modifier, msg_start, len(result))\n",
      "C:\\Users\\Bhargavi\\AppData\\Local\\Temp\\ipykernel_21392\\255523458.py:21: FutureWarning: In a future version of pandas all arguments of DataFrame.drop except for the argument 'labels' will be keyword-only.\n",
      "  df2.drop(df2.columns.difference(['Node',degree_cent]), 1, inplace=True)\n"
     ]
    },
    {
     "name": "stdout",
     "output_type": "stream",
     "text": [
      "1     96\n",
      "2     56\n",
      "5     14\n",
      "8      6\n",
      "3      6\n",
      "4      5\n",
      "11     2\n",
      "6      2\n",
      "7      2\n",
      "16     1\n",
      "15     1\n",
      "9      1\n",
      "12     1\n",
      "Name: Label, dtype: int64\n"
     ]
    },
    {
     "name": "stderr",
     "output_type": "stream",
     "text": [
      "C:\\Users\\Bhargavi\\anaconda3\\lib\\site-packages\\sklearn\\metrics\\_classification.py:1318: UndefinedMetricWarning: Precision is ill-defined and being set to 0.0 in labels with no predicted samples. Use `zero_division` parameter to control this behavior.\n",
      "  _warn_prf(average, modifier, msg_start, len(result))\n",
      "C:\\Users\\Bhargavi\\anaconda3\\lib\\site-packages\\sklearn\\metrics\\_classification.py:1318: UndefinedMetricWarning: Recall is ill-defined and being set to 0.0 in labels with no true samples. Use `zero_division` parameter to control this behavior.\n",
      "  _warn_prf(average, modifier, msg_start, len(result))\n",
      "C:\\Users\\Bhargavi\\AppData\\Local\\Temp\\ipykernel_21392\\255523458.py:21: FutureWarning: In a future version of pandas all arguments of DataFrame.drop except for the argument 'labels' will be keyword-only.\n",
      "  df2.drop(df2.columns.difference(['Node',degree_cent]), 1, inplace=True)\n"
     ]
    },
    {
     "name": "stdout",
     "output_type": "stream",
     "text": [
      "1     71\n",
      "3     45\n",
      "2     36\n",
      "7      9\n",
      "6      5\n",
      "8      5\n",
      "12     5\n",
      "4      3\n",
      "5      3\n",
      "9      2\n",
      "11     2\n",
      "23     2\n",
      "16     1\n",
      "17     1\n",
      "13     1\n",
      "10     1\n",
      "18     1\n",
      "Name: Label, dtype: int64\n"
     ]
    },
    {
     "name": "stderr",
     "output_type": "stream",
     "text": [
      "C:\\Users\\Bhargavi\\anaconda3\\lib\\site-packages\\sklearn\\metrics\\_classification.py:1318: UndefinedMetricWarning: Precision is ill-defined and being set to 0.0 in labels with no predicted samples. Use `zero_division` parameter to control this behavior.\n",
      "  _warn_prf(average, modifier, msg_start, len(result))\n",
      "C:\\Users\\Bhargavi\\anaconda3\\lib\\site-packages\\sklearn\\metrics\\_classification.py:1318: UndefinedMetricWarning: Recall is ill-defined and being set to 0.0 in labels with no true samples. Use `zero_division` parameter to control this behavior.\n",
      "  _warn_prf(average, modifier, msg_start, len(result))\n",
      "C:\\Users\\Bhargavi\\AppData\\Local\\Temp\\ipykernel_21392\\255523458.py:21: FutureWarning: In a future version of pandas all arguments of DataFrame.drop except for the argument 'labels' will be keyword-only.\n",
      "  df2.drop(df2.columns.difference(['Node',degree_cent]), 1, inplace=True)\n"
     ]
    },
    {
     "name": "stdout",
     "output_type": "stream",
     "text": [
      "1     62\n",
      "4     39\n",
      "2     34\n",
      "3     17\n",
      "9      7\n",
      "10     7\n",
      "8      5\n",
      "6      3\n",
      "16     3\n",
      "5      3\n",
      "15     3\n",
      "12     1\n",
      "14     1\n",
      "11     1\n",
      "21     1\n",
      "31     1\n",
      "22     1\n",
      "30     1\n",
      "17     1\n",
      "13     1\n",
      "24     1\n",
      "Name: Label, dtype: int64\n"
     ]
    },
    {
     "name": "stderr",
     "output_type": "stream",
     "text": [
      "C:\\Users\\Bhargavi\\anaconda3\\lib\\site-packages\\sklearn\\metrics\\_classification.py:1318: UndefinedMetricWarning: Precision is ill-defined and being set to 0.0 in labels with no predicted samples. Use `zero_division` parameter to control this behavior.\n",
      "  _warn_prf(average, modifier, msg_start, len(result))\n",
      "C:\\Users\\Bhargavi\\anaconda3\\lib\\site-packages\\sklearn\\metrics\\_classification.py:1318: UndefinedMetricWarning: Recall is ill-defined and being set to 0.0 in labels with no true samples. Use `zero_division` parameter to control this behavior.\n",
      "  _warn_prf(average, modifier, msg_start, len(result))\n",
      "C:\\Users\\Bhargavi\\AppData\\Local\\Temp\\ipykernel_21392\\255523458.py:21: FutureWarning: In a future version of pandas all arguments of DataFrame.drop except for the argument 'labels' will be keyword-only.\n",
      "  df2.drop(df2.columns.difference(['Node',degree_cent]), 1, inplace=True)\n"
     ]
    },
    {
     "name": "stdout",
     "output_type": "stream",
     "text": [
      "1     54\n",
      "5     35\n",
      "3     23\n",
      "2     23\n",
      "4     17\n",
      "11     7\n",
      "10     5\n",
      "12     4\n",
      "20     3\n",
      "13     3\n",
      "19     3\n",
      "7      2\n",
      "14     2\n",
      "6      2\n",
      "8      2\n",
      "37     1\n",
      "16     1\n",
      "21     1\n",
      "26     1\n",
      "28     1\n",
      "38     1\n",
      "18     1\n",
      "30     1\n",
      "Name: Label, dtype: int64\n"
     ]
    },
    {
     "name": "stderr",
     "output_type": "stream",
     "text": [
      "C:\\Users\\Bhargavi\\anaconda3\\lib\\site-packages\\sklearn\\metrics\\_classification.py:1318: UndefinedMetricWarning: Precision is ill-defined and being set to 0.0 in labels with no predicted samples. Use `zero_division` parameter to control this behavior.\n",
      "  _warn_prf(average, modifier, msg_start, len(result))\n",
      "C:\\Users\\Bhargavi\\anaconda3\\lib\\site-packages\\sklearn\\metrics\\_classification.py:1318: UndefinedMetricWarning: Recall is ill-defined and being set to 0.0 in labels with no true samples. Use `zero_division` parameter to control this behavior.\n",
      "  _warn_prf(average, modifier, msg_start, len(result))\n",
      "C:\\Users\\Bhargavi\\AppData\\Local\\Temp\\ipykernel_21392\\255523458.py:21: FutureWarning: In a future version of pandas all arguments of DataFrame.drop except for the argument 'labels' will be keyword-only.\n",
      "  df2.drop(df2.columns.difference(['Node',degree_cent]), 1, inplace=True)\n"
     ]
    },
    {
     "name": "stdout",
     "output_type": "stream",
     "text": [
      "1     50\n",
      "5     41\n",
      "3     25\n",
      "2     21\n",
      "4     11\n",
      "13     6\n",
      "15     5\n",
      "23     4\n",
      "6      4\n",
      "12     4\n",
      "9      3\n",
      "14     3\n",
      "17     2\n",
      "7      2\n",
      "24     1\n",
      "26     1\n",
      "45     1\n",
      "20     1\n",
      "33     1\n",
      "8      1\n",
      "46     1\n",
      "21     1\n",
      "11     1\n",
      "31     1\n",
      "22     1\n",
      "36     1\n",
      "Name: Label, dtype: int64\n"
     ]
    },
    {
     "name": "stderr",
     "output_type": "stream",
     "text": [
      "C:\\Users\\Bhargavi\\anaconda3\\lib\\site-packages\\sklearn\\metrics\\_classification.py:1318: UndefinedMetricWarning: Precision is ill-defined and being set to 0.0 in labels with no predicted samples. Use `zero_division` parameter to control this behavior.\n",
      "  _warn_prf(average, modifier, msg_start, len(result))\n",
      "C:\\Users\\Bhargavi\\anaconda3\\lib\\site-packages\\sklearn\\metrics\\_classification.py:1318: UndefinedMetricWarning: Recall is ill-defined and being set to 0.0 in labels with no true samples. Use `zero_division` parameter to control this behavior.\n",
      "  _warn_prf(average, modifier, msg_start, len(result))\n",
      "C:\\Users\\Bhargavi\\AppData\\Local\\Temp\\ipykernel_21392\\255523458.py:21: FutureWarning: In a future version of pandas all arguments of DataFrame.drop except for the argument 'labels' will be keyword-only.\n",
      "  df2.drop(df2.columns.difference(['Node',degree_cent]), 1, inplace=True)\n"
     ]
    },
    {
     "name": "stdout",
     "output_type": "stream",
     "text": [
      "1     45\n",
      "6     40\n",
      "3     26\n",
      "2     21\n",
      "5      9\n",
      "4      7\n",
      "15     6\n",
      "17     5\n",
      "14     4\n",
      "7      4\n",
      "26     3\n",
      "8      2\n",
      "27     2\n",
      "18     2\n",
      "20     2\n",
      "11     2\n",
      "52     1\n",
      "16     1\n",
      "23     1\n",
      "30     1\n",
      "10     1\n",
      "13     1\n",
      "38     1\n",
      "28     1\n",
      "54     1\n",
      "24     1\n",
      "9      1\n",
      "36     1\n",
      "42     1\n",
      "Name: Label, dtype: int64\n"
     ]
    },
    {
     "name": "stderr",
     "output_type": "stream",
     "text": [
      "C:\\Users\\Bhargavi\\anaconda3\\lib\\site-packages\\sklearn\\metrics\\_classification.py:1318: UndefinedMetricWarning: Precision is ill-defined and being set to 0.0 in labels with no predicted samples. Use `zero_division` parameter to control this behavior.\n",
      "  _warn_prf(average, modifier, msg_start, len(result))\n",
      "C:\\Users\\Bhargavi\\anaconda3\\lib\\site-packages\\sklearn\\metrics\\_classification.py:1318: UndefinedMetricWarning: Recall is ill-defined and being set to 0.0 in labels with no true samples. Use `zero_division` parameter to control this behavior.\n",
      "  _warn_prf(average, modifier, msg_start, len(result))\n",
      "C:\\Users\\Bhargavi\\AppData\\Local\\Temp\\ipykernel_21392\\255523458.py:21: FutureWarning: In a future version of pandas all arguments of DataFrame.drop except for the argument 'labels' will be keyword-only.\n",
      "  df2.drop(df2.columns.difference(['Node',degree_cent]), 1, inplace=True)\n"
     ]
    },
    {
     "name": "stdout",
     "output_type": "stream",
     "text": [
      "1     41\n",
      "7     36\n",
      "4     22\n",
      "2     21\n",
      "3     12\n",
      "6     10\n",
      "5      7\n",
      "17     5\n",
      "16     4\n",
      "19     4\n",
      "20     3\n",
      "8      3\n",
      "30     3\n",
      "12     3\n",
      "18     2\n",
      "31     2\n",
      "9      2\n",
      "26     1\n",
      "32     1\n",
      "34     1\n",
      "60     1\n",
      "44     1\n",
      "15     1\n",
      "61     1\n",
      "22     1\n",
      "28     1\n",
      "10     1\n",
      "23     1\n",
      "41     1\n",
      "48     1\n",
      "Name: Label, dtype: int64\n"
     ]
    },
    {
     "name": "stderr",
     "output_type": "stream",
     "text": [
      "C:\\Users\\Bhargavi\\anaconda3\\lib\\site-packages\\sklearn\\metrics\\_classification.py:1318: UndefinedMetricWarning: Precision is ill-defined and being set to 0.0 in labels with no predicted samples. Use `zero_division` parameter to control this behavior.\n",
      "  _warn_prf(average, modifier, msg_start, len(result))\n",
      "C:\\Users\\Bhargavi\\anaconda3\\lib\\site-packages\\sklearn\\metrics\\_classification.py:1318: UndefinedMetricWarning: Recall is ill-defined and being set to 0.0 in labels with no true samples. Use `zero_division` parameter to control this behavior.\n",
      "  _warn_prf(average, modifier, msg_start, len(result))\n",
      "C:\\Users\\Bhargavi\\AppData\\Local\\Temp\\ipykernel_21392\\255523458.py:21: FutureWarning: In a future version of pandas all arguments of DataFrame.drop except for the argument 'labels' will be keyword-only.\n",
      "  df2.drop(df2.columns.difference(['Node',degree_cent]), 1, inplace=True)\n"
     ]
    },
    {
     "name": "stdout",
     "output_type": "stream",
     "text": [
      "1     36\n",
      "8     35\n",
      "2     22\n",
      "4     21\n",
      "3     13\n",
      "6     11\n",
      "7      7\n",
      "19     5\n",
      "5      4\n",
      "18     4\n",
      "22     3\n",
      "9      3\n",
      "11     2\n",
      "13     2\n",
      "35     2\n",
      "21     2\n",
      "34     2\n",
      "25     2\n",
      "20     2\n",
      "23     2\n",
      "38     1\n",
      "10     1\n",
      "29     1\n",
      "14     1\n",
      "67     1\n",
      "17     1\n",
      "49     1\n",
      "36     1\n",
      "69     1\n",
      "31     1\n",
      "46     1\n",
      "33     1\n",
      "53     1\n",
      "Name: Label, dtype: int64\n"
     ]
    },
    {
     "name": "stderr",
     "output_type": "stream",
     "text": [
      "C:\\Users\\Bhargavi\\anaconda3\\lib\\site-packages\\sklearn\\metrics\\_classification.py:1318: UndefinedMetricWarning: Precision is ill-defined and being set to 0.0 in labels with no predicted samples. Use `zero_division` parameter to control this behavior.\n",
      "  _warn_prf(average, modifier, msg_start, len(result))\n",
      "C:\\Users\\Bhargavi\\anaconda3\\lib\\site-packages\\sklearn\\metrics\\_classification.py:1318: UndefinedMetricWarning: Recall is ill-defined and being set to 0.0 in labels with no true samples. Use `zero_division` parameter to control this behavior.\n",
      "  _warn_prf(average, modifier, msg_start, len(result))\n",
      "C:\\Users\\Bhargavi\\AppData\\Local\\Temp\\ipykernel_21392\\255523458.py:21: FutureWarning: In a future version of pandas all arguments of DataFrame.drop except for the argument 'labels' will be keyword-only.\n",
      "  df2.drop(df2.columns.difference(['Node',degree_cent]), 1, inplace=True)\n"
     ]
    },
    {
     "name": "stdout",
     "output_type": "stream",
     "text": [
      "9     35\n",
      "1     29\n",
      "2     25\n",
      "5     19\n",
      "3     14\n",
      "8      9\n",
      "4      9\n",
      "7      8\n",
      "21     5\n",
      "6      4\n",
      "24     4\n",
      "25     3\n",
      "19     3\n",
      "28     2\n",
      "37     2\n",
      "22     2\n",
      "39     2\n",
      "20     2\n",
      "15     2\n",
      "11     1\n",
      "14     1\n",
      "32     1\n",
      "42     1\n",
      "74     1\n",
      "13     1\n",
      "55     1\n",
      "40     1\n",
      "12     1\n",
      "76     1\n",
      "38     1\n",
      "35     1\n",
      "51     1\n",
      "59     1\n",
      "Name: Label, dtype: int64\n"
     ]
    },
    {
     "name": "stderr",
     "output_type": "stream",
     "text": [
      "C:\\Users\\Bhargavi\\anaconda3\\lib\\site-packages\\sklearn\\metrics\\_classification.py:1318: UndefinedMetricWarning: Precision is ill-defined and being set to 0.0 in labels with no predicted samples. Use `zero_division` parameter to control this behavior.\n",
      "  _warn_prf(average, modifier, msg_start, len(result))\n",
      "C:\\Users\\Bhargavi\\anaconda3\\lib\\site-packages\\sklearn\\metrics\\_classification.py:1318: UndefinedMetricWarning: Recall is ill-defined and being set to 0.0 in labels with no true samples. Use `zero_division` parameter to control this behavior.\n",
      "  _warn_prf(average, modifier, msg_start, len(result))\n",
      "C:\\Users\\Bhargavi\\AppData\\Local\\Temp\\ipykernel_21392\\255523458.py:21: FutureWarning: In a future version of pandas all arguments of DataFrame.drop except for the argument 'labels' will be keyword-only.\n",
      "  df2.drop(df2.columns.difference(['Node',degree_cent]), 1, inplace=True)\n"
     ]
    },
    {
     "name": "stdout",
     "output_type": "stream",
     "text": [
      "1    192\n",
      "3      1\n",
      "Name: Label, dtype: int64\n"
     ]
    },
    {
     "name": "stderr",
     "output_type": "stream",
     "text": [
      "C:\\Users\\Bhargavi\\anaconda3\\lib\\site-packages\\sklearn\\metrics\\_classification.py:1318: UndefinedMetricWarning: Precision is ill-defined and being set to 0.0 in labels with no predicted samples. Use `zero_division` parameter to control this behavior.\n",
      "  _warn_prf(average, modifier, msg_start, len(result))\n",
      "C:\\Users\\Bhargavi\\AppData\\Local\\Temp\\ipykernel_21392\\255523458.py:21: FutureWarning: In a future version of pandas all arguments of DataFrame.drop except for the argument 'labels' will be keyword-only.\n",
      "  df2.drop(df2.columns.difference(['Node',degree_cent]), 1, inplace=True)\n"
     ]
    },
    {
     "name": "stdout",
     "output_type": "stream",
     "text": [
      "1    188\n",
      "2      3\n",
      "3      1\n",
      "6      1\n",
      "Name: Label, dtype: int64\n"
     ]
    },
    {
     "name": "stderr",
     "output_type": "stream",
     "text": [
      "C:\\Users\\Bhargavi\\anaconda3\\lib\\site-packages\\sklearn\\metrics\\_classification.py:1318: UndefinedMetricWarning: Precision is ill-defined and being set to 0.0 in labels with no predicted samples. Use `zero_division` parameter to control this behavior.\n",
      "  _warn_prf(average, modifier, msg_start, len(result))\n",
      "C:\\Users\\Bhargavi\\AppData\\Local\\Temp\\ipykernel_21392\\255523458.py:21: FutureWarning: In a future version of pandas all arguments of DataFrame.drop except for the argument 'labels' will be keyword-only.\n",
      "  df2.drop(df2.columns.difference(['Node',degree_cent]), 1, inplace=True)\n"
     ]
    },
    {
     "name": "stdout",
     "output_type": "stream",
     "text": [
      "1     182\n",
      "2       6\n",
      "3       3\n",
      "5       1\n",
      "11      1\n",
      "Name: Label, dtype: int64\n"
     ]
    },
    {
     "name": "stderr",
     "output_type": "stream",
     "text": [
      "C:\\Users\\Bhargavi\\anaconda3\\lib\\site-packages\\sklearn\\metrics\\_classification.py:1318: UndefinedMetricWarning: Precision is ill-defined and being set to 0.0 in labels with no predicted samples. Use `zero_division` parameter to control this behavior.\n",
      "  _warn_prf(average, modifier, msg_start, len(result))\n",
      "C:\\Users\\Bhargavi\\anaconda3\\lib\\site-packages\\sklearn\\metrics\\_classification.py:1318: UndefinedMetricWarning: Recall is ill-defined and being set to 0.0 in labels with no true samples. Use `zero_division` parameter to control this behavior.\n",
      "  _warn_prf(average, modifier, msg_start, len(result))\n",
      "C:\\Users\\Bhargavi\\AppData\\Local\\Temp\\ipykernel_21392\\255523458.py:21: FutureWarning: In a future version of pandas all arguments of DataFrame.drop except for the argument 'labels' will be keyword-only.\n",
      "  df2.drop(df2.columns.difference(['Node',degree_cent]), 1, inplace=True)\n"
     ]
    },
    {
     "name": "stdout",
     "output_type": "stream",
     "text": [
      "1     177\n",
      "3       5\n",
      "2       5\n",
      "5       2\n",
      "9       1\n",
      "4       1\n",
      "6       1\n",
      "21      1\n",
      "Name: Label, dtype: int64\n"
     ]
    },
    {
     "name": "stderr",
     "output_type": "stream",
     "text": [
      "C:\\Users\\Bhargavi\\anaconda3\\lib\\site-packages\\sklearn\\metrics\\_classification.py:1318: UndefinedMetricWarning: Precision is ill-defined and being set to 0.0 in labels with no predicted samples. Use `zero_division` parameter to control this behavior.\n",
      "  _warn_prf(average, modifier, msg_start, len(result))\n",
      "C:\\Users\\Bhargavi\\anaconda3\\lib\\site-packages\\sklearn\\metrics\\_classification.py:1318: UndefinedMetricWarning: Recall is ill-defined and being set to 0.0 in labels with no true samples. Use `zero_division` parameter to control this behavior.\n",
      "  _warn_prf(average, modifier, msg_start, len(result))\n",
      "C:\\Users\\Bhargavi\\AppData\\Local\\Temp\\ipykernel_21392\\255523458.py:21: FutureWarning: In a future version of pandas all arguments of DataFrame.drop except for the argument 'labels' will be keyword-only.\n",
      "  df2.drop(df2.columns.difference(['Node',degree_cent]), 1, inplace=True)\n"
     ]
    },
    {
     "name": "stdout",
     "output_type": "stream",
     "text": [
      "1     172\n",
      "2       6\n",
      "4       4\n",
      "3       4\n",
      "7       2\n",
      "13      1\n",
      "6       1\n",
      "8       1\n",
      "5       1\n",
      "31      1\n",
      "Name: Label, dtype: int64\n"
     ]
    },
    {
     "name": "stderr",
     "output_type": "stream",
     "text": [
      "C:\\Users\\Bhargavi\\anaconda3\\lib\\site-packages\\sklearn\\metrics\\_classification.py:1318: UndefinedMetricWarning: Precision is ill-defined and being set to 0.0 in labels with no predicted samples. Use `zero_division` parameter to control this behavior.\n",
      "  _warn_prf(average, modifier, msg_start, len(result))\n",
      "C:\\Users\\Bhargavi\\anaconda3\\lib\\site-packages\\sklearn\\metrics\\_classification.py:1318: UndefinedMetricWarning: Recall is ill-defined and being set to 0.0 in labels with no true samples. Use `zero_division` parameter to control this behavior.\n",
      "  _warn_prf(average, modifier, msg_start, len(result))\n",
      "C:\\Users\\Bhargavi\\AppData\\Local\\Temp\\ipykernel_21392\\255523458.py:21: FutureWarning: In a future version of pandas all arguments of DataFrame.drop except for the argument 'labels' will be keyword-only.\n",
      "  df2.drop(df2.columns.difference(['Node',degree_cent]), 1, inplace=True)\n"
     ]
    },
    {
     "name": "stdout",
     "output_type": "stream",
     "text": [
      "1     158\n",
      "2      19\n",
      "5       3\n",
      "3       3\n",
      "6       2\n",
      "4       2\n",
      "17      1\n",
      "8       1\n",
      "11      1\n",
      "9       1\n",
      "41      1\n",
      "10      1\n",
      "Name: Label, dtype: int64\n"
     ]
    },
    {
     "name": "stderr",
     "output_type": "stream",
     "text": [
      "C:\\Users\\Bhargavi\\anaconda3\\lib\\site-packages\\sklearn\\metrics\\_classification.py:1318: UndefinedMetricWarning: Precision is ill-defined and being set to 0.0 in labels with no predicted samples. Use `zero_division` parameter to control this behavior.\n",
      "  _warn_prf(average, modifier, msg_start, len(result))\n",
      "C:\\Users\\Bhargavi\\anaconda3\\lib\\site-packages\\sklearn\\metrics\\_classification.py:1318: UndefinedMetricWarning: Recall is ill-defined and being set to 0.0 in labels with no true samples. Use `zero_division` parameter to control this behavior.\n",
      "  _warn_prf(average, modifier, msg_start, len(result))\n",
      "C:\\Users\\Bhargavi\\AppData\\Local\\Temp\\ipykernel_21392\\255523458.py:21: FutureWarning: In a future version of pandas all arguments of DataFrame.drop except for the argument 'labels' will be keyword-only.\n",
      "  df2.drop(df2.columns.difference(['Node',degree_cent]), 1, inplace=True)\n"
     ]
    },
    {
     "name": "stdout",
     "output_type": "stream",
     "text": [
      "1     141\n",
      "2      35\n",
      "6       3\n",
      "4       3\n",
      "5       2\n",
      "21      1\n",
      "9       1\n",
      "13      1\n",
      "11      1\n",
      "8       1\n",
      "51      1\n",
      "7       1\n",
      "12      1\n",
      "3       1\n",
      "Name: Label, dtype: int64\n"
     ]
    },
    {
     "name": "stderr",
     "output_type": "stream",
     "text": [
      "C:\\Users\\Bhargavi\\anaconda3\\lib\\site-packages\\sklearn\\metrics\\_classification.py:1318: UndefinedMetricWarning: Precision is ill-defined and being set to 0.0 in labels with no predicted samples. Use `zero_division` parameter to control this behavior.\n",
      "  _warn_prf(average, modifier, msg_start, len(result))\n",
      "C:\\Users\\Bhargavi\\AppData\\Local\\Temp\\ipykernel_21392\\255523458.py:21: FutureWarning: In a future version of pandas all arguments of DataFrame.drop except for the argument 'labels' will be keyword-only.\n",
      "  df2.drop(df2.columns.difference(['Node',degree_cent]), 1, inplace=True)\n"
     ]
    },
    {
     "name": "stdout",
     "output_type": "stream",
     "text": [
      "1     116\n",
      "2      56\n",
      "3       5\n",
      "7       3\n",
      "6       2\n",
      "5       2\n",
      "25      1\n",
      "11      1\n",
      "16      1\n",
      "13      1\n",
      "9       1\n",
      "61      1\n",
      "8       1\n",
      "4       1\n",
      "14      1\n",
      "Name: Label, dtype: int64\n"
     ]
    },
    {
     "name": "stderr",
     "output_type": "stream",
     "text": [
      "C:\\Users\\Bhargavi\\anaconda3\\lib\\site-packages\\sklearn\\metrics\\_classification.py:1318: UndefinedMetricWarning: Precision is ill-defined and being set to 0.0 in labels with no predicted samples. Use `zero_division` parameter to control this behavior.\n",
      "  _warn_prf(average, modifier, msg_start, len(result))\n",
      "C:\\Users\\Bhargavi\\anaconda3\\lib\\site-packages\\sklearn\\metrics\\_classification.py:1318: UndefinedMetricWarning: Recall is ill-defined and being set to 0.0 in labels with no true samples. Use `zero_division` parameter to control this behavior.\n",
      "  _warn_prf(average, modifier, msg_start, len(result))\n",
      "C:\\Users\\Bhargavi\\AppData\\Local\\Temp\\ipykernel_21392\\255523458.py:21: FutureWarning: In a future version of pandas all arguments of DataFrame.drop except for the argument 'labels' will be keyword-only.\n",
      "  df2.drop(df2.columns.difference(['Node',degree_cent]), 1, inplace=True)\n"
     ]
    },
    {
     "name": "stdout",
     "output_type": "stream",
     "text": [
      "1     105\n",
      "2      63\n",
      "3       8\n",
      "8       3\n",
      "7       2\n",
      "6       2\n",
      "29      1\n",
      "13      1\n",
      "18      1\n",
      "15      1\n",
      "11      1\n",
      "70      1\n",
      "10      1\n",
      "5       1\n",
      "17      1\n",
      "4       1\n",
      "Name: Label, dtype: int64\n"
     ]
    },
    {
     "name": "stderr",
     "output_type": "stream",
     "text": [
      "C:\\Users\\Bhargavi\\anaconda3\\lib\\site-packages\\sklearn\\metrics\\_classification.py:1318: UndefinedMetricWarning: Precision is ill-defined and being set to 0.0 in labels with no predicted samples. Use `zero_division` parameter to control this behavior.\n",
      "  _warn_prf(average, modifier, msg_start, len(result))\n",
      "C:\\Users\\Bhargavi\\anaconda3\\lib\\site-packages\\sklearn\\metrics\\_classification.py:1318: UndefinedMetricWarning: Recall is ill-defined and being set to 0.0 in labels with no true samples. Use `zero_division` parameter to control this behavior.\n",
      "  _warn_prf(average, modifier, msg_start, len(result))\n",
      "C:\\Users\\Bhargavi\\AppData\\Local\\Temp\\ipykernel_21392\\255523458.py:21: FutureWarning: In a future version of pandas all arguments of DataFrame.drop except for the argument 'labels' will be keyword-only.\n",
      "  df2.drop(df2.columns.difference(['Node',degree_cent]), 1, inplace=True)\n"
     ]
    },
    {
     "name": "stdout",
     "output_type": "stream",
     "text": [
      "1     97\n",
      "2     61\n",
      "3     18\n",
      "6      3\n",
      "10     2\n",
      "8      2\n",
      "33     1\n",
      "15     1\n",
      "21     1\n",
      "9      1\n",
      "17     1\n",
      "12     1\n",
      "81     1\n",
      "11     1\n",
      "19     1\n",
      "4      1\n",
      "Name: Label, dtype: int64\n"
     ]
    },
    {
     "name": "stderr",
     "output_type": "stream",
     "text": [
      "C:\\Users\\Bhargavi\\anaconda3\\lib\\site-packages\\sklearn\\metrics\\_classification.py:1318: UndefinedMetricWarning: Precision is ill-defined and being set to 0.0 in labels with no predicted samples. Use `zero_division` parameter to control this behavior.\n",
      "  _warn_prf(average, modifier, msg_start, len(result))\n",
      "C:\\Users\\Bhargavi\\anaconda3\\lib\\site-packages\\sklearn\\metrics\\_classification.py:1318: UndefinedMetricWarning: Recall is ill-defined and being set to 0.0 in labels with no true samples. Use `zero_division` parameter to control this behavior.\n",
      "  _warn_prf(average, modifier, msg_start, len(result))\n",
      "C:\\Users\\Bhargavi\\AppData\\Local\\Temp\\ipykernel_21392\\255523458.py:21: FutureWarning: In a future version of pandas all arguments of DataFrame.drop except for the argument 'labels' will be keyword-only.\n",
      "  df2.drop(df2.columns.difference(['Node',degree_cent]), 1, inplace=True)\n"
     ]
    },
    {
     "name": "stdout",
     "output_type": "stream",
     "text": [
      "1     88\n",
      "2     54\n",
      "3     30\n",
      "4      4\n",
      "7      2\n",
      "9      2\n",
      "11     2\n",
      "14     1\n",
      "91     1\n",
      "12     1\n",
      "16     1\n",
      "6      1\n",
      "21     1\n",
      "19     1\n",
      "5      1\n",
      "10     1\n",
      "23     1\n",
      "37     1\n",
      "Name: Label, dtype: int64\n"
     ]
    },
    {
     "name": "stderr",
     "output_type": "stream",
     "text": [
      "C:\\Users\\Bhargavi\\anaconda3\\lib\\site-packages\\sklearn\\metrics\\_classification.py:1318: UndefinedMetricWarning: Precision is ill-defined and being set to 0.0 in labels with no predicted samples. Use `zero_division` parameter to control this behavior.\n",
      "  _warn_prf(average, modifier, msg_start, len(result))\n",
      "C:\\Users\\Bhargavi\\anaconda3\\lib\\site-packages\\sklearn\\metrics\\_classification.py:1318: UndefinedMetricWarning: Recall is ill-defined and being set to 0.0 in labels with no true samples. Use `zero_division` parameter to control this behavior.\n",
      "  _warn_prf(average, modifier, msg_start, len(result))\n",
      "C:\\Users\\Bhargavi\\AppData\\Local\\Temp\\ipykernel_21392\\255523458.py:21: FutureWarning: In a future version of pandas all arguments of DataFrame.drop except for the argument 'labels' will be keyword-only.\n",
      "  df2.drop(df2.columns.difference(['Node',degree_cent]), 1, inplace=True)\n"
     ]
    },
    {
     "name": "stdout",
     "output_type": "stream",
     "text": [
      "1      80\n",
      "2      61\n",
      "3      28\n",
      "4       7\n",
      "8       2\n",
      "10      2\n",
      "12      2\n",
      "15      1\n",
      "101     1\n",
      "14      1\n",
      "18      1\n",
      "7       1\n",
      "24      1\n",
      "21      1\n",
      "5       1\n",
      "11      1\n",
      "26      1\n",
      "41      1\n",
      "Name: Label, dtype: int64\n"
     ]
    },
    {
     "name": "stderr",
     "output_type": "stream",
     "text": [
      "C:\\Users\\Bhargavi\\anaconda3\\lib\\site-packages\\sklearn\\metrics\\_classification.py:1318: UndefinedMetricWarning: Precision is ill-defined and being set to 0.0 in labels with no predicted samples. Use `zero_division` parameter to control this behavior.\n",
      "  _warn_prf(average, modifier, msg_start, len(result))\n",
      "C:\\Users\\Bhargavi\\anaconda3\\lib\\site-packages\\sklearn\\metrics\\_classification.py:1318: UndefinedMetricWarning: Recall is ill-defined and being set to 0.0 in labels with no true samples. Use `zero_division` parameter to control this behavior.\n",
      "  _warn_prf(average, modifier, msg_start, len(result))\n"
     ]
    }
   ],
   "source": [
    "import pandas as pd\n",
    "import numpy as np\n",
    "import math\n",
    "from sklearn.model_selection import train_test_split\n",
    "from sklearn.metrics import accuracy_score\n",
    "from sklearn.metrics import precision_score\n",
    "from sklearn.metrics import recall_score,f1_score\n",
    "\n",
    "def main(sirfile,centfile,degree_cent):\n",
    "    label=[2,5,10,20,30,40,50,60,70,80,90,100]\n",
    "    fin_dict={}\n",
    "    fin_prec={}\n",
    "    fin_rec={}\n",
    "    fin_f1={}\n",
    "    for z in label:\n",
    "        df=pd.read_csv(sirfile)\n",
    "        df['SIR_IC']=(df['infSIR']+df['infIC'])/2\n",
    "        df1=df.drop(['infSIR','infIC','beta'],axis=1)\n",
    "        df1.rename(columns = {'vertex':'Node'}, inplace = True)\n",
    "        df2 = pd.read_csv(centfile)\n",
    "        df2.drop(df2.columns.difference(['Node',degree_cent]), 1, inplace=True)\n",
    "        def labelling1(x,N):\n",
    "            minscale=df2[degree_cent].min()\n",
    "            maxscale=df2[degree_cent].max()\n",
    "            rang=(maxscale-minscale)/N\n",
    "            label=math.floor((x-minscale)//rang)+1\n",
    "            return label\n",
    "        df2['Label'] =df2.apply(lambda row:labelling1(row[degree_cent],z),axis=1)\n",
    "        df3=pd.merge(df1,df2)\n",
    "        X = df3.iloc[:, :-1]\n",
    "        y = df3.iloc[:, -1]\n",
    "        X_train, X_test, y_train, y_test = train_test_split(X, y, test_size=0.30,random_state=0)\n",
    "        df4=X_test\n",
    "        df4['Label']=list(y_test)\n",
    "        l=dict(df4['Label'].value_counts())\n",
    "        s = {k : l[k] for k in sorted(l,reverse=True)}\n",
    "        x1=[]\n",
    "        k=list(s.keys())\n",
    "        sum1=0\n",
    "        for i in k:\n",
    "            sum1 = sum1+s[i]\n",
    "            x=sum1/sum(s.values())\n",
    "            x1.append(x)\n",
    "        df5=df4.sort_values('SIR_IC',ascending=False)\n",
    "        l=[]\n",
    "        for i in range(1,len(df5)+1):\n",
    "            l.append(i)\n",
    "        df5['Rank']=l\n",
    "        df5['Rank']=df5['Rank']/len(df5)\n",
    "        l1=list(df5['Rank'])\n",
    "        l2=map(lambda x:x*1000,l1)\n",
    "        l3=[]\n",
    "        for i in l2:\n",
    "            l3.append(round(i,2))\n",
    "        df5=df5.drop(['Rank'],axis=1)\n",
    "        df5['Rank']=l3\n",
    "        x2=map(lambda x:x*1000,x1)\n",
    "        x3=[]\n",
    "        for i in x2:\n",
    "            x3.append(i)\n",
    "        x3=x3[::-1]\n",
    "        x3.append(0.0)\n",
    "        x3[0]=1001.0\n",
    "        x4=[]\n",
    "        for x in x3:\n",
    "            x4.append(round(x,2))\n",
    "        res = list(zip(x4, x4[1:]))\n",
    "        dict_res={}\n",
    "        k=1\n",
    "        for i in res:\n",
    "            dict_res[k]=list(i)\n",
    "            k+=1\n",
    "        lis=[]\n",
    "        for j in dict_res.values():\n",
    "            x=list(np.arange(j[1],j[0],0.01))\n",
    "            lis.append(x)\n",
    "        lis_2=[]\n",
    "        for i in lis:\n",
    "            new_list = list(np.around(np.array(i), 2))\n",
    "            lis_2.append(new_list)\n",
    "        def pred_label(rank):\n",
    "            lab=0\n",
    "            for l in lis_2:\n",
    "                if rank in l:\n",
    "                    lab=(lis_2.index(l))+1\n",
    "            return lab\n",
    "        df5['Predicted_Label'] =df5.apply(lambda row:pred_label(row['Rank']),axis=1)\n",
    "        y_pred = list(df5['Predicted_Label'])\n",
    "        y_true = list(df5['Label'])\n",
    "        print(df5['Label'].value_counts())\n",
    "        fin_res=accuracy_score(y_true, y_pred)\n",
    "        prec=precision_score(y_test, y_pred,average=\"macro\")\n",
    "        rec=recall_score(y_test, y_pred,average=\"macro\")\n",
    "        f1=f1_score(y_test, y_pred,average=\"macro\")\n",
    "        fin_dict[z]=fin_res\n",
    "        fin_prec[z]=prec\n",
    "        fin_rec[z]=rec\n",
    "        fin_f1[z]=f1\n",
    "    return fin_dict,fin_prec,fin_rec,fin_f1\n",
    "\n",
    "l1=['DC','B','C','CC','PR','KC','LRAD','GRAD','LRCC','GRACC','LRKC','GRAK']\n",
    "\n",
    "for i in range(0,len(l1)):\n",
    "    d1,d2,d3,d4=main(\"siricforall(web_0.2).csv\",\"centraltiesallverticetest_web(21-03-2023).csv\",l1[i])\n",
    "    new_list1 = list(d1.keys())\n",
    "    new_list2 = list(d1.values())\n",
    "    new_list3 = list(d2.values())\n",
    "    new_list4 = list(d3.values())\n",
    "    new_list5 = list(d4.values())\n",
    "    df=pd.DataFrame(list(zip(new_list1,new_list2,new_list3,new_list4,new_list5)),columns=['Labels','Accuracy','Precision','Recall','F1_score'\n",
    "                                                                                         ])\n",
    "    df.to_csv('{}.csv'.format(l1[i]))"
   ]
  },
  {
   "cell_type": "code",
   "execution_count": null,
   "metadata": {},
   "outputs": [],
   "source": []
  }
 ],
 "metadata": {
  "kernelspec": {
   "display_name": "Python 3",
   "language": "python",
   "name": "python3"
  },
  "language_info": {
   "codemirror_mode": {
    "name": "ipython",
    "version": 3
   },
   "file_extension": ".py",
   "mimetype": "text/x-python",
   "name": "python",
   "nbconvert_exporter": "python",
   "pygments_lexer": "ipython3",
   "version": "3.8.3"
  }
 },
 "nbformat": 4,
 "nbformat_minor": 5
}
